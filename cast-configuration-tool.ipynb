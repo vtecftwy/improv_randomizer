{
 "cells": [
  {
   "cell_type": "markdown",
   "metadata": {},
   "source": [
    "# Tool to update cast, games and prompt information\n",
    "\n",
    "- Run the fist cell.\n",
    "- Then run each other cell one by one, following the instructions provided each time.\n",
    "\n",
    "This tool guides you through updating cast members, games information and prompts to pick randomly."
   ]
  },
  {
   "cell_type": "code",
   "execution_count": 1,
   "metadata": {},
   "outputs": [],
   "source": [
    "%load_ext autoreload\n",
    "%autoreload 2\n",
    "from utils import WidgetCast, WidgetGames, WidgetPrompts"
   ]
  },
  {
   "cell_type": "code",
   "execution_count": 2,
   "metadata": {},
   "outputs": [
    {
     "data": {
      "application/vnd.jupyter.widget-view+json": {
       "model_id": "b5f9b307f30e42a5bcdfe2171e93e9bc",
       "version_major": 2,
       "version_minor": 0
      },
      "text/plain": [
       "HTML(value='<p style=\"color:#00BCD4; font-size:3em; font-weight:bold\">Update, add, delete cast members:</p>')"
      ]
     },
     "metadata": {},
     "output_type": "display_data"
    },
    {
     "data": {
      "application/vnd.jupyter.widget-view+json": {
       "model_id": "071967a6b78f4d78ba88e56c68e12cde",
       "version_major": 2,
       "version_minor": 0
      },
      "text/plain": [
       "HTML(value='<p style=\"color:#000000; font-size:1.25em; font-weight:normal\">All names must be separated with a …"
      ]
     },
     "metadata": {},
     "output_type": "display_data"
    },
    {
     "data": {
      "application/vnd.jupyter.widget-view+json": {
       "model_id": "e5a389f9a0354f6b903ce266bb2692b0",
       "version_major": 2,
       "version_minor": 0
      },
      "text/plain": [
       "Text(value='Chris, Etienne, Grace, Knick, Punk, Serena, Yirong', description='Cast', layout=Layout(width='75%'…"
      ]
     },
     "metadata": {},
     "output_type": "display_data"
    },
    {
     "data": {
      "application/vnd.jupyter.widget-view+json": {
       "model_id": "0d6822534f8845cba0cf28a2b0a4ca5f",
       "version_major": 2,
       "version_minor": 0
      },
      "text/plain": [
       "Button(button_style='info', description='save', icon='check', style=ButtonStyle())"
      ]
     },
     "metadata": {},
     "output_type": "display_data"
    }
   ],
   "source": [
    "cast = WidgetCast()"
   ]
  },
  {
   "cell_type": "code",
   "execution_count": 3,
   "metadata": {
    "scrolled": false
   },
   "outputs": [
    {
     "data": {
      "application/vnd.jupyter.widget-view+json": {
       "model_id": "0446f05e768841abb085029cd24d41ad",
       "version_major": 2,
       "version_minor": 0
      },
      "text/plain": [
       "HTML(value='<p style=\"color:#00BCD4; font-size:3em; font-weight:bold\">Update, add or delete games below:</p>')"
      ]
     },
     "metadata": {},
     "output_type": "display_data"
    },
    {
     "data": {
      "application/vnd.jupyter.widget-view+json": {
       "model_id": "f61b5b9fd56545ada5013dbab634cc5f",
       "version_major": 2,
       "version_minor": 0
      },
      "text/plain": [
       "HTML(value='<p style=\"color:#000000; font-size:1.25em; font-weight:normal\"><p>Change the parameters of the gam…"
      ]
     },
     "metadata": {},
     "output_type": "display_data"
    },
    {
     "data": {
      "text/html": [
       "<hr>"
      ]
     },
     "metadata": {},
     "output_type": "display_data"
    },
    {
     "data": {
      "application/vnd.jupyter.widget-view+json": {
       "model_id": "4634a419087f486da8bea4c5c6a63ed9",
       "version_major": 2,
       "version_minor": 0
      },
      "text/plain": [
       "Text(value='TV Box', description=' 1:', layout=Layout(width='80%'))"
      ]
     },
     "metadata": {},
     "output_type": "display_data"
    },
    {
     "data": {
      "application/vnd.jupyter.widget-view+json": {
       "model_id": "6230e6b441f745d0a92ea968c5b50c1f",
       "version_major": 2,
       "version_minor": 0
      },
      "text/plain": [
       "Text(value='4', description='Nbr players:  ', layout=Layout(width='80%'))"
      ]
     },
     "metadata": {},
     "output_type": "display_data"
    },
    {
     "data": {
      "application/vnd.jupyter.widget-view+json": {
       "model_id": "b9e2d9a6b51945218b5bb0691d95519f",
       "version_major": 2,
       "version_minor": 0
      },
      "text/plain": [
       "Text(value='0', description='Nbr audience: ', layout=Layout(width='80%'))"
      ]
     },
     "metadata": {},
     "output_type": "display_data"
    },
    {
     "data": {
      "application/vnd.jupyter.widget-view+json": {
       "model_id": "fc6c6c0aa4814b5fb129d706a6a3b504",
       "version_major": 2,
       "version_minor": 0
      },
      "text/plain": [
       "Text(value='What are four of your favorite TV channels?', description='Prompt:', layout=Layout(width='80%'))"
      ]
     },
     "metadata": {},
     "output_type": "display_data"
    },
    {
     "data": {
      "application/vnd.jupyter.widget-view+json": {
       "model_id": "2a9703ed3c564f04a53b0e365aa985f4",
       "version_major": 2,
       "version_minor": 0
      },
      "text/plain": [
       "GridspecLayout(children=(Button(button_style='danger', description='Delete This Game', icon='check', layout=La…"
      ]
     },
     "metadata": {},
     "output_type": "display_data"
    },
    {
     "data": {
      "text/html": [
       "<hr>"
      ]
     },
     "metadata": {},
     "output_type": "display_data"
    },
    {
     "data": {
      "application/vnd.jupyter.widget-view+json": {
       "model_id": "08cc4a0afd8d408286313c0ff9be131b",
       "version_major": 2,
       "version_minor": 0
      },
      "text/plain": [
       "Text(value='Double Reverse Alphabet', description=' 2:', layout=Layout(width='80%'))"
      ]
     },
     "metadata": {},
     "output_type": "display_data"
    },
    {
     "data": {
      "application/vnd.jupyter.widget-view+json": {
       "model_id": "5cae476914b0410ab02949aa883151d8",
       "version_major": 2,
       "version_minor": 0
      },
      "text/plain": [
       "Text(value='2', description='Nbr players:  ', layout=Layout(width='80%'))"
      ]
     },
     "metadata": {},
     "output_type": "display_data"
    },
    {
     "data": {
      "application/vnd.jupyter.widget-view+json": {
       "model_id": "e3ffebefa5b9459cb3900b0d05c5507d",
       "version_major": 2,
       "version_minor": 0
      },
      "text/plain": [
       "Text(value='0', description='Nbr audience: ', layout=Layout(width='80%'))"
      ]
     },
     "metadata": {},
     "output_type": "display_data"
    },
    {
     "data": {
      "application/vnd.jupyter.widget-view+json": {
       "model_id": "dd8e0bfa6df34d6ca38a4ff6c7cc5162",
       "version_major": 2,
       "version_minor": 0
      },
      "text/plain": [
       "Text(value='A B C D E F G H I J K L M N O P Q R S T U V W X Y Z', description='Prompt:', layout=Layout(width='…"
      ]
     },
     "metadata": {},
     "output_type": "display_data"
    },
    {
     "data": {
      "application/vnd.jupyter.widget-view+json": {
       "model_id": "eaae60d34a2e41c7a54fcb0e9a524c0d",
       "version_major": 2,
       "version_minor": 0
      },
      "text/plain": [
       "GridspecLayout(children=(Button(button_style='danger', description='Delete This Game', icon='check', layout=La…"
      ]
     },
     "metadata": {},
     "output_type": "display_data"
    },
    {
     "data": {
      "text/html": [
       "<hr>"
      ]
     },
     "metadata": {},
     "output_type": "display_data"
    },
    {
     "data": {
      "application/vnd.jupyter.widget-view+json": {
       "model_id": "5cec3d2dba9446d18a5fa436e7d87d7a",
       "version_major": 2,
       "version_minor": 0
      },
      "text/plain": [
       "Text(value='Sure Ding', description=' 3:', layout=Layout(width='80%'))"
      ]
     },
     "metadata": {},
     "output_type": "display_data"
    },
    {
     "data": {
      "application/vnd.jupyter.widget-view+json": {
       "model_id": "993d1764633d4d278ec555eb38ca1d52",
       "version_major": 2,
       "version_minor": 0
      },
      "text/plain": [
       "Text(value='3', description='Nbr players:  ', layout=Layout(width='80%'))"
      ]
     },
     "metadata": {},
     "output_type": "display_data"
    },
    {
     "data": {
      "application/vnd.jupyter.widget-view+json": {
       "model_id": "64f20e456be040cc955fde985c938b0a",
       "version_major": 2,
       "version_minor": 0
      },
      "text/plain": [
       "Text(value='0', description='Nbr audience: ', layout=Layout(width='80%'))"
      ]
     },
     "metadata": {},
     "output_type": "display_data"
    },
    {
     "data": {
      "application/vnd.jupyter.widget-view+json": {
       "model_id": "1fde26dd341b45769e30d6ff5b3fcd7e",
       "version_major": 2,
       "version_minor": 0
      },
      "text/plain": [
       "Text(value='', description='Prompt:', layout=Layout(width='80%'))"
      ]
     },
     "metadata": {},
     "output_type": "display_data"
    },
    {
     "data": {
      "application/vnd.jupyter.widget-view+json": {
       "model_id": "5536ff22d2a74fa7bda5c1748ed3bedb",
       "version_major": 2,
       "version_minor": 0
      },
      "text/plain": [
       "GridspecLayout(children=(Button(button_style='danger', description='Delete This Game', icon='check', layout=La…"
      ]
     },
     "metadata": {},
     "output_type": "display_data"
    },
    {
     "data": {
      "text/html": [
       "<hr>"
      ]
     },
     "metadata": {},
     "output_type": "display_data"
    },
    {
     "data": {
      "application/vnd.jupyter.widget-view+json": {
       "model_id": "75633fb3de1b47638d413e3177952790",
       "version_major": 2,
       "version_minor": 0
      },
      "text/plain": [
       "Text(value='No Laughing', description=' 4:', layout=Layout(width='80%'))"
      ]
     },
     "metadata": {},
     "output_type": "display_data"
    },
    {
     "data": {
      "application/vnd.jupyter.widget-view+json": {
       "model_id": "0d7297d4718e4904b55a9318128c4b43",
       "version_major": 2,
       "version_minor": 0
      },
      "text/plain": [
       "Text(value='0', description='Nbr players:  ', layout=Layout(width='80%'))"
      ]
     },
     "metadata": {},
     "output_type": "display_data"
    },
    {
     "data": {
      "application/vnd.jupyter.widget-view+json": {
       "model_id": "2ac8dc110456462fa71e90b7df9702a3",
       "version_major": 2,
       "version_minor": 0
      },
      "text/plain": [
       "Text(value='0', description='Nbr audience: ', layout=Layout(width='80%'))"
      ]
     },
     "metadata": {},
     "output_type": "display_data"
    },
    {
     "data": {
      "application/vnd.jupyter.widget-view+json": {
       "model_id": "8fbcf42189654e478e472eea68bd6887",
       "version_major": 2,
       "version_minor": 0
      },
      "text/plain": [
       "Text(value='Something funny and something serious', description='Prompt:', layout=Layout(width='80%'))"
      ]
     },
     "metadata": {},
     "output_type": "display_data"
    },
    {
     "data": {
      "application/vnd.jupyter.widget-view+json": {
       "model_id": "13619cc9c2c64c9ba8148212c3d16f6e",
       "version_major": 2,
       "version_minor": 0
      },
      "text/plain": [
       "GridspecLayout(children=(Button(button_style='danger', description='Delete This Game', icon='check', layout=La…"
      ]
     },
     "metadata": {},
     "output_type": "display_data"
    },
    {
     "data": {
      "text/html": [
       "<hr>"
      ]
     },
     "metadata": {},
     "output_type": "display_data"
    },
    {
     "data": {
      "application/vnd.jupyter.widget-view+json": {
       "model_id": "e081ce9e031444388f5b5e738c16de75",
       "version_major": 2,
       "version_minor": 0
      },
      "text/plain": [
       "Text(value='More or Less', description=' 5:', layout=Layout(width='80%'))"
      ]
     },
     "metadata": {},
     "output_type": "display_data"
    },
    {
     "data": {
      "application/vnd.jupyter.widget-view+json": {
       "model_id": "9be27f226e33446090e8b58e2b650db8",
       "version_major": 2,
       "version_minor": 0
      },
      "text/plain": [
       "Text(value='3', description='Nbr players:  ', layout=Layout(width='80%'))"
      ]
     },
     "metadata": {},
     "output_type": "display_data"
    },
    {
     "data": {
      "application/vnd.jupyter.widget-view+json": {
       "model_id": "db28c81e6e2d46e8afb0d51b07d8e304",
       "version_major": 2,
       "version_minor": 0
      },
      "text/plain": [
       "Text(value='0', description='Nbr audience: ', layout=Layout(width='80%'))"
      ]
     },
     "metadata": {},
     "output_type": "display_data"
    },
    {
     "data": {
      "application/vnd.jupyter.widget-view+json": {
       "model_id": "29550348dce14a4bb50403333b0eaa88",
       "version_major": 2,
       "version_minor": 0
      },
      "text/plain": [
       "Text(value='An ordinary task you do everyday.', description='Prompt:', layout=Layout(width='80%'))"
      ]
     },
     "metadata": {},
     "output_type": "display_data"
    },
    {
     "data": {
      "application/vnd.jupyter.widget-view+json": {
       "model_id": "3ee2776e42484227bc17ce2eedd94151",
       "version_major": 2,
       "version_minor": 0
      },
      "text/plain": [
       "GridspecLayout(children=(Button(button_style='danger', description='Delete This Game', icon='check', layout=La…"
      ]
     },
     "metadata": {},
     "output_type": "display_data"
    },
    {
     "data": {
      "text/html": [
       "<hr>"
      ]
     },
     "metadata": {},
     "output_type": "display_data"
    },
    {
     "data": {
      "application/vnd.jupyter.widget-view+json": {
       "model_id": "2cb01215b33644b2b9ec4bd90193f2a8",
       "version_major": 2,
       "version_minor": 0
      },
      "text/plain": [
       "Text(value='Stunt Doubles', description=' 6:', layout=Layout(width='80%'))"
      ]
     },
     "metadata": {},
     "output_type": "display_data"
    },
    {
     "data": {
      "application/vnd.jupyter.widget-view+json": {
       "model_id": "dd0956c5b4f249f1a58f7ad2274ea8de",
       "version_major": 2,
       "version_minor": 0
      },
      "text/plain": [
       "Text(value='4', description='Nbr players:  ', layout=Layout(width='80%'))"
      ]
     },
     "metadata": {},
     "output_type": "display_data"
    },
    {
     "data": {
      "application/vnd.jupyter.widget-view+json": {
       "model_id": "a7117243941c419e938ba356e4467fc4",
       "version_major": 2,
       "version_minor": 0
      },
      "text/plain": [
       "Text(value='0', description='Nbr audience: ', layout=Layout(width='80%'))"
      ]
     },
     "metadata": {},
     "output_type": "display_data"
    },
    {
     "data": {
      "application/vnd.jupyter.widget-view+json": {
       "model_id": "ff27f153bdf348c1ba6cd7f645d24593",
       "version_major": 2,
       "version_minor": 0
      },
      "text/plain": [
       "Text(value='None', description='Prompt:', layout=Layout(width='80%'))"
      ]
     },
     "metadata": {},
     "output_type": "display_data"
    },
    {
     "data": {
      "application/vnd.jupyter.widget-view+json": {
       "model_id": "55316321a85443eea15a54078181a7ef",
       "version_major": 2,
       "version_minor": 0
      },
      "text/plain": [
       "GridspecLayout(children=(Button(button_style='danger', description='Delete This Game', icon='check', layout=La…"
      ]
     },
     "metadata": {},
     "output_type": "display_data"
    },
    {
     "data": {
      "text/html": [
       "<hr>"
      ]
     },
     "metadata": {},
     "output_type": "display_data"
    },
    {
     "data": {
      "application/vnd.jupyter.widget-view+json": {
       "model_id": "ab3087f9658c4b8983535811ffb05662",
       "version_major": 2,
       "version_minor": 0
      },
      "text/plain": [
       "Text(value='Pillars', description=' 7:', layout=Layout(width='80%'))"
      ]
     },
     "metadata": {},
     "output_type": "display_data"
    },
    {
     "data": {
      "application/vnd.jupyter.widget-view+json": {
       "model_id": "38f68cddceb941459919c3ec53404962",
       "version_major": 2,
       "version_minor": 0
      },
      "text/plain": [
       "Text(value='2', description='Nbr players:  ', layout=Layout(width='80%'))"
      ]
     },
     "metadata": {},
     "output_type": "display_data"
    },
    {
     "data": {
      "application/vnd.jupyter.widget-view+json": {
       "model_id": "b8b922ba511b4cf2b3241bc960f4c865",
       "version_major": 2,
       "version_minor": 0
      },
      "text/plain": [
       "Text(value='2', description='Nbr audience: ', layout=Layout(width='80%'))"
      ]
     },
     "metadata": {},
     "output_type": "display_data"
    },
    {
     "data": {
      "application/vnd.jupyter.widget-view+json": {
       "model_id": "bfcdac99c94a436da9b85122d5401cac",
       "version_major": 2,
       "version_minor": 0
      },
      "text/plain": [
       "Text(value='Two audience volunteers.', description='Prompt:', layout=Layout(width='80%'))"
      ]
     },
     "metadata": {},
     "output_type": "display_data"
    },
    {
     "data": {
      "application/vnd.jupyter.widget-view+json": {
       "model_id": "dec7794a00d34e15aa9ddb0519e06d0b",
       "version_major": 2,
       "version_minor": 0
      },
      "text/plain": [
       "GridspecLayout(children=(Button(button_style='danger', description='Delete This Game', icon='check', layout=La…"
      ]
     },
     "metadata": {},
     "output_type": "display_data"
    },
    {
     "data": {
      "text/html": [
       "<hr>"
      ]
     },
     "metadata": {},
     "output_type": "display_data"
    },
    {
     "data": {
      "application/vnd.jupyter.widget-view+json": {
       "model_id": "67337545cd3a4701a392ca35b4d69871",
       "version_major": 2,
       "version_minor": 0
      },
      "text/plain": [
       "Text(value='Do You Have a Receipt?', description=' 8:', layout=Layout(width='80%'))"
      ]
     },
     "metadata": {},
     "output_type": "display_data"
    },
    {
     "data": {
      "application/vnd.jupyter.widget-view+json": {
       "model_id": "514bfd99ebb74c12affa1de30b70775b",
       "version_major": 2,
       "version_minor": 0
      },
      "text/plain": [
       "Text(value='4', description='Nbr players:  ', layout=Layout(width='80%'))"
      ]
     },
     "metadata": {},
     "output_type": "display_data"
    },
    {
     "data": {
      "application/vnd.jupyter.widget-view+json": {
       "model_id": "1d60600cbfd7425ca0612af10aa3c4f4",
       "version_major": 2,
       "version_minor": 0
      },
      "text/plain": [
       "Text(value='0', description='Nbr audience: ', layout=Layout(width='80%'))"
      ]
     },
     "metadata": {},
     "output_type": "display_data"
    },
    {
     "data": {
      "application/vnd.jupyter.widget-view+json": {
       "model_id": "0a7ca8f6b3d2408b94f12564c922a3b8",
       "version_major": 2,
       "version_minor": 0
      },
      "text/plain": [
       "Text(value='How many products can we return in 1.5 minutes?', description='Prompt:', layout=Layout(width='80%'…"
      ]
     },
     "metadata": {},
     "output_type": "display_data"
    },
    {
     "data": {
      "application/vnd.jupyter.widget-view+json": {
       "model_id": "187566b755db4250bb92411eb2dd69b9",
       "version_major": 2,
       "version_minor": 0
      },
      "text/plain": [
       "GridspecLayout(children=(Button(button_style='danger', description='Delete This Game', icon='check', layout=La…"
      ]
     },
     "metadata": {},
     "output_type": "display_data"
    },
    {
     "data": {
      "text/html": [
       "<hr>"
      ]
     },
     "metadata": {},
     "output_type": "display_data"
    },
    {
     "data": {
      "application/vnd.jupyter.widget-view+json": {
       "model_id": "79307993be4046e2bdd3b2ed78317168",
       "version_major": 2,
       "version_minor": 0
      },
      "text/plain": [
       "Text(value='A Date with Me', description=' 9:', layout=Layout(width='80%'))"
      ]
     },
     "metadata": {},
     "output_type": "display_data"
    },
    {
     "data": {
      "application/vnd.jupyter.widget-view+json": {
       "model_id": "ff25e58935654233a2ba92b39ad41de1",
       "version_major": 2,
       "version_minor": 0
      },
      "text/plain": [
       "Text(value='0', description='Nbr players:  ', layout=Layout(width='80%'))"
      ]
     },
     "metadata": {},
     "output_type": "display_data"
    },
    {
     "data": {
      "application/vnd.jupyter.widget-view+json": {
       "model_id": "b820782ad6bc41e3ad89fefab5a724df",
       "version_major": 2,
       "version_minor": 0
      },
      "text/plain": [
       "Text(value='0', description='Nbr audience: ', layout=Layout(width='80%'))"
      ]
     },
     "metadata": {},
     "output_type": "display_data"
    },
    {
     "data": {
      "application/vnd.jupyter.widget-view+json": {
       "model_id": "2eded5de9db14f5c8b1d5f6b963a38b3",
       "version_major": 2,
       "version_minor": 0
      },
      "text/plain": [
       "Text(value='A date with me is like <object/occupation>.', description='Prompt:', layout=Layout(width='80%'))"
      ]
     },
     "metadata": {},
     "output_type": "display_data"
    },
    {
     "data": {
      "application/vnd.jupyter.widget-view+json": {
       "model_id": "5482c57d79c74bcc8e5490d63dc007d8",
       "version_major": 2,
       "version_minor": 0
      },
      "text/plain": [
       "GridspecLayout(children=(Button(button_style='danger', description='Delete This Game', icon='check', layout=La…"
      ]
     },
     "metadata": {},
     "output_type": "display_data"
    },
    {
     "data": {
      "text/html": [
       "<hr>"
      ]
     },
     "metadata": {},
     "output_type": "display_data"
    },
    {
     "data": {
      "application/vnd.jupyter.widget-view+json": {
       "model_id": "e3b8bcafba9440dc98390787651537e7",
       "version_major": 2,
       "version_minor": 0
      },
      "text/plain": [
       "Text(value='Questions Only', description='10:', layout=Layout(width='80%'))"
      ]
     },
     "metadata": {},
     "output_type": "display_data"
    },
    {
     "data": {
      "application/vnd.jupyter.widget-view+json": {
       "model_id": "c0e7c50bd808432a8d063f0658b05d38",
       "version_major": 2,
       "version_minor": 0
      },
      "text/plain": [
       "Text(value='0', description='Nbr players:  ', layout=Layout(width='80%'))"
      ]
     },
     "metadata": {},
     "output_type": "display_data"
    },
    {
     "data": {
      "application/vnd.jupyter.widget-view+json": {
       "model_id": "35d83fb2261940588ba1e882479c07f0",
       "version_major": 2,
       "version_minor": 0
      },
      "text/plain": [
       "Text(value='0', description='Nbr audience: ', layout=Layout(width='80%'))"
      ]
     },
     "metadata": {},
     "output_type": "display_data"
    },
    {
     "data": {
      "application/vnd.jupyter.widget-view+json": {
       "model_id": "40f51373a9384ada9fef12595eec7362",
       "version_major": 2,
       "version_minor": 0
      },
      "text/plain": [
       "Text(value='None', description='Prompt:', layout=Layout(width='80%'))"
      ]
     },
     "metadata": {},
     "output_type": "display_data"
    },
    {
     "data": {
      "application/vnd.jupyter.widget-view+json": {
       "model_id": "7b9bf9465090458bbe68643366281952",
       "version_major": 2,
       "version_minor": 0
      },
      "text/plain": [
       "GridspecLayout(children=(Button(button_style='danger', description='Delete This Game', icon='check', layout=La…"
      ]
     },
     "metadata": {},
     "output_type": "display_data"
    },
    {
     "data": {
      "text/html": [
       "<hr>"
      ]
     },
     "metadata": {},
     "output_type": "display_data"
    },
    {
     "data": {
      "application/vnd.jupyter.widget-view+json": {
       "model_id": "763f94d1d7b840eda2ea3677f846c1e2",
       "version_major": 2,
       "version_minor": 0
      },
      "text/plain": [
       "Text(value='Highlander', description='11:', layout=Layout(width='80%'))"
      ]
     },
     "metadata": {},
     "output_type": "display_data"
    },
    {
     "data": {
      "application/vnd.jupyter.widget-view+json": {
       "model_id": "04befabaa8c14247bd0e7806abc3b693",
       "version_major": 2,
       "version_minor": 0
      },
      "text/plain": [
       "Text(value='4', description='Nbr players:  ', layout=Layout(width='80%'))"
      ]
     },
     "metadata": {},
     "output_type": "display_data"
    },
    {
     "data": {
      "application/vnd.jupyter.widget-view+json": {
       "model_id": "eb3c9c73768e42e89d5b91f1f08dac39",
       "version_major": 2,
       "version_minor": 0
      },
      "text/plain": [
       "Text(value='0', description='Nbr audience: ', layout=Layout(width='80%'))"
      ]
     },
     "metadata": {},
     "output_type": "display_data"
    },
    {
     "data": {
      "application/vnd.jupyter.widget-view+json": {
       "model_id": "3dcc234115aa4b88ad9655d58df0dc9a",
       "version_major": 2,
       "version_minor": 0
      },
      "text/plain": [
       "Text(value='None', description='Prompt:', layout=Layout(width='80%'))"
      ]
     },
     "metadata": {},
     "output_type": "display_data"
    },
    {
     "data": {
      "application/vnd.jupyter.widget-view+json": {
       "model_id": "b31e3ac2b28144bb94759a2431ba15e1",
       "version_major": 2,
       "version_minor": 0
      },
      "text/plain": [
       "GridspecLayout(children=(Button(button_style='danger', description='Delete This Game', icon='check', layout=La…"
      ]
     },
     "metadata": {},
     "output_type": "display_data"
    },
    {
     "data": {
      "text/html": [
       "<hr>"
      ]
     },
     "metadata": {},
     "output_type": "display_data"
    },
    {
     "data": {
      "application/vnd.jupyter.widget-view+json": {
       "model_id": "9796c1fbc5fb47149da44ea791f89ef3",
       "version_major": 2,
       "version_minor": 0
      },
      "text/plain": [
       "Text(value='Genres', description='12:', layout=Layout(width='80%'))"
      ]
     },
     "metadata": {},
     "output_type": "display_data"
    },
    {
     "data": {
      "application/vnd.jupyter.widget-view+json": {
       "model_id": "b7555289fbbc460ebb9bc8cfd704bcd3",
       "version_major": 2,
       "version_minor": 0
      },
      "text/plain": [
       "Text(value='3', description='Nbr players:  ', layout=Layout(width='80%'))"
      ]
     },
     "metadata": {},
     "output_type": "display_data"
    },
    {
     "data": {
      "application/vnd.jupyter.widget-view+json": {
       "model_id": "88b0f217855f4ca991b1526c2782fa53",
       "version_major": 2,
       "version_minor": 0
      },
      "text/plain": [
       "Text(value='0', description='Nbr audience: ', layout=Layout(width='80%'))"
      ]
     },
     "metadata": {},
     "output_type": "display_data"
    },
    {
     "data": {
      "application/vnd.jupyter.widget-view+json": {
       "model_id": "e22499bec315411d95f7ed4b08e8ac5e",
       "version_major": 2,
       "version_minor": 0
      },
      "text/plain": [
       "Text(value='At least three story genres.', description='Prompt:', layout=Layout(width='80%'))"
      ]
     },
     "metadata": {},
     "output_type": "display_data"
    },
    {
     "data": {
      "application/vnd.jupyter.widget-view+json": {
       "model_id": "e559b4dffa994deba2b347c5a26549c9",
       "version_major": 2,
       "version_minor": 0
      },
      "text/plain": [
       "GridspecLayout(children=(Button(button_style='danger', description='Delete This Game', icon='check', layout=La…"
      ]
     },
     "metadata": {},
     "output_type": "display_data"
    },
    {
     "data": {
      "text/html": [
       "<hr>"
      ]
     },
     "metadata": {},
     "output_type": "display_data"
    },
    {
     "data": {
      "application/vnd.jupyter.widget-view+json": {
       "model_id": "d3084c39350345a8b775ac505d6d7c08",
       "version_major": 2,
       "version_minor": 0
      },
      "text/plain": [
       "Text(value='Headphones', description='13:', layout=Layout(width='80%'))"
      ]
     },
     "metadata": {},
     "output_type": "display_data"
    },
    {
     "data": {
      "application/vnd.jupyter.widget-view+json": {
       "model_id": "5e7b786b05bd4672a51bcf475d79a86c",
       "version_major": 2,
       "version_minor": 0
      },
      "text/plain": [
       "Text(value='3', description='Nbr players:  ', layout=Layout(width='80%'))"
      ]
     },
     "metadata": {},
     "output_type": "display_data"
    },
    {
     "data": {
      "application/vnd.jupyter.widget-view+json": {
       "model_id": "657c90ce89c4441f8e1f76a33e51f0e0",
       "version_major": 2,
       "version_minor": 0
      },
      "text/plain": [
       "Text(value='0', description='Nbr audience: ', layout=Layout(width='80%'))"
      ]
     },
     "metadata": {},
     "output_type": "display_data"
    },
    {
     "data": {
      "application/vnd.jupyter.widget-view+json": {
       "model_id": "3ca307a4e99d416f86cb1194fab93424",
       "version_major": 2,
       "version_minor": 0
      },
      "text/plain": [
       "Text(value='None', description='Prompt:', layout=Layout(width='80%'))"
      ]
     },
     "metadata": {},
     "output_type": "display_data"
    },
    {
     "data": {
      "application/vnd.jupyter.widget-view+json": {
       "model_id": "6198c1745580426baf49bffc0e152725",
       "version_major": 2,
       "version_minor": 0
      },
      "text/plain": [
       "GridspecLayout(children=(Button(button_style='danger', description='Delete This Game', icon='check', layout=La…"
      ]
     },
     "metadata": {},
     "output_type": "display_data"
    },
    {
     "data": {
      "text/html": [
       "<hr>"
      ]
     },
     "metadata": {},
     "output_type": "display_data"
    },
    {
     "data": {
      "application/vnd.jupyter.widget-view+json": {
       "model_id": "b575e08f72704ac69c983a2f07f4bdd2",
       "version_major": 2,
       "version_minor": 0
      },
      "text/plain": [
       "Text(value='Sit, Stand, Lie', description='14:', layout=Layout(width='80%'))"
      ]
     },
     "metadata": {},
     "output_type": "display_data"
    },
    {
     "data": {
      "application/vnd.jupyter.widget-view+json": {
       "model_id": "49f4d1cce49e4dd88853f3baecdd21e1",
       "version_major": 2,
       "version_minor": 0
      },
      "text/plain": [
       "Text(value='3', description='Nbr players:  ', layout=Layout(width='80%'))"
      ]
     },
     "metadata": {},
     "output_type": "display_data"
    },
    {
     "data": {
      "application/vnd.jupyter.widget-view+json": {
       "model_id": "e1ebec908f6745c886f995d2583ebc65",
       "version_major": 2,
       "version_minor": 0
      },
      "text/plain": [
       "Text(value='0', description='Nbr audience: ', layout=Layout(width='80%'))"
      ]
     },
     "metadata": {},
     "output_type": "display_data"
    },
    {
     "data": {
      "application/vnd.jupyter.widget-view+json": {
       "model_id": "42734868bebf412799aa2ed894dbcdac",
       "version_major": 2,
       "version_minor": 0
      },
      "text/plain": [
       "Text(value='Your favorite Olympic sport', description='Prompt:', layout=Layout(width='80%'))"
      ]
     },
     "metadata": {},
     "output_type": "display_data"
    },
    {
     "data": {
      "application/vnd.jupyter.widget-view+json": {
       "model_id": "86e77a697e8c4c2aa9e869152616b77d",
       "version_major": 2,
       "version_minor": 0
      },
      "text/plain": [
       "GridspecLayout(children=(Button(button_style='danger', description='Delete This Game', icon='check', layout=La…"
      ]
     },
     "metadata": {},
     "output_type": "display_data"
    },
    {
     "data": {
      "text/html": [
       "<hr>"
      ]
     },
     "metadata": {},
     "output_type": "display_data"
    },
    {
     "data": {
      "application/vnd.jupyter.widget-view+json": {
       "model_id": "cb62c241d18b4bcbaa12d0062156fd1d",
       "version_major": 2,
       "version_minor": 0
      },
      "text/plain": [
       "Text(value='Puppets', description='15:', layout=Layout(width='80%'))"
      ]
     },
     "metadata": {},
     "output_type": "display_data"
    },
    {
     "data": {
      "application/vnd.jupyter.widget-view+json": {
       "model_id": "0fcfec3917af4578bf215f3a33a7489b",
       "version_major": 2,
       "version_minor": 0
      },
      "text/plain": [
       "Text(value='2', description='Nbr players:  ', layout=Layout(width='80%'))"
      ]
     },
     "metadata": {},
     "output_type": "display_data"
    },
    {
     "data": {
      "application/vnd.jupyter.widget-view+json": {
       "model_id": "10f3703defff437d955983f73103505c",
       "version_major": 2,
       "version_minor": 0
      },
      "text/plain": [
       "Text(value='2', description='Nbr audience: ', layout=Layout(width='80%'))"
      ]
     },
     "metadata": {},
     "output_type": "display_data"
    },
    {
     "data": {
      "application/vnd.jupyter.widget-view+json": {
       "model_id": "042cdbefe4b44d3fa5052ce6ef305786",
       "version_major": 2,
       "version_minor": 0
      },
      "text/plain": [
       "Text(value='None', description='Prompt:', layout=Layout(width='80%'))"
      ]
     },
     "metadata": {},
     "output_type": "display_data"
    },
    {
     "data": {
      "application/vnd.jupyter.widget-view+json": {
       "model_id": "57238d6d1a0447bca340b13385da8848",
       "version_major": 2,
       "version_minor": 0
      },
      "text/plain": [
       "GridspecLayout(children=(Button(button_style='danger', description='Delete This Game', icon='check', layout=La…"
      ]
     },
     "metadata": {},
     "output_type": "display_data"
    },
    {
     "data": {
      "text/html": [
       "<hr>"
      ]
     },
     "metadata": {},
     "output_type": "display_data"
    },
    {
     "data": {
      "application/vnd.jupyter.widget-view+json": {
       "model_id": "f2437a6a827c43a18da9a48a20073b8f",
       "version_major": 2,
       "version_minor": 0
      },
      "text/plain": [
       "Text(value='Story, Story, Die!', description='16:', layout=Layout(width='80%'))"
      ]
     },
     "metadata": {},
     "output_type": "display_data"
    },
    {
     "data": {
      "application/vnd.jupyter.widget-view+json": {
       "model_id": "d8c3ed3d4a5c4e44afbf501d9fab0b46",
       "version_major": 2,
       "version_minor": 0
      },
      "text/plain": [
       "Text(value='0', description='Nbr players:  ', layout=Layout(width='80%'))"
      ]
     },
     "metadata": {},
     "output_type": "display_data"
    },
    {
     "data": {
      "application/vnd.jupyter.widget-view+json": {
       "model_id": "20c0ed0838214a2180b42eac877b8743",
       "version_major": 2,
       "version_minor": 0
      },
      "text/plain": [
       "Text(value='0', description='Nbr audience: ', layout=Layout(width='80%'))"
      ]
     },
     "metadata": {},
     "output_type": "display_data"
    },
    {
     "data": {
      "application/vnd.jupyter.widget-view+json": {
       "model_id": "2fda36ce39374b4fb3cdef5fadf87935",
       "version_major": 2,
       "version_minor": 0
      },
      "text/plain": [
       "Text(value='None', description='Prompt:', layout=Layout(width='80%'))"
      ]
     },
     "metadata": {},
     "output_type": "display_data"
    },
    {
     "data": {
      "application/vnd.jupyter.widget-view+json": {
       "model_id": "ede98fc754d44e05b05c50cbe1e53cdc",
       "version_major": 2,
       "version_minor": 0
      },
      "text/plain": [
       "GridspecLayout(children=(Button(button_style='danger', description='Delete This Game', icon='check', layout=La…"
      ]
     },
     "metadata": {},
     "output_type": "display_data"
    },
    {
     "data": {
      "text/html": [
       "<hr>"
      ]
     },
     "metadata": {},
     "output_type": "display_data"
    },
    {
     "data": {
      "application/vnd.jupyter.widget-view+json": {
       "model_id": "648658cfb03642f098add0ed792904fa",
       "version_major": 2,
       "version_minor": 0
      },
      "text/plain": [
       "Text(value='Everybody Dies', description='17:', layout=Layout(width='80%'))"
      ]
     },
     "metadata": {},
     "output_type": "display_data"
    },
    {
     "data": {
      "application/vnd.jupyter.widget-view+json": {
       "model_id": "6f4740d2aff24aeea300c1b26156cbcb",
       "version_major": 2,
       "version_minor": 0
      },
      "text/plain": [
       "Text(value='3', description='Nbr players:  ', layout=Layout(width='80%'))"
      ]
     },
     "metadata": {},
     "output_type": "display_data"
    },
    {
     "data": {
      "application/vnd.jupyter.widget-view+json": {
       "model_id": "8a1d910e3e5c48bdbd73982b698d5478",
       "version_major": 2,
       "version_minor": 0
      },
      "text/plain": [
       "Text(value='0', description='Nbr audience: ', layout=Layout(width='80%'))"
      ]
     },
     "metadata": {},
     "output_type": "display_data"
    },
    {
     "data": {
      "application/vnd.jupyter.widget-view+json": {
       "model_id": "bdb4ba395b9b4e78b216cdd1b68e6f0e",
       "version_major": 2,
       "version_minor": 0
      },
      "text/plain": [
       "Text(value='3 Locations', description='Prompt:', layout=Layout(width='80%'))"
      ]
     },
     "metadata": {},
     "output_type": "display_data"
    },
    {
     "data": {
      "application/vnd.jupyter.widget-view+json": {
       "model_id": "cdfcf7ce051046bf88265bba3387bde1",
       "version_major": 2,
       "version_minor": 0
      },
      "text/plain": [
       "GridspecLayout(children=(Button(button_style='danger', description='Delete This Game', icon='check', layout=La…"
      ]
     },
     "metadata": {},
     "output_type": "display_data"
    },
    {
     "data": {
      "text/html": [
       "<hr>"
      ]
     },
     "metadata": {},
     "output_type": "display_data"
    },
    {
     "data": {
      "application/vnd.jupyter.widget-view+json": {
       "model_id": "e33d5cc7a5c34ba38981cb914f9cfcf0",
       "version_major": 2,
       "version_minor": 0
      },
      "text/plain": [
       "Text(value=\"World's Worst\", description='18:', layout=Layout(width='80%'))"
      ]
     },
     "metadata": {},
     "output_type": "display_data"
    },
    {
     "data": {
      "application/vnd.jupyter.widget-view+json": {
       "model_id": "1f8c264ca5464b1395c3f7749ff21c27",
       "version_major": 2,
       "version_minor": 0
      },
      "text/plain": [
       "Text(value='0', description='Nbr players:  ', layout=Layout(width='80%'))"
      ]
     },
     "metadata": {},
     "output_type": "display_data"
    },
    {
     "data": {
      "application/vnd.jupyter.widget-view+json": {
       "model_id": "574899418532466098441a4da3a2a2fa",
       "version_major": 2,
       "version_minor": 0
      },
      "text/plain": [
       "Text(value='0', description='Nbr audience: ', layout=Layout(width='80%'))"
      ]
     },
     "metadata": {},
     "output_type": "display_data"
    },
    {
     "data": {
      "application/vnd.jupyter.widget-view+json": {
       "model_id": "0ab17246d4144c70947c19f9bf57b68b",
       "version_major": 2,
       "version_minor": 0
      },
      "text/plain": [
       "Text(value='An occupation, animal, or celebrity', description='Prompt:', layout=Layout(width='80%'))"
      ]
     },
     "metadata": {},
     "output_type": "display_data"
    },
    {
     "data": {
      "application/vnd.jupyter.widget-view+json": {
       "model_id": "83e71f0fcf0f4c858e8cfc5d16f155cf",
       "version_major": 2,
       "version_minor": 0
      },
      "text/plain": [
       "GridspecLayout(children=(Button(button_style='danger', description='Delete This Game', icon='check', layout=La…"
      ]
     },
     "metadata": {},
     "output_type": "display_data"
    },
    {
     "data": {
      "text/html": [
       "<hr>"
      ]
     },
     "metadata": {},
     "output_type": "display_data"
    },
    {
     "data": {
      "application/vnd.jupyter.widget-view+json": {
       "model_id": "3690ef9dcc994c09a345e69c5c75b711",
       "version_major": 2,
       "version_minor": 0
      },
      "text/plain": [
       "Text(value='Forward Reverse', description='19:', layout=Layout(width='80%'))"
      ]
     },
     "metadata": {},
     "output_type": "display_data"
    },
    {
     "data": {
      "application/vnd.jupyter.widget-view+json": {
       "model_id": "396f012a95ef45c3980ce4141a336e62",
       "version_major": 2,
       "version_minor": 0
      },
      "text/plain": [
       "Text(value='3', description='Nbr players:  ', layout=Layout(width='80%'))"
      ]
     },
     "metadata": {},
     "output_type": "display_data"
    },
    {
     "data": {
      "application/vnd.jupyter.widget-view+json": {
       "model_id": "3eb2e8bd95de4ca4b92d3af6c689ecaa",
       "version_major": 2,
       "version_minor": 0
      },
      "text/plain": [
       "Text(value='0', description='Nbr audience: ', layout=Layout(width='80%'))"
      ]
     },
     "metadata": {},
     "output_type": "display_data"
    },
    {
     "data": {
      "application/vnd.jupyter.widget-view+json": {
       "model_id": "271412b0a3b84be687c7fa4b7138f2c1",
       "version_major": 2,
       "version_minor": 0
      },
      "text/plain": [
       "Text(value='None', description='Prompt:', layout=Layout(width='80%'))"
      ]
     },
     "metadata": {},
     "output_type": "display_data"
    },
    {
     "data": {
      "application/vnd.jupyter.widget-view+json": {
       "model_id": "30a21b59504244658f3100f0c9908a2b",
       "version_major": 2,
       "version_minor": 0
      },
      "text/plain": [
       "GridspecLayout(children=(Button(button_style='danger', description='Delete This Game', icon='check', layout=La…"
      ]
     },
     "metadata": {},
     "output_type": "display_data"
    },
    {
     "data": {
      "text/html": [
       "<hr>"
      ]
     },
     "metadata": {},
     "output_type": "display_data"
    },
    {
     "data": {
      "application/vnd.jupyter.widget-view+json": {
       "model_id": "e38c863fbbc5428a8694d30cfb669e75",
       "version_major": 2,
       "version_minor": 0
      },
      "text/plain": [
       "Text(value='Mutant Debate', description='20:', layout=Layout(width='80%'))"
      ]
     },
     "metadata": {},
     "output_type": "display_data"
    },
    {
     "data": {
      "application/vnd.jupyter.widget-view+json": {
       "model_id": "c9f521d10b234137af3c91da88edbb27",
       "version_major": 2,
       "version_minor": 0
      },
      "text/plain": [
       "Text(value='5', description='Nbr players:  ', layout=Layout(width='80%'))"
      ]
     },
     "metadata": {},
     "output_type": "display_data"
    },
    {
     "data": {
      "application/vnd.jupyter.widget-view+json": {
       "model_id": "ebd54be150f647c6b7d75d787c6eeb00",
       "version_major": 2,
       "version_minor": 0
      },
      "text/plain": [
       "Text(value='0', description='Nbr audience: ', layout=Layout(width='80%'))"
      ]
     },
     "metadata": {},
     "output_type": "display_data"
    },
    {
     "data": {
      "application/vnd.jupyter.widget-view+json": {
       "model_id": "a424a4cef565446c948a11d98b025ac9",
       "version_major": 2,
       "version_minor": 0
      },
      "text/plain": [
       "Text(value=\"What is a dumb argument you've had recently?\", description='Prompt:', layout=Layout(width='80%'))"
      ]
     },
     "metadata": {},
     "output_type": "display_data"
    },
    {
     "data": {
      "application/vnd.jupyter.widget-view+json": {
       "model_id": "df84c9f74012416d95487dfe30c0548c",
       "version_major": 2,
       "version_minor": 0
      },
      "text/plain": [
       "GridspecLayout(children=(Button(button_style='danger', description='Delete This Game', icon='check', layout=La…"
      ]
     },
     "metadata": {},
     "output_type": "display_data"
    },
    {
     "data": {
      "text/html": [
       "<hr>"
      ]
     },
     "metadata": {},
     "output_type": "display_data"
    },
    {
     "data": {
      "application/vnd.jupyter.widget-view+json": {
       "model_id": "0f77adb4a603471b806f3f7828b87ae6",
       "version_major": 2,
       "version_minor": 0
      },
      "text/plain": [
       "Button(button_style='info', description='Save', icon='check', style=ButtonStyle())"
      ]
     },
     "metadata": {},
     "output_type": "display_data"
    }
   ],
   "source": [
    "games = WidgetGames()"
   ]
  },
  {
   "cell_type": "code",
   "execution_count": 4,
   "metadata": {
    "scrolled": false
   },
   "outputs": [
    {
     "data": {
      "application/vnd.jupyter.widget-view+json": {
       "model_id": "f9aded8ca85948fd904e578f026b55e1",
       "version_major": 2,
       "version_minor": 0
      },
      "text/plain": [
       "HTML(value='<p style=\"color:#00BCD4; font-size:3em; font-weight:bold\">Update casting rules for each game:</p>'…"
      ]
     },
     "metadata": {},
     "output_type": "display_data"
    },
    {
     "data": {
      "application/vnd.jupyter.widget-view+json": {
       "model_id": "919e00886dbe4b4a9d438eefd60ce060",
       "version_major": 2,
       "version_minor": 0
      },
      "text/plain": [
       "HTML(value='<p style=\"color:#000000; font-size:1.25em; font-weight:normal\">For each game, you can select one o…"
      ]
     },
     "metadata": {},
     "output_type": "display_data"
    },
    {
     "data": {
      "text/html": [
       "<hr>"
      ]
     },
     "metadata": {},
     "output_type": "display_data"
    },
    {
     "data": {
      "application/vnd.jupyter.widget-view+json": {
       "model_id": "a8cd5f7c2f094d59ac9694fb2a63ac0b",
       "version_major": 2,
       "version_minor": 0
      },
      "text/plain": [
       "GridspecLayout(children=(Label(value='Game name', layout=Layout(grid_area='widget001', width='80%')), Label(va…"
      ]
     },
     "metadata": {},
     "output_type": "display_data"
    },
    {
     "data": {
      "application/vnd.jupyter.widget-view+json": {
       "model_id": "3dd6748d62da44b199fa1b4984b979fc",
       "version_major": 2,
       "version_minor": 0
      },
      "text/plain": [
       "Button(button_style='info', description='save', icon='check', style=ButtonStyle())"
      ]
     },
     "metadata": {},
     "output_type": "display_data"
    }
   ],
   "source": [
    "games.update_casting_rules()"
   ]
  },
  {
   "cell_type": "code",
   "execution_count": 5,
   "metadata": {
    "scrolled": false
   },
   "outputs": [
    {
     "data": {
      "application/vnd.jupyter.widget-view+json": {
       "model_id": "0451bc8862984b788b3d4b25fed254af",
       "version_major": 2,
       "version_minor": 0
      },
      "text/plain": [
       "HTML(value='<p style=\"color:#00BCD4; font-size:3em; font-weight:bold\">Update, add, delete prompts:</p>')"
      ]
     },
     "metadata": {},
     "output_type": "display_data"
    },
    {
     "data": {
      "application/vnd.jupyter.widget-view+json": {
       "model_id": "4734f685568749b8845bb626b335547c",
       "version_major": 2,
       "version_minor": 0
      },
      "text/plain": [
       "HTML(value='<p style=\"color:#000000; font-size:1.25em; font-weight:normal\">Modify any prompt below, then save …"
      ]
     },
     "metadata": {},
     "output_type": "display_data"
    },
    {
     "data": {
      "application/vnd.jupyter.widget-view+json": {
       "model_id": "a75e558633fd4755819157afc92abcab",
       "version_major": 2,
       "version_minor": 0
      },
      "text/plain": [
       "Text(value='A location that would fit on this stage.', description='Prompt  1', layout=Layout(width='75%'))"
      ]
     },
     "metadata": {},
     "output_type": "display_data"
    },
    {
     "data": {
      "application/vnd.jupyter.widget-view+json": {
       "model_id": "988c0dfb91774e30b949c0690d0fd10c",
       "version_major": 2,
       "version_minor": 0
      },
      "text/plain": [
       "Text(value='Non-romantic relationship.', description='Prompt  2', layout=Layout(width='75%'))"
      ]
     },
     "metadata": {},
     "output_type": "display_data"
    },
    {
     "data": {
      "application/vnd.jupyter.widget-view+json": {
       "model_id": "65af23192bde4b0b90931f9dddc210d1",
       "version_major": 2,
       "version_minor": 0
      },
      "text/plain": [
       "Text(value='Worst location for a first date.', description='Prompt  3', layout=Layout(width='75%'))"
      ]
     },
     "metadata": {},
     "output_type": "display_data"
    },
    {
     "data": {
      "application/vnd.jupyter.widget-view+json": {
       "model_id": "aae7e4f4348244928ac19d542b1ab52b",
       "version_major": 2,
       "version_minor": 0
      },
      "text/plain": [
       "Text(value=\"Worst job you've ever had.\", description='Prompt  4', layout=Layout(width='75%'))"
      ]
     },
     "metadata": {},
     "output_type": "display_data"
    },
    {
     "data": {
      "application/vnd.jupyter.widget-view+json": {
       "model_id": "1d6b4e0da82049229720a0881c3252da",
       "version_major": 2,
       "version_minor": 0
      },
      "text/plain": [
       "Text(value='What is your dream job?', description='Prompt  5', layout=Layout(width='75%'))"
      ]
     },
     "metadata": {},
     "output_type": "display_data"
    },
    {
     "data": {
      "application/vnd.jupyter.widget-view+json": {
       "model_id": "2099862251944fcaa4ba4a60b450ca81",
       "version_major": 2,
       "version_minor": 0
      },
      "text/plain": [
       "Text(value=\"What's an unusual hobby?\", description='Prompt  6', layout=Layout(width='75%'))"
      ]
     },
     "metadata": {},
     "output_type": "display_data"
    },
    {
     "data": {
      "application/vnd.jupyter.widget-view+json": {
       "model_id": "2a1da3bc732d4a4c9493f5ac1963f5ce",
       "version_major": 2,
       "version_minor": 0
      },
      "text/plain": [
       "Text(value='A room in a building.', description='Prompt  7', layout=Layout(width='75%'))"
      ]
     },
     "metadata": {},
     "output_type": "display_data"
    },
    {
     "data": {
      "application/vnd.jupyter.widget-view+json": {
       "model_id": "056df9bd715344e79764b9702c511348",
       "version_major": 2,
       "version_minor": 0
      },
      "text/plain": [
       "Text(value='What was your favourite song?', description='Prompt  8', layout=Layout(width='75%'))"
      ]
     },
     "metadata": {},
     "output_type": "display_data"
    },
    {
     "data": {
      "application/vnd.jupyter.widget-view+json": {
       "model_id": "e381d786548e4712acce569d7fc03667",
       "version_major": 2,
       "version_minor": 0
      },
      "text/plain": [
       "Text(value='What is your favourite guilty pleasure?', description='Prompt  9', layout=Layout(width='75%'))"
      ]
     },
     "metadata": {},
     "output_type": "display_data"
    },
    {
     "data": {
      "application/vnd.jupyter.widget-view+json": {
       "model_id": "da658b59333a4aeaa883f7c956b35769",
       "version_major": 2,
       "version_minor": 0
      },
      "text/plain": [
       "Text(value='An occasion to celebrate with others.', description='Prompt 10', layout=Layout(width='75%'))"
      ]
     },
     "metadata": {},
     "output_type": "display_data"
    },
    {
     "data": {
      "application/vnd.jupyter.widget-view+json": {
       "model_id": "409ef0ae62aa47cea7e2718965592ea6",
       "version_major": 2,
       "version_minor": 0
      },
      "text/plain": [
       "Text(value='Cheesy Netflix movie title.', description='Prompt 11', layout=Layout(width='75%'))"
      ]
     },
     "metadata": {},
     "output_type": "display_data"
    },
    {
     "data": {
      "application/vnd.jupyter.widget-view+json": {
       "model_id": "9d30024ccd7d450db729775c871e5a6b",
       "version_major": 2,
       "version_minor": 0
      },
      "text/plain": [
       "Text(value='A strong emotion you witnessed recently.', description='Prompt 12', layout=Layout(width='75%'))"
      ]
     },
     "metadata": {},
     "output_type": "display_data"
    },
    {
     "data": {
      "application/vnd.jupyter.widget-view+json": {
       "model_id": "70d39d76a5fc40fbb5413156d871edfe",
       "version_major": 2,
       "version_minor": 0
      },
      "text/plain": [
       "Text(value='An item you need to throw away.', description='Prompt 13', layout=Layout(width='75%'))"
      ]
     },
     "metadata": {},
     "output_type": "display_data"
    },
    {
     "data": {
      "application/vnd.jupyter.widget-view+json": {
       "model_id": "e0023ee15fe94c449551843a317009c0",
       "version_major": 2,
       "version_minor": 0
      },
      "text/plain": [
       "Text(value='An unsolvable problem.', description='Prompt 14', layout=Layout(width='75%'))"
      ]
     },
     "metadata": {},
     "output_type": "display_data"
    },
    {
     "data": {
      "application/vnd.jupyter.widget-view+json": {
       "model_id": "607de60ac62347ea87d61d9ce180a8e8",
       "version_major": 2,
       "version_minor": 0
      },
      "text/plain": [
       "Text(value='A mythical animal.', description='Prompt 15', layout=Layout(width='75%'))"
      ]
     },
     "metadata": {},
     "output_type": "display_data"
    },
    {
     "data": {
      "application/vnd.jupyter.widget-view+json": {
       "model_id": "16a828667fd941ddbe345dfa1036ffa7",
       "version_major": 2,
       "version_minor": 0
      },
      "text/plain": [
       "Text(value=\"What's a secret you were told?\", description='Prompt 16', layout=Layout(width='75%'))"
      ]
     },
     "metadata": {},
     "output_type": "display_data"
    },
    {
     "data": {
      "application/vnd.jupyter.widget-view+json": {
       "model_id": "d72c1784a44146d4be38afb96d67cecd",
       "version_major": 2,
       "version_minor": 0
      },
      "text/plain": [
       "Text(value='What did you want to be when you grew up?', description='Prompt 17', layout=Layout(width='75%'))"
      ]
     },
     "metadata": {},
     "output_type": "display_data"
    },
    {
     "data": {
      "application/vnd.jupyter.widget-view+json": {
       "model_id": "d7d9284938414ba7acb8f059d2532e52",
       "version_major": 2,
       "version_minor": 0
      },
      "text/plain": [
       "Text(value='What is this?', description='Prompt 18', layout=Layout(width='75%'))"
      ]
     },
     "metadata": {},
     "output_type": "display_data"
    },
    {
     "data": {
      "application/vnd.jupyter.widget-view+json": {
       "model_id": "4f7e9a3135c04ff7b265b1aaaf96734e",
       "version_major": 2,
       "version_minor": 0
      },
      "text/plain": [
       "Text(value='A place where it is easy to get lost.', description='Prompt 19', layout=Layout(width='75%'))"
      ]
     },
     "metadata": {},
     "output_type": "display_data"
    },
    {
     "data": {
      "application/vnd.jupyter.widget-view+json": {
       "model_id": "c1d65e6abc674e0486b2d0647a433417",
       "version_major": 2,
       "version_minor": 0
      },
      "text/plain": [
       "Text(value='Why are you this way?', description='Prompt 20', layout=Layout(width='75%'))"
      ]
     },
     "metadata": {},
     "output_type": "display_data"
    },
    {
     "data": {
      "application/vnd.jupyter.widget-view+json": {
       "model_id": "250b89a93c7c4b1a95e349301862b3d8",
       "version_major": 2,
       "version_minor": 0
      },
      "text/plain": [
       "Text(value='A scary place to be alone at night.', description='Prompt 21', layout=Layout(width='75%'))"
      ]
     },
     "metadata": {},
     "output_type": "display_data"
    },
    {
     "data": {
      "application/vnd.jupyter.widget-view+json": {
       "model_id": "726becfde23947779a61d98623e5a351",
       "version_major": 2,
       "version_minor": 0
      },
      "text/plain": [
       "Text(value='An annoying habit of someone you know.', description='Prompt 22', layout=Layout(width='75%'))"
      ]
     },
     "metadata": {},
     "output_type": "display_data"
    },
    {
     "data": {
      "application/vnd.jupyter.widget-view+json": {
       "model_id": "fe26ad625d6a44dc8167f5ced731a443",
       "version_major": 2,
       "version_minor": 0
      },
      "text/plain": [
       "Text(value='Best birthday present you ever got.', description='Prompt 23', layout=Layout(width='75%'))"
      ]
     },
     "metadata": {},
     "output_type": "display_data"
    },
    {
     "data": {
      "application/vnd.jupyter.widget-view+json": {
       "model_id": "38e100f3c17a42daafd2c27b43307043",
       "version_major": 2,
       "version_minor": 0
      },
      "text/plain": [
       "Text(value='A non-green vegetable.', description='Prompt 24', layout=Layout(width='75%'))"
      ]
     },
     "metadata": {},
     "output_type": "display_data"
    },
    {
     "data": {
      "application/vnd.jupyter.widget-view+json": {
       "model_id": "4043bacc883a495d8edb700d5247fc5b",
       "version_major": 2,
       "version_minor": 0
      },
      "text/plain": [
       "Text(value='A unique tradition in your family.', description='Prompt 25', layout=Layout(width='75%'))"
      ]
     },
     "metadata": {},
     "output_type": "display_data"
    },
    {
     "data": {
      "application/vnd.jupyter.widget-view+json": {
       "model_id": "eae73f035c414618a4d4feef44c5d028",
       "version_major": 2,
       "version_minor": 0
      },
      "text/plain": [
       "Text(value='Something you want, but would never buy yourself.', description='Prompt 26', layout=Layout(width='…"
      ]
     },
     "metadata": {},
     "output_type": "display_data"
    },
    {
     "data": {
      "application/vnd.jupyter.widget-view+json": {
       "model_id": "f474374f864e41d9a8d93de4389d5b9e",
       "version_major": 2,
       "version_minor": 0
      },
      "text/plain": [
       "Text(value='A place to never go on vacation.', description='Prompt 27', layout=Layout(width='75%'))"
      ]
     },
     "metadata": {},
     "output_type": "display_data"
    },
    {
     "data": {
      "application/vnd.jupyter.widget-view+json": {
       "model_id": "6a871f2b84634cddbe224fd7a49b59aa",
       "version_major": 2,
       "version_minor": 0
      },
      "text/plain": [
       "Text(value='A location from sci-fi or fantasy.', description='Prompt 28', layout=Layout(width='75%'))"
      ]
     },
     "metadata": {},
     "output_type": "display_data"
    },
    {
     "data": {
      "application/vnd.jupyter.widget-view+json": {
       "model_id": "336f4ebc0fdf4dafa689b7e0ce51da55",
       "version_major": 2,
       "version_minor": 0
      },
      "text/plain": [
       "Text(value='What has been forgotten under your bed?', description='Prompt 29', layout=Layout(width='75%'))"
      ]
     },
     "metadata": {},
     "output_type": "display_data"
    },
    {
     "data": {
      "application/vnd.jupyter.widget-view+json": {
       "model_id": "7ce5b46f5e0c440db6e09384c3015f7e",
       "version_major": 2,
       "version_minor": 0
      },
      "text/plain": [
       "Text(value='A terrible excuse to give your boss.', description='Prompt 30', layout=Layout(width='75%'))"
      ]
     },
     "metadata": {},
     "output_type": "display_data"
    },
    {
     "data": {
      "application/vnd.jupyter.widget-view+json": {
       "model_id": "d888fdaa5b48427684b8d194b01b9be2",
       "version_major": 2,
       "version_minor": 0
      },
      "text/plain": [
       "Text(value='What one thing would you change about your life?', description='Prompt 31', layout=Layout(width='7…"
      ]
     },
     "metadata": {},
     "output_type": "display_data"
    },
    {
     "data": {
      "application/vnd.jupyter.widget-view+json": {
       "model_id": "ebea0d88bf5e4d1c9f8a1f1346399690",
       "version_major": 2,
       "version_minor": 0
      },
      "text/plain": [
       "Text(value='An outdoor activity.', description='Prompt 32', layout=Layout(width='75%'))"
      ]
     },
     "metadata": {},
     "output_type": "display_data"
    },
    {
     "data": {
      "application/vnd.jupyter.widget-view+json": {
       "model_id": "324af12c8a1b45ed825802cffcff59e5",
       "version_major": 2,
       "version_minor": 0
      },
      "text/plain": [
       "Text(value='Your favourite childhood toy.', description='Prompt 33', layout=Layout(width='75%'))"
      ]
     },
     "metadata": {},
     "output_type": "display_data"
    },
    {
     "data": {
      "application/vnd.jupyter.widget-view+json": {
       "model_id": "7d210f114acf4682b5c8ac30f23b7239",
       "version_major": 2,
       "version_minor": 0
      },
      "text/plain": [
       "Text(value=\"Meanest thing you've ever done.\", description='Prompt 34', layout=Layout(width='75%'))"
      ]
     },
     "metadata": {},
     "output_type": "display_data"
    },
    {
     "data": {
      "application/vnd.jupyter.widget-view+json": {
       "model_id": "e8c2f7c3326f4814af8d26114186f326",
       "version_major": 2,
       "version_minor": 0
      },
      "text/plain": [
       "Text(value='What are you doing tomorrow?', description='Prompt 35', layout=Layout(width='75%'))"
      ]
     },
     "metadata": {},
     "output_type": "display_data"
    },
    {
     "data": {
      "application/vnd.jupyter.widget-view+json": {
       "model_id": "da73987872a14dfa9400d0fd32494e6b",
       "version_major": 2,
       "version_minor": 0
      },
      "text/plain": [
       "Text(value='An unlikely superhero.', description='Prompt 36', layout=Layout(width='75%'))"
      ]
     },
     "metadata": {},
     "output_type": "display_data"
    },
    {
     "data": {
      "application/vnd.jupyter.widget-view+json": {
       "model_id": "327ffcc81de541dcae44b1d6e7318976",
       "version_major": 2,
       "version_minor": 0
      },
      "text/plain": [
       "Text(value='The next Douyin/Tiktok craze.', description='Prompt 37', layout=Layout(width='75%'))"
      ]
     },
     "metadata": {},
     "output_type": "display_data"
    },
    {
     "data": {
      "application/vnd.jupyter.widget-view+json": {
       "model_id": "9af65f5ea3084b54ab8e4794280bfe90",
       "version_major": 2,
       "version_minor": 0
      },
      "text/plain": [
       "Text(value=\"Something you'd be surprised to find on Taobao.\", description='Prompt 38', layout=Layout(width='75…"
      ]
     },
     "metadata": {},
     "output_type": "display_data"
    },
    {
     "data": {
      "application/vnd.jupyter.widget-view+json": {
       "model_id": "975c376e3ae046cbb979b4e686749af7",
       "version_major": 2,
       "version_minor": 0
      },
      "text/plain": [
       "Text(value='What superpower would you like?', description='Prompt 39', layout=Layout(width='75%'))"
      ]
     },
     "metadata": {},
     "output_type": "display_data"
    },
    {
     "data": {
      "application/vnd.jupyter.widget-view+json": {
       "model_id": "20401d40176c4998b8a8375299bd42ea",
       "version_major": 2,
       "version_minor": 0
      },
      "text/plain": [
       "Text(value='What the hell is wrong with you?', description='Prompt 40', layout=Layout(width='75%'))"
      ]
     },
     "metadata": {},
     "output_type": "display_data"
    },
    {
     "data": {
      "application/vnd.jupyter.widget-view+json": {
       "model_id": "d48e8060e70143a0b4e03f090c59a6dc",
       "version_major": 2,
       "version_minor": 0
      },
      "text/plain": [
       "Text(value='A piece of advice you heard from a loved one.', description='Prompt 41', layout=Layout(width='75%'…"
      ]
     },
     "metadata": {},
     "output_type": "display_data"
    },
    {
     "data": {
      "application/vnd.jupyter.widget-view+json": {
       "model_id": "c1335566bf3d4f36961ba91cf5cb990a",
       "version_major": 2,
       "version_minor": 0
      },
      "text/plain": [
       "Text(value='An impossible task.', description='Prompt 42', layout=Layout(width='75%'))"
      ]
     },
     "metadata": {},
     "output_type": "display_data"
    },
    {
     "data": {
      "application/vnd.jupyter.widget-view+json": {
       "model_id": "0b5cfe7c3c844e42b29f3d71c8bb5ac6",
       "version_major": 2,
       "version_minor": 0
      },
      "text/plain": [
       "Text(value=\"What's the next unlikely Olympic event?\", description='Prompt 43', layout=Layout(width='75%'))"
      ]
     },
     "metadata": {},
     "output_type": "display_data"
    },
    {
     "data": {
      "application/vnd.jupyter.widget-view+json": {
       "model_id": "772c69e6306648449b23764ed4d0b25b",
       "version_major": 2,
       "version_minor": 0
      },
      "text/plain": [
       "Text(value='What technology will soon be obsolete?', description='Prompt 44', layout=Layout(width='75%'))"
      ]
     },
     "metadata": {},
     "output_type": "display_data"
    },
    {
     "data": {
      "application/vnd.jupyter.widget-view+json": {
       "model_id": "5fd9156168ac47edb5d9851d1668264b",
       "version_major": 2,
       "version_minor": 0
      },
      "text/plain": [
       "Button(button_style='info', description='save', icon='check', style=ButtonStyle())"
      ]
     },
     "metadata": {},
     "output_type": "display_data"
    }
   ],
   "source": [
    "prompts = WidgetPrompts()"
   ]
  },
  {
   "cell_type": "markdown",
   "metadata": {},
   "source": [
    "> **Make sure you have saved changes before closing this notebook.**"
   ]
  }
 ],
 "metadata": {
  "kernelspec": {
   "display_name": "Python 3 (ipykernel)",
   "language": "python",
   "name": "python3"
  },
  "language_info": {
   "codemirror_mode": {
    "name": "ipython",
    "version": 3
   },
   "file_extension": ".py",
   "mimetype": "text/x-python",
   "name": "python",
   "nbconvert_exporter": "python",
   "pygments_lexer": "ipython3",
   "version": "3.9.7"
  },
  "toc": {
   "base_numbering": 1,
   "nav_menu": {},
   "number_sections": false,
   "sideBar": true,
   "skip_h1_title": false,
   "title_cell": "Table of Contents",
   "title_sidebar": "Contents",
   "toc_cell": false,
   "toc_position": {},
   "toc_section_display": true,
   "toc_window_display": false
  },
  "varInspector": {
   "cols": {
    "lenName": 16,
    "lenType": 16,
    "lenVar": 40
   },
   "kernels_config": {
    "python": {
     "delete_cmd_postfix": "",
     "delete_cmd_prefix": "del ",
     "library": "var_list.py",
     "varRefreshCmd": "print(var_dic_list())"
    },
    "r": {
     "delete_cmd_postfix": ") ",
     "delete_cmd_prefix": "rm(",
     "library": "var_list.r",
     "varRefreshCmd": "cat(var_dic_list()) "
    }
   },
   "types_to_exclude": [
    "module",
    "function",
    "builtin_function_or_method",
    "instance",
    "_Feature"
   ],
   "window_display": false
  },
  "vscode": {
   "interpreter": {
    "hash": "0eb39429e907200a5034f236d651f1736c0e7407bac40927aba41b28178be421"
   }
  }
 },
 "nbformat": 4,
 "nbformat_minor": 2
}
