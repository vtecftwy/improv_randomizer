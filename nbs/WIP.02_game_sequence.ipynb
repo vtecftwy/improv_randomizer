{
 "cells": [
  {
   "cell_type": "code",
   "execution_count": 1,
   "metadata": {},
   "outputs": [],
   "source": [
    "from pathlib import Path\n",
    "import matplotlib.pyplot as plt\n",
    "import os\n",
    "import numpy as np\n",
    "import pandas as pd\n",
    "import random\n",
    "%load_ext autoreload\n",
    "%autoreload 2"
   ]
  },
  {
   "cell_type": "code",
   "execution_count": 2,
   "metadata": {},
   "outputs": [
    {
     "name": "stdout",
     "output_type": "stream",
     "text": [
      "changing cwd\n"
     ]
    }
   ],
   "source": [
    "if not (Path.cwd()/'gamesession.py').exists():  \n",
    "    print('changing cwd')  \n",
    "    os.chdir('..')\n",
    "    Path.cwd()\n",
    "\n",
    "from gamesession import GameSession"
   ]
  },
  {
   "cell_type": "code",
   "execution_count": 3,
   "metadata": {},
   "outputs": [
    {
     "name": "stdout",
     "output_type": "stream",
     "text": [
      "Game session data loaded\n"
     ]
    }
   ],
   "source": [
    "session = GameSession()"
   ]
  },
  {
   "cell_type": "code",
   "execution_count": 4,
   "metadata": {},
   "outputs": [
    {
     "data": {
      "text/plain": [
       "[0, 7, 9, 3, 1, 2, 6, 18, 16, 11, 19, 4, 5, 14, 8, 15, 10, 13, 17, 12]"
      ]
     },
     "execution_count": 4,
     "metadata": {},
     "output_type": "execute_result"
    }
   ],
   "source": [
    "session.game_sequence"
   ]
  },
  {
   "cell_type": "code",
   "execution_count": 5,
   "metadata": {},
   "outputs": [
    {
     "name": "stdout",
     "output_type": "stream",
     "text": [
      "12\n",
      "[0, 7, 9, 3, 1, 2, 6, 18, 16, 11, 19, 4, 5, 14, 8, 15, 10, 13, 17]\n",
      "17\n",
      "[0, 7, 9, 3, 1, 2, 6, 18, 16, 11, 19, 4, 5, 14, 8, 15, 10, 13]\n",
      "13\n",
      "[0, 7, 9, 3, 1, 2, 6, 18, 16, 11, 19, 4, 5, 14, 8, 15, 10]\n",
      "10\n",
      "[0, 7, 9, 3, 1, 2, 6, 18, 16, 11, 19, 4, 5, 14, 8, 15]\n",
      "15\n",
      "[0, 7, 9, 3, 1, 2, 6, 18, 16, 11, 19, 4, 5, 14, 8]\n",
      "8\n",
      "[0, 7, 9, 3, 1, 2, 6, 18, 16, 11, 19, 4, 5, 14]\n",
      "14\n",
      "[0, 7, 9, 3, 1, 2, 6, 18, 16, 11, 19, 4, 5]\n",
      "5\n",
      "[0, 7, 9, 3, 1, 2, 6, 18, 16, 11, 19, 4]\n",
      "4\n",
      "[0, 7, 9, 3, 1, 2, 6, 18, 16, 11, 19]\n",
      "19\n",
      "[0, 7, 9, 3, 1, 2, 6, 18, 16, 11]\n",
      "11\n",
      "[0, 7, 9, 3, 1, 2, 6, 18, 16]\n",
      "16\n",
      "[0, 7, 9, 3, 1, 2, 6, 18]\n",
      "18\n",
      "[0, 7, 9, 3, 1, 2, 6]\n",
      "6\n",
      "[0, 7, 9, 3, 1, 2]\n",
      "2\n",
      "[0, 7, 9, 3, 1]\n",
      "1\n",
      "[0, 7, 9, 3]\n",
      "3\n",
      "[0, 7, 9]\n",
      "9\n",
      "[0, 7]\n",
      "7\n",
      "[0]\n",
      "0\n",
      "[]\n"
     ]
    }
   ],
   "source": [
    "l = session.game_sequence.copy()\n",
    "while l:\n",
    "    next_game = l.pop()\n",
    "    print(next_game)\n",
    "    print(l)"
   ]
  },
  {
   "cell_type": "code",
   "execution_count": 6,
   "metadata": {},
   "outputs": [
    {
     "name": "stdout",
     "output_type": "stream",
     "text": [
      "Game session data loaded\n",
      "Next game: 6\n",
      "Next game: 3\n",
      "Next game: 14\n",
      "Next game: 17\n",
      "Next game: 0\n",
      "Next game: 11\n",
      "Next game: 8\n",
      "Next game: 10\n",
      "Next game: 4\n",
      "Next game: 13\n",
      "Next game: 16\n",
      "Next game: 9\n",
      "Next game: 12\n",
      "Next game: 1\n",
      "Next game: 18\n",
      "Next game: 15\n",
      "Next game: 5\n",
      "Next game: 2\n",
      "Next game: 7\n",
      "Next game: 19\n",
      "No more games to play\n"
     ]
    }
   ],
   "source": [
    "session = GameSession()\n",
    "while True:\n",
    "    try:\n",
    "        session.pick_next_game()\n",
    "        print(f\"Next game: {session.current_game_idx}\")\n",
    "    except ValueError as e:\n",
    "        print(e)\n",
    "        break"
   ]
  },
  {
   "cell_type": "code",
   "execution_count": null,
   "metadata": {},
   "outputs": [],
   "source": []
  },
  {
   "cell_type": "code",
   "execution_count": null,
   "metadata": {},
   "outputs": [],
   "source": []
  },
  {
   "cell_type": "code",
   "execution_count": null,
   "metadata": {},
   "outputs": [],
   "source": []
  },
  {
   "cell_type": "code",
   "execution_count": null,
   "metadata": {},
   "outputs": [],
   "source": []
  },
  {
   "cell_type": "code",
   "execution_count": null,
   "metadata": {},
   "outputs": [],
   "source": []
  },
  {
   "cell_type": "code",
   "execution_count": null,
   "metadata": {},
   "outputs": [],
   "source": []
  },
  {
   "cell_type": "code",
   "execution_count": null,
   "metadata": {},
   "outputs": [],
   "source": []
  },
  {
   "cell_type": "code",
   "execution_count": null,
   "metadata": {},
   "outputs": [],
   "source": []
  }
 ],
 "metadata": {
  "kernelspec": {
   "display_name": "Python 3.9.7 ('ai2')",
   "language": "python",
   "name": "python3"
  },
  "language_info": {
   "codemirror_mode": {
    "name": "ipython",
    "version": 3
   },
   "file_extension": ".py",
   "mimetype": "text/x-python",
   "name": "python",
   "nbconvert_exporter": "python",
   "pygments_lexer": "ipython3",
   "version": "3.9.7"
  },
  "orig_nbformat": 4,
  "vscode": {
   "interpreter": {
    "hash": "0eb39429e907200a5034f236d651f1736c0e7407bac40927aba41b28178be421"
   }
  }
 },
 "nbformat": 4,
 "nbformat_minor": 2
}
