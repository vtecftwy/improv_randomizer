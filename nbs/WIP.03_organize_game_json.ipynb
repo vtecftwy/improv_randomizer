{
 "cells": [
  {
   "cell_type": "markdown",
   "metadata": {},
   "source": [
    "# Organize Games from json files"
   ]
  },
  {
   "cell_type": "code",
   "execution_count": 12,
   "metadata": {},
   "outputs": [],
   "source": [
    "import json\n",
    "import numpy as np\n",
    "from collections import OrderedDict\n",
    "from pathlib import Path"
   ]
  },
  {
   "cell_type": "code",
   "execution_count": 13,
   "metadata": {},
   "outputs": [
    {
     "data": {
      "text/plain": [
       "WindowsPath('c:/Users/etien/PyProjects/ai2/chris')"
      ]
     },
     "execution_count": 13,
     "metadata": {},
     "output_type": "execute_result"
    }
   ],
   "source": [
    "root = Path().absolute().parent\n",
    "root"
   ]
  },
  {
   "cell_type": "code",
   "execution_count": 14,
   "metadata": {},
   "outputs": [],
   "source": [
    "p2ai2_all = root / 'config/ai2/ai2-games-all.json'\n",
    "p2ai2_current = root / 'config/ai2/ai2-games-all-2024-09.json'\n",
    "p2ai2 = root / 'config/ai2/ai2-games.json'\n",
    "p2jam = root / 'config/jam/games.json'\n",
    "p2zmack = root / 'config\\zmack\\games.json'\n",
    "p2default = root / 'config/games.json'\n",
    "assert p2ai2_all.is_file()\n",
    "assert p2ai2_current.is_file()\n",
    "assert p2ai2.is_file()\n",
    "assert p2jam.is_file()\n",
    "assert p2zmack.is_file()\n",
    "assert p2default.is_file()"
   ]
  },
  {
   "cell_type": "markdown",
   "metadata": {},
   "source": [
    "## Sort games alphabetically"
   ]
  },
  {
   "cell_type": "code",
   "execution_count": 15,
   "metadata": {},
   "outputs": [],
   "source": [
    "def load_and_sort(p2json):\n",
    "    with open(p2json, 'r') as fp:\n",
    "        games = json.load(fp)\n",
    "    names = np.array([g['name'] for g in games.values()])\n",
    "    sorted_game_idxs = np.argsort(names)\n",
    "    sorted_game_keys = np.array(list(games.keys()))[sorted_game_idxs]\n",
    "    sorted_list_game_dict = [games[k] for k in sorted_game_keys]\n",
    "    \n",
    "    return games, names, sorted_game_idxs, sorted_game_keys, sorted_list_game_dict\n",
    "\n",
    "def sort_json_by_game_names(p2json):\n",
    "    odict = OrderedDict()\n",
    "    games, names, sgi, sgk, slgd = load_and_sort(p2json)\n",
    "    for i, d in enumerate(slgd):\n",
    "        odict[str(i+1)] = d\n",
    "\n",
    "    print(f\"{i+1} games\")\n",
    "\n",
    "    with open(p2json, 'w') as fp:\n",
    "        json.dump(odict, fp, indent=4)"
   ]
  },
  {
   "cell_type": "code",
   "execution_count": 16,
   "metadata": {},
   "outputs": [
    {
     "name": "stdout",
     "output_type": "stream",
     "text": [
      "25 games\n",
      "26 games\n",
      "23 games\n"
     ]
    }
   ],
   "source": [
    "sort_json_by_game_names(p2ai2_all)\n",
    "sort_json_by_game_names(p2ai2_current)\n",
    "sort_json_by_game_names(p2ai2)"
   ]
  },
  {
   "cell_type": "markdown",
   "metadata": {},
   "source": [
    "## Add fields in json"
   ]
  },
  {
   "cell_type": "code",
   "execution_count": 9,
   "metadata": {},
   "outputs": [],
   "source": [
    "def add_field(p2json, field, save_json=False):\n",
    "    with open(p2json, 'r') as fp:\n",
    "        games = json.load(fp)\n",
    "        for k, v in games.items():\n",
    "            game_dict = v\n",
    "            game_dict[field] = \"\"\n",
    "            games[k] = game_dict\n",
    "    \n",
    "    if save_json:\n",
    "        with open(p2json, 'w') as fp:\n",
    "            json.dump(games, fp, indent=4)\n",
    "\n",
    "    return games\n",
    "\n",
    "def remove_field(p2json, field, save_json=False):\n",
    "    with open(p2json, 'r') as fp:\n",
    "        games = json.load(fp)\n",
    "        for k, v in games.items():\n",
    "            game_dict = v\n",
    "            if field in game_dict.keys():\n",
    "                del game_dict[field]\n",
    "                games[k] = game_dict\n",
    "    \n",
    "    if save_json:\n",
    "        with open(p2json, 'w') as fp:\n",
    "            json.dump(games, fp, indent=4)\n",
    "\n",
    "    return games"
   ]
  },
  {
   "cell_type": "code",
   "execution_count": 10,
   "metadata": {},
   "outputs": [],
   "source": [
    "for p2json in [p2ai2_all, p2ai2, p2jam, p2zmack, p2default]:\n",
    "    add_field(p2json, 'category', save_json=True);"
   ]
  },
  {
   "cell_type": "code",
   "execution_count": 29,
   "metadata": {},
   "outputs": [],
   "source": []
  },
  {
   "cell_type": "code",
   "execution_count": null,
   "metadata": {},
   "outputs": [],
   "source": []
  },
  {
   "cell_type": "code",
   "execution_count": null,
   "metadata": {},
   "outputs": [],
   "source": []
  },
  {
   "cell_type": "code",
   "execution_count": null,
   "metadata": {},
   "outputs": [],
   "source": []
  },
  {
   "cell_type": "code",
   "execution_count": null,
   "metadata": {},
   "outputs": [],
   "source": []
  }
 ],
 "metadata": {
  "kernelspec": {
   "display_name": "ai2",
   "language": "python",
   "name": "python3"
  },
  "language_info": {
   "codemirror_mode": {
    "name": "ipython",
    "version": 3
   },
   "file_extension": ".py",
   "mimetype": "text/x-python",
   "name": "python",
   "nbconvert_exporter": "python",
   "pygments_lexer": "ipython3",
   "version": "3.9.18"
  }
 },
 "nbformat": 4,
 "nbformat_minor": 2
}
