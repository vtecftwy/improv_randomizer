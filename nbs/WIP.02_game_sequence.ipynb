{
 "cells": [
  {
   "cell_type": "code",
   "execution_count": 1,
   "metadata": {},
   "outputs": [],
   "source": [
    "from datetime import datetime, timedelta\n",
    "from pathlib import Path\n",
    "import logging\n",
    "import matplotlib.pyplot as plt\n",
    "import os\n",
    "import numpy as np\n",
    "import pandas as pd\n",
    "import random\n",
    "%load_ext autoreload\n",
    "%autoreload 2"
   ]
  },
  {
   "cell_type": "code",
   "execution_count": 2,
   "metadata": {},
   "outputs": [],
   "source": [
    "logging.basicConfig(\n",
    "    filename='nbs.log', # D:\\PyProjects\\ai2\\short\\logs\\_short.log\n",
    "    encoding='utf-8',\n",
    "    level=logging.CRITICAL,\n",
    "    format='%(message)s'\n",
    "    )\n",
    "logging.info(f\"{'='*50}\\nNew Session: {datetime.now().strftime('%Y-%m-%d %H:%M:%S')}\\n{'='*50}\")"
   ]
  },
  {
   "cell_type": "code",
   "execution_count": 3,
   "metadata": {},
   "outputs": [
    {
     "name": "stdout",
     "output_type": "stream",
     "text": [
      "changing cwd\n"
     ]
    }
   ],
   "source": [
    "if not (Path.cwd()/'gamesession.py').exists():  \n",
    "    print('changing cwd')  \n",
    "    os.chdir('..')\n",
    "    Path.cwd()\n",
    "\n",
    "from gamesession import GameSession"
   ]
  },
  {
   "cell_type": "code",
   "execution_count": 4,
   "metadata": {},
   "outputs": [
    {
     "name": "stdout",
     "output_type": "stream",
     "text": [
      "Entering `__init__`\n",
      "  Creating new GameSession object\n",
      "Entering `load_session_info`\n",
      "   Creating new Game object for TV Box\n",
      "   Creating new Game object for Double Reverse Alphabet\n",
      "   Creating new Game object for Sure Ding\n",
      "   Creating new Game object for No Laughing\n",
      "   Creating new Game object for More or Less\n",
      "   Creating new Game object for Stunt Doubles\n",
      "   Creating new Game object for Pillars\n",
      "   Creating new Game object for Do You Have a Receipt?\n",
      "   Creating new Game object for A Date with Me\n",
      "   Creating new Game object for Questions Only\n",
      "   Creating new Game object for Highlander\n",
      "   Creating new Game object for Genres\n",
      "   Creating new Game object for Headphones\n",
      "   Creating new Game object for Sit, Stand, Lie\n",
      "   Creating new Game object for Puppets\n",
      "   Creating new Game object for Story, Story, Die!\n",
      "   Creating new Game object for Everybody Dies\n",
      "   Creating new Game object for World's Worst\n",
      "   Creating new Game object for Forward Reverse\n",
      "   Creating new Game object for Mutant Debate\n",
      "   Creating new Player object for Chris\n",
      "   Creating new Player object for Etienne\n",
      "   Creating new Player object for Knick\n",
      "   Creating new Player object for Serena\n",
      "   Creating new Player object for Yirong\n",
      "   Game session data loaded\n",
      "Exiting  `load_session_info`\n",
      "Entering `create_game_sequence`\n",
      "Exiting  `create_game_sequence`\n",
      "   step: None, games played: None, curr: None, prev: None\n",
      "Exiting  `__init__`\n"
     ]
    }
   ],
   "source": [
    "session = GameSession()"
   ]
  },
  {
   "cell_type": "code",
   "execution_count": 5,
   "metadata": {},
   "outputs": [
    {
     "data": {
      "text/plain": [
       "[14, 11, 2, 15, 10, 4, 1, 12, 13, 5, 18, 7, 3, 17, 16, 19, 9, 0, 6, 8]"
      ]
     },
     "execution_count": 5,
     "metadata": {},
     "output_type": "execute_result"
    }
   ],
   "source": [
    "session.game_sequence"
   ]
  },
  {
   "cell_type": "code",
   "execution_count": 6,
   "metadata": {},
   "outputs": [
    {
     "name": "stdout",
     "output_type": "stream",
     "text": [
      "8\n",
      "[14, 11, 2, 15, 10, 4, 1, 12, 13, 5, 18, 7, 3, 17, 16, 19, 9, 0, 6]\n",
      "6\n",
      "[14, 11, 2, 15, 10, 4, 1, 12, 13, 5, 18, 7, 3, 17, 16, 19, 9, 0]\n",
      "0\n",
      "[14, 11, 2, 15, 10, 4, 1, 12, 13, 5, 18, 7, 3, 17, 16, 19, 9]\n",
      "9\n",
      "[14, 11, 2, 15, 10, 4, 1, 12, 13, 5, 18, 7, 3, 17, 16, 19]\n",
      "19\n",
      "[14, 11, 2, 15, 10, 4, 1, 12, 13, 5, 18, 7, 3, 17, 16]\n",
      "16\n",
      "[14, 11, 2, 15, 10, 4, 1, 12, 13, 5, 18, 7, 3, 17]\n",
      "17\n",
      "[14, 11, 2, 15, 10, 4, 1, 12, 13, 5, 18, 7, 3]\n",
      "3\n",
      "[14, 11, 2, 15, 10, 4, 1, 12, 13, 5, 18, 7]\n",
      "7\n",
      "[14, 11, 2, 15, 10, 4, 1, 12, 13, 5, 18]\n",
      "18\n",
      "[14, 11, 2, 15, 10, 4, 1, 12, 13, 5]\n",
      "5\n",
      "[14, 11, 2, 15, 10, 4, 1, 12, 13]\n",
      "13\n",
      "[14, 11, 2, 15, 10, 4, 1, 12]\n",
      "12\n",
      "[14, 11, 2, 15, 10, 4, 1]\n",
      "1\n",
      "[14, 11, 2, 15, 10, 4]\n",
      "4\n",
      "[14, 11, 2, 15, 10]\n",
      "10\n",
      "[14, 11, 2, 15]\n",
      "15\n",
      "[14, 11, 2]\n",
      "2\n",
      "[14, 11]\n",
      "11\n",
      "[14]\n",
      "14\n",
      "[]\n"
     ]
    }
   ],
   "source": [
    "l = session.game_sequence.copy()\n",
    "while l:\n",
    "    next_game = l.pop()\n",
    "    print(next_game)\n",
    "    print(l)"
   ]
  },
  {
   "cell_type": "code",
   "execution_count": null,
   "metadata": {},
   "outputs": [],
   "source": []
  }
 ],
 "metadata": {
  "kernelspec": {
   "display_name": "Python 3.9.7 ('ai2')",
   "language": "python",
   "name": "python3"
  },
  "language_info": {
   "codemirror_mode": {
    "name": "ipython",
    "version": 3
   },
   "file_extension": ".py",
   "mimetype": "text/x-python",
   "name": "python",
   "nbconvert_exporter": "python",
   "pygments_lexer": "ipython3",
   "version": "3.9.7"
  },
  "orig_nbformat": 4,
  "vscode": {
   "interpreter": {
    "hash": "0eb39429e907200a5034f236d651f1736c0e7407bac40927aba41b28178be421"
   }
  }
 },
 "nbformat": 4,
 "nbformat_minor": 2
}
