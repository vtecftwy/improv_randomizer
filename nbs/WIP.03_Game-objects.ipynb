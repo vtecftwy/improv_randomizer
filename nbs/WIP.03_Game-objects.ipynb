{
 "cells": [
  {
   "cell_type": "markdown",
   "metadata": {},
   "source": [
    "# Experiment with Game object"
   ]
  },
  {
   "cell_type": "code",
   "execution_count": 1,
   "metadata": {},
   "outputs": [],
   "source": [
    "from pathlib import Path\n",
    "import logging\n",
    "import numpy as np\n",
    "import pandas as pd\n",
    "import os\n",
    "import random\n",
    "%load_ext autoreload\n",
    "%autoreload 2"
   ]
  },
  {
   "cell_type": "code",
   "execution_count": 2,
   "metadata": {},
   "outputs": [
    {
     "name": "stdout",
     "output_type": "stream",
     "text": [
      "changing cwd\n"
     ]
    }
   ],
   "source": [
    "if not (Path.cwd()/'gamesession.py').exists():  \n",
    "    print('changing cwd')  \n",
    "    os.chdir('..')\n",
    "    Path.cwd()\n",
    "\n",
    "from gamesession import GameSession, Game, Player"
   ]
  },
  {
   "cell_type": "code",
   "execution_count": 3,
   "metadata": {},
   "outputs": [],
   "source": [
    "session = GameSession()"
   ]
  },
  {
   "cell_type": "code",
   "execution_count": 4,
   "metadata": {},
   "outputs": [
    {
     "data": {
      "text/plain": [
       "'What are four of your favorite TV channels?'"
      ]
     },
     "execution_count": 4,
     "metadata": {},
     "output_type": "execute_result"
    }
   ],
   "source": [
    "session.games[0].prompt"
   ]
  },
  {
   "cell_type": "code",
   "execution_count": 5,
   "metadata": {},
   "outputs": [
    {
     "data": {
      "text/plain": [
       "\"What's an unusual hobby?\""
      ]
     },
     "execution_count": 5,
     "metadata": {},
     "output_type": "execute_result"
    }
   ],
   "source": [
    "random.choice(session.promptlist)"
   ]
  },
  {
   "cell_type": "code",
   "execution_count": 7,
   "metadata": {},
   "outputs": [
    {
     "name": "stdout",
     "output_type": "stream",
     "text": [
      "TV Box\n",
      "0\n",
      "Double Reverse Alphabet\n",
      "0\n",
      "Sure Ding\n",
      "0\n",
      "No Laughing\n",
      "0\n",
      "More or Less\n",
      "0\n",
      "Stunt Doubles\n",
      "0\n",
      "Pillars\n",
      "2\n",
      "Do You Have a Receipt?\n",
      "0\n",
      "A Date with Me\n",
      "0\n",
      "Questions Only\n",
      "0\n",
      "Highlander\n",
      "0\n",
      "Genres\n",
      "0\n",
      "Headphones\n",
      "0\n",
      "Sit, Stand, Lie\n",
      "0\n",
      "Puppets\n",
      "2\n",
      "Story, Story, Die!\n",
      "0\n",
      "Everybody Dies\n",
      "0\n",
      "World's Worst\n",
      "0\n",
      "Forward Reverse\n",
      "0\n",
      "Mutant Debate\n",
      "0\n"
     ]
    }
   ],
   "source": [
    "for game in session.games:\n",
    "    print(game.name)\n",
    "    print(game.nbr_audience)"
   ]
  },
  {
   "cell_type": "code",
   "execution_count": 8,
   "metadata": {},
   "outputs": [
    {
     "name": "stdout",
     "output_type": "stream",
     "text": [
      "Player Info: \n",
      "    name           : Chris\n",
      "    nbr_games_played: 0\n",
      "    nbr_games_hosted: 0\n",
      "    hosting_inclusion_list: []\n",
      "    hosting_exclusion_list: []\n",
      "    game_exclusion_list: []\n",
      "\n",
      "Player Info: \n",
      "    name           : Etienne\n",
      "    nbr_games_played: 0\n",
      "    nbr_games_hosted: 0\n",
      "    hosting_inclusion_list: []\n",
      "    hosting_exclusion_list: []\n",
      "    game_exclusion_list: []\n",
      "\n",
      "Player Info: \n",
      "    name           : Knick\n",
      "    nbr_games_played: 0\n",
      "    nbr_games_hosted: 0\n",
      "    hosting_inclusion_list: ['Story, Story, Die!']\n",
      "    hosting_exclusion_list: []\n",
      "    game_exclusion_list: []\n",
      "\n",
      "Player Info: \n",
      "    name           : Serena\n",
      "    nbr_games_played: 0\n",
      "    nbr_games_hosted: 0\n",
      "    hosting_inclusion_list: []\n",
      "    hosting_exclusion_list: []\n",
      "    game_exclusion_list: []\n",
      "\n",
      "Player Info: \n",
      "    name           : Yirong\n",
      "    nbr_games_played: 0\n",
      "    nbr_games_hosted: 0\n",
      "    hosting_inclusion_list: []\n",
      "    hosting_exclusion_list: []\n",
      "    game_exclusion_list: []\n",
      "\n"
     ]
    }
   ],
   "source": [
    "for cast in session.cast:\n",
    "    print(cast)"
   ]
  }
 ],
 "metadata": {
  "kernelspec": {
   "display_name": "Python 3.9.7 ('ai2')",
   "language": "python",
   "name": "python3"
  },
  "language_info": {
   "codemirror_mode": {
    "name": "ipython",
    "version": 3
   },
   "file_extension": ".py",
   "mimetype": "text/x-python",
   "name": "python",
   "nbconvert_exporter": "python",
   "pygments_lexer": "ipython3",
   "version": "3.9.7"
  },
  "orig_nbformat": 4,
  "vscode": {
   "interpreter": {
    "hash": "0eb39429e907200a5034f236d651f1736c0e7407bac40927aba41b28178be421"
   }
  }
 },
 "nbformat": 4,
 "nbformat_minor": 2
}
