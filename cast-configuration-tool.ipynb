{
 "cells": [
  {
   "cell_type": "markdown",
   "metadata": {},
   "source": [
    "# Tool to update cast, games and prompt information\n",
    "\n",
    "- Run the fist cell.\n",
    "- Then run each other cell one by one, following the instructions provided each time.\n",
    "\n",
    "This tool guides you through updating cast members, games information and prompts to pick randomly."
   ]
  },
  {
   "cell_type": "code",
   "execution_count": 1,
   "metadata": {},
   "outputs": [],
   "source": [
    "%load_ext autoreload\n",
    "%autoreload 2\n",
    "from utils import WidgetCast, WidgetGames, WidgetPrompts"
   ]
  },
  {
   "cell_type": "code",
   "execution_count": 2,
   "metadata": {},
   "outputs": [
    {
     "data": {
      "application/vnd.jupyter.widget-view+json": {
       "model_id": "b7407d13f95343048a1fae3286c9d6da",
       "version_major": 2,
       "version_minor": 0
      },
      "text/plain": [
       "HTML(value='<p style=\"color:#00BCD4; font-size:3em; font-weight:bold\">Update, add, delete cast members:</p>')"
      ]
     },
     "metadata": {},
     "output_type": "display_data"
    },
    {
     "data": {
      "application/vnd.jupyter.widget-view+json": {
       "model_id": "270edb1f768b4cf4b0d8e323aca145b6",
       "version_major": 2,
       "version_minor": 0
      },
      "text/plain": [
       "HTML(value='<p style=\"color:#000000; font-size:1.25em; font-weight:normal\">All names must be separated with a …"
      ]
     },
     "metadata": {},
     "output_type": "display_data"
    },
    {
     "data": {
      "application/vnd.jupyter.widget-view+json": {
       "model_id": "1a1709664b964d96bdf198d26c5294a9",
       "version_major": 2,
       "version_minor": 0
      },
      "text/plain": [
       "Text(value='Cast 1, Cast 2, Cast 3, Cast 4, Cast 5, Cast 6, Cast 7, Cast 8, Cast 9, Cast 10', description='Cas…"
      ]
     },
     "metadata": {},
     "output_type": "display_data"
    },
    {
     "data": {
      "application/vnd.jupyter.widget-view+json": {
       "model_id": "7ac10e3ec3d64e66be86b4f7fc60e4f1",
       "version_major": 2,
       "version_minor": 0
      },
      "text/plain": [
       "Button(button_style='info', description='save', icon='check', style=ButtonStyle())"
      ]
     },
     "metadata": {},
     "output_type": "display_data"
    }
   ],
   "source": [
    "cast = WidgetCast()"
   ]
  },
  {
   "cell_type": "code",
   "execution_count": 3,
   "metadata": {
    "scrolled": false
   },
   "outputs": [
    {
     "data": {
      "application/vnd.jupyter.widget-view+json": {
       "model_id": "a679ec1b0da4477ea55d388688c402a1",
       "version_major": 2,
       "version_minor": 0
      },
      "text/plain": [
       "HTML(value='<p style=\"color:#00BCD4; font-size:3em; font-weight:bold\">Update, add or delete games below:</p>')"
      ]
     },
     "metadata": {},
     "output_type": "display_data"
    },
    {
     "data": {
      "application/vnd.jupyter.widget-view+json": {
       "model_id": "38f1fe2b758748e78e433c65a1197f2b",
       "version_major": 2,
       "version_minor": 0
      },
      "text/plain": [
       "HTML(value='<p style=\"color:#000000; font-size:1.25em; font-weight:normal\"><p>Change the parameters of the gam…"
      ]
     },
     "metadata": {},
     "output_type": "display_data"
    },
    {
     "data": {
      "text/html": [
       "<hr>"
      ]
     },
     "metadata": {},
     "output_type": "display_data"
    },
    {
     "data": {
      "application/vnd.jupyter.widget-view+json": {
       "model_id": "fbae7b760fb944f7af3107d7b86a5faf",
       "version_major": 2,
       "version_minor": 0
      },
      "text/plain": [
       "Text(value='TV Box', description=' 1:', layout=Layout(width='80%'))"
      ]
     },
     "metadata": {},
     "output_type": "display_data"
    },
    {
     "data": {
      "application/vnd.jupyter.widget-view+json": {
       "model_id": "77eaba0224324bf88fb2c08c490d4d67",
       "version_major": 2,
       "version_minor": 0
      },
      "text/plain": [
       "Text(value='4', description='Nbr players:  ', layout=Layout(width='80%'))"
      ]
     },
     "metadata": {},
     "output_type": "display_data"
    },
    {
     "data": {
      "application/vnd.jupyter.widget-view+json": {
       "model_id": "3678218158f1408a8f894c71227d0b89",
       "version_major": 2,
       "version_minor": 0
      },
      "text/plain": [
       "Text(value='0', description='Nbr audience: ', layout=Layout(width='80%'))"
      ]
     },
     "metadata": {},
     "output_type": "display_data"
    },
    {
     "data": {
      "application/vnd.jupyter.widget-view+json": {
       "model_id": "d2624dbf4e844b379575b8fc8b217ddf",
       "version_major": 2,
       "version_minor": 0
      },
      "text/plain": [
       "Text(value='What are four of your favorite TV channels?', description='Prompt:', layout=Layout(width='80%'))"
      ]
     },
     "metadata": {},
     "output_type": "display_data"
    },
    {
     "data": {
      "application/vnd.jupyter.widget-view+json": {
       "model_id": "7b42ae2bb86d437689fa384a7a1f7b55",
       "version_major": 2,
       "version_minor": 0
      },
      "text/plain": [
       "GridspecLayout(children=(Button(button_style='danger', description='Delete This Game', icon='check', layout=La…"
      ]
     },
     "metadata": {},
     "output_type": "display_data"
    },
    {
     "data": {
      "text/html": [
       "<hr>"
      ]
     },
     "metadata": {},
     "output_type": "display_data"
    },
    {
     "data": {
      "application/vnd.jupyter.widget-view+json": {
       "model_id": "14890c5c2bcb4b52a018f82cee882951",
       "version_major": 2,
       "version_minor": 0
      },
      "text/plain": [
       "Text(value='Double Reverse Alphabet', description=' 2:', layout=Layout(width='80%'))"
      ]
     },
     "metadata": {},
     "output_type": "display_data"
    },
    {
     "data": {
      "application/vnd.jupyter.widget-view+json": {
       "model_id": "29458be2b24b4a38bddafdc635d682fa",
       "version_major": 2,
       "version_minor": 0
      },
      "text/plain": [
       "Text(value='2', description='Nbr players:  ', layout=Layout(width='80%'))"
      ]
     },
     "metadata": {},
     "output_type": "display_data"
    },
    {
     "data": {
      "application/vnd.jupyter.widget-view+json": {
       "model_id": "87092976a7c544cfa7ce0d5bba4e29bb",
       "version_major": 2,
       "version_minor": 0
      },
      "text/plain": [
       "Text(value='0', description='Nbr audience: ', layout=Layout(width='80%'))"
      ]
     },
     "metadata": {},
     "output_type": "display_data"
    },
    {
     "data": {
      "application/vnd.jupyter.widget-view+json": {
       "model_id": "2fcdd1db3d9d4c1eb5bd8448222dc913",
       "version_major": 2,
       "version_minor": 0
      },
      "text/plain": [
       "Text(value='A B C D E F G H I J K L M N O P Q R S T U V W X Y Z', description='Prompt:', layout=Layout(width='…"
      ]
     },
     "metadata": {},
     "output_type": "display_data"
    },
    {
     "data": {
      "application/vnd.jupyter.widget-view+json": {
       "model_id": "6641635f7d9c415597ca05638c0dfda1",
       "version_major": 2,
       "version_minor": 0
      },
      "text/plain": [
       "GridspecLayout(children=(Button(button_style='danger', description='Delete This Game', icon='check', layout=La…"
      ]
     },
     "metadata": {},
     "output_type": "display_data"
    },
    {
     "data": {
      "text/html": [
       "<hr>"
      ]
     },
     "metadata": {},
     "output_type": "display_data"
    },
    {
     "data": {
      "application/vnd.jupyter.widget-view+json": {
       "model_id": "7f61fb6b8228477f84be789ad95b62d8",
       "version_major": 2,
       "version_minor": 0
      },
      "text/plain": [
       "Text(value='Sure Ding', description=' 3:', layout=Layout(width='80%'))"
      ]
     },
     "metadata": {},
     "output_type": "display_data"
    },
    {
     "data": {
      "application/vnd.jupyter.widget-view+json": {
       "model_id": "773318c739ee4849bcd1b1024206940a",
       "version_major": 2,
       "version_minor": 0
      },
      "text/plain": [
       "Text(value='3', description='Nbr players:  ', layout=Layout(width='80%'))"
      ]
     },
     "metadata": {},
     "output_type": "display_data"
    },
    {
     "data": {
      "application/vnd.jupyter.widget-view+json": {
       "model_id": "91d2b02e562b476f875e57c29021e589",
       "version_major": 2,
       "version_minor": 0
      },
      "text/plain": [
       "Text(value='0', description='Nbr audience: ', layout=Layout(width='80%'))"
      ]
     },
     "metadata": {},
     "output_type": "display_data"
    },
    {
     "data": {
      "application/vnd.jupyter.widget-view+json": {
       "model_id": "3c728fcb62034178a2365a5b8a25832a",
       "version_major": 2,
       "version_minor": 0
      },
      "text/plain": [
       "Text(value='None', description='Prompt:', layout=Layout(width='80%'))"
      ]
     },
     "metadata": {},
     "output_type": "display_data"
    },
    {
     "data": {
      "application/vnd.jupyter.widget-view+json": {
       "model_id": "ec06c4eff4d5402b8cc2ee5420a19408",
       "version_major": 2,
       "version_minor": 0
      },
      "text/plain": [
       "GridspecLayout(children=(Button(button_style='danger', description='Delete This Game', icon='check', layout=La…"
      ]
     },
     "metadata": {},
     "output_type": "display_data"
    },
    {
     "data": {
      "text/html": [
       "<hr>"
      ]
     },
     "metadata": {},
     "output_type": "display_data"
    },
    {
     "data": {
      "application/vnd.jupyter.widget-view+json": {
       "model_id": "ef40020aeca14f8691c70ee646cf663a",
       "version_major": 2,
       "version_minor": 0
      },
      "text/plain": [
       "Text(value='No Laughing', description=' 4:', layout=Layout(width='80%'))"
      ]
     },
     "metadata": {},
     "output_type": "display_data"
    },
    {
     "data": {
      "application/vnd.jupyter.widget-view+json": {
       "model_id": "ecacc603c27648f29d3b6c8d42e22d78",
       "version_major": 2,
       "version_minor": 0
      },
      "text/plain": [
       "Text(value='0', description='Nbr players:  ', layout=Layout(width='80%'))"
      ]
     },
     "metadata": {},
     "output_type": "display_data"
    },
    {
     "data": {
      "application/vnd.jupyter.widget-view+json": {
       "model_id": "b47afcc8bc58490192a3ccc2f36e4bdb",
       "version_major": 2,
       "version_minor": 0
      },
      "text/plain": [
       "Text(value='0', description='Nbr audience: ', layout=Layout(width='80%'))"
      ]
     },
     "metadata": {},
     "output_type": "display_data"
    },
    {
     "data": {
      "application/vnd.jupyter.widget-view+json": {
       "model_id": "9d637964071e48659a87315a03f4b2bc",
       "version_major": 2,
       "version_minor": 0
      },
      "text/plain": [
       "Text(value='Something funny and something serious', description='Prompt:', layout=Layout(width='80%'))"
      ]
     },
     "metadata": {},
     "output_type": "display_data"
    },
    {
     "data": {
      "application/vnd.jupyter.widget-view+json": {
       "model_id": "8ef2b1782c4d49e2a41ae0046adfc061",
       "version_major": 2,
       "version_minor": 0
      },
      "text/plain": [
       "GridspecLayout(children=(Button(button_style='danger', description='Delete This Game', icon='check', layout=La…"
      ]
     },
     "metadata": {},
     "output_type": "display_data"
    },
    {
     "data": {
      "text/html": [
       "<hr>"
      ]
     },
     "metadata": {},
     "output_type": "display_data"
    },
    {
     "data": {
      "application/vnd.jupyter.widget-view+json": {
       "model_id": "8e45c00af3bf4d688a9d043799f00537",
       "version_major": 2,
       "version_minor": 0
      },
      "text/plain": [
       "Text(value='More or Less', description=' 5:', layout=Layout(width='80%'))"
      ]
     },
     "metadata": {},
     "output_type": "display_data"
    },
    {
     "data": {
      "application/vnd.jupyter.widget-view+json": {
       "model_id": "d9c9c25378f14120bef2e7391474984c",
       "version_major": 2,
       "version_minor": 0
      },
      "text/plain": [
       "Text(value='3', description='Nbr players:  ', layout=Layout(width='80%'))"
      ]
     },
     "metadata": {},
     "output_type": "display_data"
    },
    {
     "data": {
      "application/vnd.jupyter.widget-view+json": {
       "model_id": "c2ecccc0558c4d518017fda2c243f0bc",
       "version_major": 2,
       "version_minor": 0
      },
      "text/plain": [
       "Text(value='0', description='Nbr audience: ', layout=Layout(width='80%'))"
      ]
     },
     "metadata": {},
     "output_type": "display_data"
    },
    {
     "data": {
      "application/vnd.jupyter.widget-view+json": {
       "model_id": "b4e62a7b8a8e4d34a4d3fd70dd84d5fb",
       "version_major": 2,
       "version_minor": 0
      },
      "text/plain": [
       "Text(value='An ordinary task you do everyday.', description='Prompt:', layout=Layout(width='80%'))"
      ]
     },
     "metadata": {},
     "output_type": "display_data"
    },
    {
     "data": {
      "application/vnd.jupyter.widget-view+json": {
       "model_id": "c05a5413433f44738710107a00084870",
       "version_major": 2,
       "version_minor": 0
      },
      "text/plain": [
       "GridspecLayout(children=(Button(button_style='danger', description='Delete This Game', icon='check', layout=La…"
      ]
     },
     "metadata": {},
     "output_type": "display_data"
    },
    {
     "data": {
      "text/html": [
       "<hr>"
      ]
     },
     "metadata": {},
     "output_type": "display_data"
    },
    {
     "data": {
      "application/vnd.jupyter.widget-view+json": {
       "model_id": "63f09e542c8b45b4a1780dbb851dc694",
       "version_major": 2,
       "version_minor": 0
      },
      "text/plain": [
       "Text(value='Stunt Doubles', description=' 6:', layout=Layout(width='80%'))"
      ]
     },
     "metadata": {},
     "output_type": "display_data"
    },
    {
     "data": {
      "application/vnd.jupyter.widget-view+json": {
       "model_id": "197158fc2e8d4aea9103e49f079afc28",
       "version_major": 2,
       "version_minor": 0
      },
      "text/plain": [
       "Text(value='4', description='Nbr players:  ', layout=Layout(width='80%'))"
      ]
     },
     "metadata": {},
     "output_type": "display_data"
    },
    {
     "data": {
      "application/vnd.jupyter.widget-view+json": {
       "model_id": "c614dde947d445f1a59fad873953a4d5",
       "version_major": 2,
       "version_minor": 0
      },
      "text/plain": [
       "Text(value='0', description='Nbr audience: ', layout=Layout(width='80%'))"
      ]
     },
     "metadata": {},
     "output_type": "display_data"
    },
    {
     "data": {
      "application/vnd.jupyter.widget-view+json": {
       "model_id": "0b9ac9da4b34469dac6dd4cdfd802e76",
       "version_major": 2,
       "version_minor": 0
      },
      "text/plain": [
       "Text(value='None', description='Prompt:', layout=Layout(width='80%'))"
      ]
     },
     "metadata": {},
     "output_type": "display_data"
    },
    {
     "data": {
      "application/vnd.jupyter.widget-view+json": {
       "model_id": "05940bf213a345a5848ba06c291d80c9",
       "version_major": 2,
       "version_minor": 0
      },
      "text/plain": [
       "GridspecLayout(children=(Button(button_style='danger', description='Delete This Game', icon='check', layout=La…"
      ]
     },
     "metadata": {},
     "output_type": "display_data"
    },
    {
     "data": {
      "text/html": [
       "<hr>"
      ]
     },
     "metadata": {},
     "output_type": "display_data"
    },
    {
     "data": {
      "application/vnd.jupyter.widget-view+json": {
       "model_id": "b99dd6fd763e4272a84adbbf6fe6beb6",
       "version_major": 2,
       "version_minor": 0
      },
      "text/plain": [
       "Text(value='Pillars', description=' 7:', layout=Layout(width='80%'))"
      ]
     },
     "metadata": {},
     "output_type": "display_data"
    },
    {
     "data": {
      "application/vnd.jupyter.widget-view+json": {
       "model_id": "a191cfd85cfc49e39354c6dbec7f8818",
       "version_major": 2,
       "version_minor": 0
      },
      "text/plain": [
       "Text(value='3', description='Nbr players:  ', layout=Layout(width='80%'))"
      ]
     },
     "metadata": {},
     "output_type": "display_data"
    },
    {
     "data": {
      "application/vnd.jupyter.widget-view+json": {
       "model_id": "8f9c15426a3c4358b4d0a046ee3e006d",
       "version_major": 2,
       "version_minor": 0
      },
      "text/plain": [
       "Text(value='2', description='Nbr audience: ', layout=Layout(width='80%'))"
      ]
     },
     "metadata": {},
     "output_type": "display_data"
    },
    {
     "data": {
      "application/vnd.jupyter.widget-view+json": {
       "model_id": "7f973e91180f439c8bf4d0279c543fab",
       "version_major": 2,
       "version_minor": 0
      },
      "text/plain": [
       "Text(value='[]', description='Prompt:', layout=Layout(width='80%'))"
      ]
     },
     "metadata": {},
     "output_type": "display_data"
    },
    {
     "data": {
      "application/vnd.jupyter.widget-view+json": {
       "model_id": "e4d67ad47f844578aa6cef426c573187",
       "version_major": 2,
       "version_minor": 0
      },
      "text/plain": [
       "GridspecLayout(children=(Button(button_style='danger', description='Delete This Game', icon='check', layout=La…"
      ]
     },
     "metadata": {},
     "output_type": "display_data"
    },
    {
     "data": {
      "text/html": [
       "<hr>"
      ]
     },
     "metadata": {},
     "output_type": "display_data"
    },
    {
     "data": {
      "application/vnd.jupyter.widget-view+json": {
       "model_id": "e8f2d4a751d040d7a33c78e80d7ca3f1",
       "version_major": 2,
       "version_minor": 0
      },
      "text/plain": [
       "Text(value='Do You Have a Receipt?', description=' 8:', layout=Layout(width='80%'))"
      ]
     },
     "metadata": {},
     "output_type": "display_data"
    },
    {
     "data": {
      "application/vnd.jupyter.widget-view+json": {
       "model_id": "e8ab96cc02404e6ea4f2a8364ddf0e01",
       "version_major": 2,
       "version_minor": 0
      },
      "text/plain": [
       "Text(value='4', description='Nbr players:  ', layout=Layout(width='80%'))"
      ]
     },
     "metadata": {},
     "output_type": "display_data"
    },
    {
     "data": {
      "application/vnd.jupyter.widget-view+json": {
       "model_id": "d681d930ac9d4feb8c8f0deacd76d593",
       "version_major": 2,
       "version_minor": 0
      },
      "text/plain": [
       "Text(value='0', description='Nbr audience: ', layout=Layout(width='80%'))"
      ]
     },
     "metadata": {},
     "output_type": "display_data"
    },
    {
     "data": {
      "application/vnd.jupyter.widget-view+json": {
       "model_id": "12d64954e64c43fc930aee871bd16663",
       "version_major": 2,
       "version_minor": 0
      },
      "text/plain": [
       "Text(value='How many products can we return in 1.5 minutes?', description='Prompt:', layout=Layout(width='80%'…"
      ]
     },
     "metadata": {},
     "output_type": "display_data"
    },
    {
     "data": {
      "application/vnd.jupyter.widget-view+json": {
       "model_id": "e5f4ea07f1d44859905b2a3ac9391280",
       "version_major": 2,
       "version_minor": 0
      },
      "text/plain": [
       "GridspecLayout(children=(Button(button_style='danger', description='Delete This Game', icon='check', layout=La…"
      ]
     },
     "metadata": {},
     "output_type": "display_data"
    },
    {
     "data": {
      "text/html": [
       "<hr>"
      ]
     },
     "metadata": {},
     "output_type": "display_data"
    },
    {
     "data": {
      "application/vnd.jupyter.widget-view+json": {
       "model_id": "d64bea9853e14ba08b30a5e804e163ce",
       "version_major": 2,
       "version_minor": 0
      },
      "text/plain": [
       "Text(value='A Date with Me', description=' 9:', layout=Layout(width='80%'))"
      ]
     },
     "metadata": {},
     "output_type": "display_data"
    },
    {
     "data": {
      "application/vnd.jupyter.widget-view+json": {
       "model_id": "5147eab5e6c94fd994792aa8c9947c39",
       "version_major": 2,
       "version_minor": 0
      },
      "text/plain": [
       "Text(value='0', description='Nbr players:  ', layout=Layout(width='80%'))"
      ]
     },
     "metadata": {},
     "output_type": "display_data"
    },
    {
     "data": {
      "application/vnd.jupyter.widget-view+json": {
       "model_id": "cfabff8b6cd64a62865d5d4dc5b84e9b",
       "version_major": 2,
       "version_minor": 0
      },
      "text/plain": [
       "Text(value='0', description='Nbr audience: ', layout=Layout(width='80%'))"
      ]
     },
     "metadata": {},
     "output_type": "display_data"
    },
    {
     "data": {
      "application/vnd.jupyter.widget-view+json": {
       "model_id": "d670e104c9ca409295d87bc2915c6962",
       "version_major": 2,
       "version_minor": 0
      },
      "text/plain": [
       "Text(value='A date with me is like <object/occupation>.', description='Prompt:', layout=Layout(width='80%'))"
      ]
     },
     "metadata": {},
     "output_type": "display_data"
    },
    {
     "data": {
      "application/vnd.jupyter.widget-view+json": {
       "model_id": "99dc062e122043ccba44ea0f65095aca",
       "version_major": 2,
       "version_minor": 0
      },
      "text/plain": [
       "GridspecLayout(children=(Button(button_style='danger', description='Delete This Game', icon='check', layout=La…"
      ]
     },
     "metadata": {},
     "output_type": "display_data"
    },
    {
     "data": {
      "text/html": [
       "<hr>"
      ]
     },
     "metadata": {},
     "output_type": "display_data"
    },
    {
     "data": {
      "application/vnd.jupyter.widget-view+json": {
       "model_id": "363d5fa6aa5646ce91423cf329ccdff7",
       "version_major": 2,
       "version_minor": 0
      },
      "text/plain": [
       "Text(value='Questions Only', description='10:', layout=Layout(width='80%'))"
      ]
     },
     "metadata": {},
     "output_type": "display_data"
    },
    {
     "data": {
      "application/vnd.jupyter.widget-view+json": {
       "model_id": "73af683ec4f34a4aac97b48684975fa7",
       "version_major": 2,
       "version_minor": 0
      },
      "text/plain": [
       "Text(value='0', description='Nbr players:  ', layout=Layout(width='80%'))"
      ]
     },
     "metadata": {},
     "output_type": "display_data"
    },
    {
     "data": {
      "application/vnd.jupyter.widget-view+json": {
       "model_id": "04af92614ac342009668fbb0be893dea",
       "version_major": 2,
       "version_minor": 0
      },
      "text/plain": [
       "Text(value='0', description='Nbr audience: ', layout=Layout(width='80%'))"
      ]
     },
     "metadata": {},
     "output_type": "display_data"
    },
    {
     "data": {
      "application/vnd.jupyter.widget-view+json": {
       "model_id": "8648ea70a3744a3889c4d31803e1c190",
       "version_major": 2,
       "version_minor": 0
      },
      "text/plain": [
       "Text(value=\"['A location with a lot of people']\", description='Prompt:', layout=Layout(width='80%'))"
      ]
     },
     "metadata": {},
     "output_type": "display_data"
    },
    {
     "data": {
      "application/vnd.jupyter.widget-view+json": {
       "model_id": "f4646ca5c8954e06b91aa1be9fc4b488",
       "version_major": 2,
       "version_minor": 0
      },
      "text/plain": [
       "GridspecLayout(children=(Button(button_style='danger', description='Delete This Game', icon='check', layout=La…"
      ]
     },
     "metadata": {},
     "output_type": "display_data"
    },
    {
     "data": {
      "text/html": [
       "<hr>"
      ]
     },
     "metadata": {},
     "output_type": "display_data"
    },
    {
     "data": {
      "application/vnd.jupyter.widget-view+json": {
       "model_id": "3f219b36cbc94e06bb60a429fbca6cb6",
       "version_major": 2,
       "version_minor": 0
      },
      "text/plain": [
       "Text(value='Highlander', description='11:', layout=Layout(width='80%'))"
      ]
     },
     "metadata": {},
     "output_type": "display_data"
    },
    {
     "data": {
      "application/vnd.jupyter.widget-view+json": {
       "model_id": "e1dd580eab3b4567897da20c65871f98",
       "version_major": 2,
       "version_minor": 0
      },
      "text/plain": [
       "Text(value='4', description='Nbr players:  ', layout=Layout(width='80%'))"
      ]
     },
     "metadata": {},
     "output_type": "display_data"
    },
    {
     "data": {
      "application/vnd.jupyter.widget-view+json": {
       "model_id": "e64f9bdbd59746779df551af40a112ae",
       "version_major": 2,
       "version_minor": 0
      },
      "text/plain": [
       "Text(value='0', description='Nbr audience: ', layout=Layout(width='80%'))"
      ]
     },
     "metadata": {},
     "output_type": "display_data"
    },
    {
     "data": {
      "application/vnd.jupyter.widget-view+json": {
       "model_id": "f718a4cb83c84de09451472e741f957d",
       "version_major": 2,
       "version_minor": 0
      },
      "text/plain": [
       "Text(value='None', description='Prompt:', layout=Layout(width='80%'))"
      ]
     },
     "metadata": {},
     "output_type": "display_data"
    },
    {
     "data": {
      "application/vnd.jupyter.widget-view+json": {
       "model_id": "3ba20c25d6a4441cbcf63aef8589eeaf",
       "version_major": 2,
       "version_minor": 0
      },
      "text/plain": [
       "GridspecLayout(children=(Button(button_style='danger', description='Delete This Game', icon='check', layout=La…"
      ]
     },
     "metadata": {},
     "output_type": "display_data"
    },
    {
     "data": {
      "text/html": [
       "<hr>"
      ]
     },
     "metadata": {},
     "output_type": "display_data"
    },
    {
     "data": {
      "application/vnd.jupyter.widget-view+json": {
       "model_id": "e118f38f1dd6445cb32b5e3a9e6c62de",
       "version_major": 2,
       "version_minor": 0
      },
      "text/plain": [
       "Text(value='Genres', description='12:', layout=Layout(width='80%'))"
      ]
     },
     "metadata": {},
     "output_type": "display_data"
    },
    {
     "data": {
      "application/vnd.jupyter.widget-view+json": {
       "model_id": "06111b90b8bc46a69ba4c60ffbe698e1",
       "version_major": 2,
       "version_minor": 0
      },
      "text/plain": [
       "Text(value='3', description='Nbr players:  ', layout=Layout(width='80%'))"
      ]
     },
     "metadata": {},
     "output_type": "display_data"
    },
    {
     "data": {
      "application/vnd.jupyter.widget-view+json": {
       "model_id": "7a1ef59a87394d5ea630b0fb27eb0bf3",
       "version_major": 2,
       "version_minor": 0
      },
      "text/plain": [
       "Text(value='0', description='Nbr audience: ', layout=Layout(width='80%'))"
      ]
     },
     "metadata": {},
     "output_type": "display_data"
    },
    {
     "data": {
      "application/vnd.jupyter.widget-view+json": {
       "model_id": "91c0e2786208497ca070196ebd34520c",
       "version_major": 2,
       "version_minor": 0
      },
      "text/plain": [
       "Text(value='At least three story genres. \\n+ Title of a netflix movie which will never be made', description='…"
      ]
     },
     "metadata": {},
     "output_type": "display_data"
    },
    {
     "data": {
      "application/vnd.jupyter.widget-view+json": {
       "model_id": "b783de895ff247be807af5bf66265581",
       "version_major": 2,
       "version_minor": 0
      },
      "text/plain": [
       "GridspecLayout(children=(Button(button_style='danger', description='Delete This Game', icon='check', layout=La…"
      ]
     },
     "metadata": {},
     "output_type": "display_data"
    },
    {
     "data": {
      "text/html": [
       "<hr>"
      ]
     },
     "metadata": {},
     "output_type": "display_data"
    },
    {
     "data": {
      "application/vnd.jupyter.widget-view+json": {
       "model_id": "d37a32dc15974426b1df9494b7e40e14",
       "version_major": 2,
       "version_minor": 0
      },
      "text/plain": [
       "Text(value='Headphones', description='13:', layout=Layout(width='80%'))"
      ]
     },
     "metadata": {},
     "output_type": "display_data"
    },
    {
     "data": {
      "application/vnd.jupyter.widget-view+json": {
       "model_id": "35eec6d4170a46728c4d7a30327ee3b3",
       "version_major": 2,
       "version_minor": 0
      },
      "text/plain": [
       "Text(value='3', description='Nbr players:  ', layout=Layout(width='80%'))"
      ]
     },
     "metadata": {},
     "output_type": "display_data"
    },
    {
     "data": {
      "application/vnd.jupyter.widget-view+json": {
       "model_id": "300cf5ba04b94be691c41f8cd80e7a4c",
       "version_major": 2,
       "version_minor": 0
      },
      "text/plain": [
       "Text(value='0', description='Nbr audience: ', layout=Layout(width='80%'))"
      ]
     },
     "metadata": {},
     "output_type": "display_data"
    },
    {
     "data": {
      "application/vnd.jupyter.widget-view+json": {
       "model_id": "4097058e9c624b438f24e4fe10466ba3",
       "version_major": 2,
       "version_minor": 0
      },
      "text/plain": [
       "Text(value='None', description='Prompt:', layout=Layout(width='80%'))"
      ]
     },
     "metadata": {},
     "output_type": "display_data"
    },
    {
     "data": {
      "application/vnd.jupyter.widget-view+json": {
       "model_id": "c0733c2ef5da488aa5eb813a5fe7a385",
       "version_major": 2,
       "version_minor": 0
      },
      "text/plain": [
       "GridspecLayout(children=(Button(button_style='danger', description='Delete This Game', icon='check', layout=La…"
      ]
     },
     "metadata": {},
     "output_type": "display_data"
    },
    {
     "data": {
      "text/html": [
       "<hr>"
      ]
     },
     "metadata": {},
     "output_type": "display_data"
    },
    {
     "data": {
      "application/vnd.jupyter.widget-view+json": {
       "model_id": "b66e8f4fd08c4550beccb6a439e4015f",
       "version_major": 2,
       "version_minor": 0
      },
      "text/plain": [
       "Text(value='Sit, Stand, Lie', description='14:', layout=Layout(width='80%'))"
      ]
     },
     "metadata": {},
     "output_type": "display_data"
    },
    {
     "data": {
      "application/vnd.jupyter.widget-view+json": {
       "model_id": "27f457d58d3a4837adb5b61182f02e1b",
       "version_major": 2,
       "version_minor": 0
      },
      "text/plain": [
       "Text(value='3', description='Nbr players:  ', layout=Layout(width='80%'))"
      ]
     },
     "metadata": {},
     "output_type": "display_data"
    },
    {
     "data": {
      "application/vnd.jupyter.widget-view+json": {
       "model_id": "81374ad538b04ab3825befc292a99782",
       "version_major": 2,
       "version_minor": 0
      },
      "text/plain": [
       "Text(value='0', description='Nbr audience: ', layout=Layout(width='80%'))"
      ]
     },
     "metadata": {},
     "output_type": "display_data"
    },
    {
     "data": {
      "application/vnd.jupyter.widget-view+json": {
       "model_id": "8a54ada82baa4144afde8f01715ce801",
       "version_major": 2,
       "version_minor": 0
      },
      "text/plain": [
       "Text(value='Your favorite Olympic sport', description='Prompt:', layout=Layout(width='80%'))"
      ]
     },
     "metadata": {},
     "output_type": "display_data"
    },
    {
     "data": {
      "application/vnd.jupyter.widget-view+json": {
       "model_id": "0d9277378a6a40cbbe60929f0c985c99",
       "version_major": 2,
       "version_minor": 0
      },
      "text/plain": [
       "GridspecLayout(children=(Button(button_style='danger', description='Delete This Game', icon='check', layout=La…"
      ]
     },
     "metadata": {},
     "output_type": "display_data"
    },
    {
     "data": {
      "text/html": [
       "<hr>"
      ]
     },
     "metadata": {},
     "output_type": "display_data"
    },
    {
     "data": {
      "application/vnd.jupyter.widget-view+json": {
       "model_id": "278e81faa5004c12a778cae012fc93f5",
       "version_major": 2,
       "version_minor": 0
      },
      "text/plain": [
       "Text(value='Puppets', description='15:', layout=Layout(width='80%'))"
      ]
     },
     "metadata": {},
     "output_type": "display_data"
    },
    {
     "data": {
      "application/vnd.jupyter.widget-view+json": {
       "model_id": "121662ee0275476b90333cfcefaff054",
       "version_major": 2,
       "version_minor": 0
      },
      "text/plain": [
       "Text(value='2', description='Nbr players:  ', layout=Layout(width='80%'))"
      ]
     },
     "metadata": {},
     "output_type": "display_data"
    },
    {
     "data": {
      "application/vnd.jupyter.widget-view+json": {
       "model_id": "4ab3e65500bb43d3a4b4c2a82fbb2d99",
       "version_major": 2,
       "version_minor": 0
      },
      "text/plain": [
       "Text(value='2', description='Nbr audience: ', layout=Layout(width='80%'))"
      ]
     },
     "metadata": {},
     "output_type": "display_data"
    },
    {
     "data": {
      "application/vnd.jupyter.widget-view+json": {
       "model_id": "d61fa25c1d4b435ea3203de53bc951e0",
       "version_major": 2,
       "version_minor": 0
      },
      "text/plain": [
       "Text(value='None', description='Prompt:', layout=Layout(width='80%'))"
      ]
     },
     "metadata": {},
     "output_type": "display_data"
    },
    {
     "data": {
      "application/vnd.jupyter.widget-view+json": {
       "model_id": "3d23fc15652848cdaa9c49ed8c3f4080",
       "version_major": 2,
       "version_minor": 0
      },
      "text/plain": [
       "GridspecLayout(children=(Button(button_style='danger', description='Delete This Game', icon='check', layout=La…"
      ]
     },
     "metadata": {},
     "output_type": "display_data"
    },
    {
     "data": {
      "text/html": [
       "<hr>"
      ]
     },
     "metadata": {},
     "output_type": "display_data"
    },
    {
     "data": {
      "application/vnd.jupyter.widget-view+json": {
       "model_id": "36220b32ccb34c1db85e0952e36f49e0",
       "version_major": 2,
       "version_minor": 0
      },
      "text/plain": [
       "Text(value='Story, Story, Die!', description='16:', layout=Layout(width='80%'))"
      ]
     },
     "metadata": {},
     "output_type": "display_data"
    },
    {
     "data": {
      "application/vnd.jupyter.widget-view+json": {
       "model_id": "e3ecabb1e33f407c9de440b013f7a204",
       "version_major": 2,
       "version_minor": 0
      },
      "text/plain": [
       "Text(value='0', description='Nbr players:  ', layout=Layout(width='80%'))"
      ]
     },
     "metadata": {},
     "output_type": "display_data"
    },
    {
     "data": {
      "application/vnd.jupyter.widget-view+json": {
       "model_id": "4c887419877040d8a79751046ef857bd",
       "version_major": 2,
       "version_minor": 0
      },
      "text/plain": [
       "Text(value='0', description='Nbr audience: ', layout=Layout(width='80%'))"
      ]
     },
     "metadata": {},
     "output_type": "display_data"
    },
    {
     "data": {
      "application/vnd.jupyter.widget-view+json": {
       "model_id": "8e6b552d6c4e412ebad97c0e00b47fe9",
       "version_major": 2,
       "version_minor": 0
      },
      "text/plain": [
       "Text(value='None', description='Prompt:', layout=Layout(width='80%'))"
      ]
     },
     "metadata": {},
     "output_type": "display_data"
    },
    {
     "data": {
      "application/vnd.jupyter.widget-view+json": {
       "model_id": "4a71187ea82a4587928f8752fd182f26",
       "version_major": 2,
       "version_minor": 0
      },
      "text/plain": [
       "GridspecLayout(children=(Button(button_style='danger', description='Delete This Game', icon='check', layout=La…"
      ]
     },
     "metadata": {},
     "output_type": "display_data"
    },
    {
     "data": {
      "text/html": [
       "<hr>"
      ]
     },
     "metadata": {},
     "output_type": "display_data"
    },
    {
     "data": {
      "application/vnd.jupyter.widget-view+json": {
       "model_id": "13e762ba5ef54a6b9161709e24f4d8d7",
       "version_major": 2,
       "version_minor": 0
      },
      "text/plain": [
       "Text(value='Everybody Dies', description='17:', layout=Layout(width='80%'))"
      ]
     },
     "metadata": {},
     "output_type": "display_data"
    },
    {
     "data": {
      "application/vnd.jupyter.widget-view+json": {
       "model_id": "f378157200034e2f975311fa18d02547",
       "version_major": 2,
       "version_minor": 0
      },
      "text/plain": [
       "Text(value='3', description='Nbr players:  ', layout=Layout(width='80%'))"
      ]
     },
     "metadata": {},
     "output_type": "display_data"
    },
    {
     "data": {
      "application/vnd.jupyter.widget-view+json": {
       "model_id": "75bd53c259fb4ee0a512e05233509277",
       "version_major": 2,
       "version_minor": 0
      },
      "text/plain": [
       "Text(value='0', description='Nbr audience: ', layout=Layout(width='80%'))"
      ]
     },
     "metadata": {},
     "output_type": "display_data"
    },
    {
     "data": {
      "application/vnd.jupyter.widget-view+json": {
       "model_id": "bad555e0c9644b2f8efa1bebbc42bef5",
       "version_major": 2,
       "version_minor": 0
      },
      "text/plain": [
       "Text(value='3 Locations: one normal, one crazy, one unreal', description='Prompt:', layout=Layout(width='80%')…"
      ]
     },
     "metadata": {},
     "output_type": "display_data"
    },
    {
     "data": {
      "application/vnd.jupyter.widget-view+json": {
       "model_id": "fa2163823879407cb7555e8f5f65f97e",
       "version_major": 2,
       "version_minor": 0
      },
      "text/plain": [
       "GridspecLayout(children=(Button(button_style='danger', description='Delete This Game', icon='check', layout=La…"
      ]
     },
     "metadata": {},
     "output_type": "display_data"
    },
    {
     "data": {
      "text/html": [
       "<hr>"
      ]
     },
     "metadata": {},
     "output_type": "display_data"
    },
    {
     "data": {
      "application/vnd.jupyter.widget-view+json": {
       "model_id": "4fc3b37356dc45ffa857a85b953dd8c5",
       "version_major": 2,
       "version_minor": 0
      },
      "text/plain": [
       "Text(value=\"World's Worst\", description='18:', layout=Layout(width='80%'))"
      ]
     },
     "metadata": {},
     "output_type": "display_data"
    },
    {
     "data": {
      "application/vnd.jupyter.widget-view+json": {
       "model_id": "71541b7db60541e48e73f674bfa1ef54",
       "version_major": 2,
       "version_minor": 0
      },
      "text/plain": [
       "Text(value='0', description='Nbr players:  ', layout=Layout(width='80%'))"
      ]
     },
     "metadata": {},
     "output_type": "display_data"
    },
    {
     "data": {
      "application/vnd.jupyter.widget-view+json": {
       "model_id": "11ef2908fcb34409853648e6600ce1c8",
       "version_major": 2,
       "version_minor": 0
      },
      "text/plain": [
       "Text(value='0', description='Nbr audience: ', layout=Layout(width='80%'))"
      ]
     },
     "metadata": {},
     "output_type": "display_data"
    },
    {
     "data": {
      "application/vnd.jupyter.widget-view+json": {
       "model_id": "f3527bfb04d046149cc7bb8a94531516",
       "version_major": 2,
       "version_minor": 0
      },
      "text/plain": [
       "Text(value='An occupation, animal, or celebrity', description='Prompt:', layout=Layout(width='80%'))"
      ]
     },
     "metadata": {},
     "output_type": "display_data"
    },
    {
     "data": {
      "application/vnd.jupyter.widget-view+json": {
       "model_id": "cbd7b67a97c94f39b68d40e15223bcce",
       "version_major": 2,
       "version_minor": 0
      },
      "text/plain": [
       "GridspecLayout(children=(Button(button_style='danger', description='Delete This Game', icon='check', layout=La…"
      ]
     },
     "metadata": {},
     "output_type": "display_data"
    },
    {
     "data": {
      "text/html": [
       "<hr>"
      ]
     },
     "metadata": {},
     "output_type": "display_data"
    },
    {
     "data": {
      "application/vnd.jupyter.widget-view+json": {
       "model_id": "de1086a5733d4dc1a7a1d1d015a0c57e",
       "version_major": 2,
       "version_minor": 0
      },
      "text/plain": [
       "Text(value='Forward Reverse', description='19:', layout=Layout(width='80%'))"
      ]
     },
     "metadata": {},
     "output_type": "display_data"
    },
    {
     "data": {
      "application/vnd.jupyter.widget-view+json": {
       "model_id": "6a33220d76564c9c9ff333b606de7877",
       "version_major": 2,
       "version_minor": 0
      },
      "text/plain": [
       "Text(value='3', description='Nbr players:  ', layout=Layout(width='80%'))"
      ]
     },
     "metadata": {},
     "output_type": "display_data"
    },
    {
     "data": {
      "application/vnd.jupyter.widget-view+json": {
       "model_id": "1dec21d2733e43059fa87456854464d2",
       "version_major": 2,
       "version_minor": 0
      },
      "text/plain": [
       "Text(value='0', description='Nbr audience: ', layout=Layout(width='80%'))"
      ]
     },
     "metadata": {},
     "output_type": "display_data"
    },
    {
     "data": {
      "application/vnd.jupyter.widget-view+json": {
       "model_id": "0589e4d71c7b42f0872929a2afacd558",
       "version_major": 2,
       "version_minor": 0
      },
      "text/plain": [
       "Text(value='None', description='Prompt:', layout=Layout(width='80%'))"
      ]
     },
     "metadata": {},
     "output_type": "display_data"
    },
    {
     "data": {
      "application/vnd.jupyter.widget-view+json": {
       "model_id": "0e93bc5c1df846528c8f50004b99f9df",
       "version_major": 2,
       "version_minor": 0
      },
      "text/plain": [
       "GridspecLayout(children=(Button(button_style='danger', description='Delete This Game', icon='check', layout=La…"
      ]
     },
     "metadata": {},
     "output_type": "display_data"
    },
    {
     "data": {
      "text/html": [
       "<hr>"
      ]
     },
     "metadata": {},
     "output_type": "display_data"
    },
    {
     "data": {
      "application/vnd.jupyter.widget-view+json": {
       "model_id": "dce637d9f583445dbb43f32cfc95b1fd",
       "version_major": 2,
       "version_minor": 0
      },
      "text/plain": [
       "Text(value='Mutant Debate', description='20:', layout=Layout(width='80%'))"
      ]
     },
     "metadata": {},
     "output_type": "display_data"
    },
    {
     "data": {
      "application/vnd.jupyter.widget-view+json": {
       "model_id": "fc870a147bf64a21aab8831ae61d20c0",
       "version_major": 2,
       "version_minor": 0
      },
      "text/plain": [
       "Text(value='5', description='Nbr players:  ', layout=Layout(width='80%'))"
      ]
     },
     "metadata": {},
     "output_type": "display_data"
    },
    {
     "data": {
      "application/vnd.jupyter.widget-view+json": {
       "model_id": "dd3bcf02dd134ebdb80e58a441c592f7",
       "version_major": 2,
       "version_minor": 0
      },
      "text/plain": [
       "Text(value='0', description='Nbr audience: ', layout=Layout(width='80%'))"
      ]
     },
     "metadata": {},
     "output_type": "display_data"
    },
    {
     "data": {
      "application/vnd.jupyter.widget-view+json": {
       "model_id": "cfe71b7a111b41ecbe0dc740e18099eb",
       "version_major": 2,
       "version_minor": 0
      },
      "text/plain": [
       "Text(value=\"What is a dumb argument you've had recently?\", description='Prompt:', layout=Layout(width='80%'))"
      ]
     },
     "metadata": {},
     "output_type": "display_data"
    },
    {
     "data": {
      "application/vnd.jupyter.widget-view+json": {
       "model_id": "d264600f856d4ef795fcea0a7b7de8a0",
       "version_major": 2,
       "version_minor": 0
      },
      "text/plain": [
       "GridspecLayout(children=(Button(button_style='danger', description='Delete This Game', icon='check', layout=La…"
      ]
     },
     "metadata": {},
     "output_type": "display_data"
    },
    {
     "data": {
      "text/html": [
       "<hr>"
      ]
     },
     "metadata": {},
     "output_type": "display_data"
    },
    {
     "data": {
      "application/vnd.jupyter.widget-view+json": {
       "model_id": "add91d9000054836a853c2a1c0ac675c",
       "version_major": 2,
       "version_minor": 0
      },
      "text/plain": [
       "Button(button_style='info', description='Save', icon='check', style=ButtonStyle())"
      ]
     },
     "metadata": {},
     "output_type": "display_data"
    }
   ],
   "source": [
    "games = WidgetGames()"
   ]
  },
  {
   "cell_type": "code",
   "execution_count": 4,
   "metadata": {
    "scrolled": false
   },
   "outputs": [
    {
     "data": {
      "application/vnd.jupyter.widget-view+json": {
       "model_id": "5cb492c23935466ca1d4f783e49a0c7a",
       "version_major": 2,
       "version_minor": 0
      },
      "text/plain": [
       "HTML(value='<p style=\"color:#00BCD4; font-size:3em; font-weight:bold\">Update casting rules for each game:</p>'…"
      ]
     },
     "metadata": {},
     "output_type": "display_data"
    },
    {
     "data": {
      "application/vnd.jupyter.widget-view+json": {
       "model_id": "142038728afd4949a0dcd8ba2b5a4a07",
       "version_major": 2,
       "version_minor": 0
      },
      "text/plain": [
       "HTML(value='<p style=\"color:#000000; font-size:1.25em; font-weight:normal\">For each game, you can select one o…"
      ]
     },
     "metadata": {},
     "output_type": "display_data"
    },
    {
     "data": {
      "text/html": [
       "<hr>"
      ]
     },
     "metadata": {},
     "output_type": "display_data"
    },
    {
     "data": {
      "application/vnd.jupyter.widget-view+json": {
       "model_id": "af032d2b3f204161b2b78f24e3e49fd5",
       "version_major": 2,
       "version_minor": 0
      },
      "text/plain": [
       "GridspecLayout(children=(Label(value='Game name', layout=Layout(grid_area='widget001', width='80%')), Label(va…"
      ]
     },
     "metadata": {},
     "output_type": "display_data"
    },
    {
     "data": {
      "application/vnd.jupyter.widget-view+json": {
       "model_id": "fd96621c92b442a2a202815036efeb20",
       "version_major": 2,
       "version_minor": 0
      },
      "text/plain": [
       "Button(button_style='info', description='save', icon='check', style=ButtonStyle())"
      ]
     },
     "metadata": {},
     "output_type": "display_data"
    }
   ],
   "source": [
    "games.update_casting_rules()"
   ]
  },
  {
   "cell_type": "code",
   "execution_count": 5,
   "metadata": {
    "scrolled": false
   },
   "outputs": [
    {
     "data": {
      "application/vnd.jupyter.widget-view+json": {
       "model_id": "29573fe4c2334dbdaff48ef5164ca644",
       "version_major": 2,
       "version_minor": 0
      },
      "text/plain": [
       "HTML(value='<p style=\"color:#00BCD4; font-size:3em; font-weight:bold\">Update, add, delete prompts:</p>')"
      ]
     },
     "metadata": {},
     "output_type": "display_data"
    },
    {
     "data": {
      "application/vnd.jupyter.widget-view+json": {
       "model_id": "43536a0388c74f5c8a751ca0812fcbab",
       "version_major": 2,
       "version_minor": 0
      },
      "text/plain": [
       "HTML(value='<p style=\"color:#000000; font-size:1.25em; font-weight:normal\">Modify any prompt below, then save …"
      ]
     },
     "metadata": {},
     "output_type": "display_data"
    },
    {
     "data": {
      "application/vnd.jupyter.widget-view+json": {
       "model_id": "11c9abe9d58b41e3ba4789065ed17b25",
       "version_major": 2,
       "version_minor": 0
      },
      "text/plain": [
       "Text(value='A location that would fit on this stage', description='Prompt  1', layout=Layout(width='75%'))"
      ]
     },
     "metadata": {},
     "output_type": "display_data"
    },
    {
     "data": {
      "application/vnd.jupyter.widget-view+json": {
       "model_id": "70e1bbc5a33c4d8a92a2417c8be8a2e5",
       "version_major": 2,
       "version_minor": 0
      },
      "text/plain": [
       "Text(value='A non-romantic relationship.', description='Prompt  2', layout=Layout(width='75%'))"
      ]
     },
     "metadata": {},
     "output_type": "display_data"
    },
    {
     "data": {
      "application/vnd.jupyter.widget-view+json": {
       "model_id": "1717380e9cc040b1a4183f3e5299ed58",
       "version_major": 2,
       "version_minor": 0
      },
      "text/plain": [
       "Text(value='Worst location for a first date.', description='Prompt  3', layout=Layout(width='75%'))"
      ]
     },
     "metadata": {},
     "output_type": "display_data"
    },
    {
     "data": {
      "application/vnd.jupyter.widget-view+json": {
       "model_id": "f6593a50444a400ca0b354e240d3ca73",
       "version_major": 2,
       "version_minor": 0
      },
      "text/plain": [
       "Text(value=\"Worst job you've ever had.\", description='Prompt  4', layout=Layout(width='75%'))"
      ]
     },
     "metadata": {},
     "output_type": "display_data"
    },
    {
     "data": {
      "application/vnd.jupyter.widget-view+json": {
       "model_id": "29b0178a8e9f47c194ab187bf8cbe4fe",
       "version_major": 2,
       "version_minor": 0
      },
      "text/plain": [
       "Text(value='What is your dream job?', description='Prompt  5', layout=Layout(width='75%'))"
      ]
     },
     "metadata": {},
     "output_type": "display_data"
    },
    {
     "data": {
      "application/vnd.jupyter.widget-view+json": {
       "model_id": "2cea33f3899a45918dd436423d033694",
       "version_major": 2,
       "version_minor": 0
      },
      "text/plain": [
       "Text(value=\"What's an unusual hobby?\", description='Prompt  6', layout=Layout(width='75%'))"
      ]
     },
     "metadata": {},
     "output_type": "display_data"
    },
    {
     "data": {
      "application/vnd.jupyter.widget-view+json": {
       "model_id": "bc7562bc7fb44e39a9700da63fc4e89d",
       "version_major": 2,
       "version_minor": 0
      },
      "text/plain": [
       "Text(value='A room in a building.', description='Prompt  7', layout=Layout(width='75%'))"
      ]
     },
     "metadata": {},
     "output_type": "display_data"
    },
    {
     "data": {
      "application/vnd.jupyter.widget-view+json": {
       "model_id": "3bbf266835c44e66b05bb67ca5c5c9e1",
       "version_major": 2,
       "version_minor": 0
      },
      "text/plain": [
       "Text(value='What was your favourite song?', description='Prompt  8', layout=Layout(width='75%'))"
      ]
     },
     "metadata": {},
     "output_type": "display_data"
    },
    {
     "data": {
      "application/vnd.jupyter.widget-view+json": {
       "model_id": "bfd87facec8843b6b28373a2825c4946",
       "version_major": 2,
       "version_minor": 0
      },
      "text/plain": [
       "Text(value='What is your favourite guilty pleasure?', description='Prompt  9', layout=Layout(width='75%'))"
      ]
     },
     "metadata": {},
     "output_type": "display_data"
    },
    {
     "data": {
      "application/vnd.jupyter.widget-view+json": {
       "model_id": "9bca67178ecb4ca8b49419eaad8d8347",
       "version_major": 2,
       "version_minor": 0
      },
      "text/plain": [
       "Text(value='An occasion to celebrate with others.', description='Prompt 10', layout=Layout(width='75%'))"
      ]
     },
     "metadata": {},
     "output_type": "display_data"
    },
    {
     "data": {
      "application/vnd.jupyter.widget-view+json": {
       "model_id": "d338ecd7cc5e437d91ea7b359b2cdcff",
       "version_major": 2,
       "version_minor": 0
      },
      "text/plain": [
       "Text(value='Cheesy Netflix movie title.', description='Prompt 11', layout=Layout(width='75%'))"
      ]
     },
     "metadata": {},
     "output_type": "display_data"
    },
    {
     "data": {
      "application/vnd.jupyter.widget-view+json": {
       "model_id": "26ca3a21273d454fa3a9df587846f147",
       "version_major": 2,
       "version_minor": 0
      },
      "text/plain": [
       "Text(value='A strong emotion you witnessed recently.', description='Prompt 12', layout=Layout(width='75%'))"
      ]
     },
     "metadata": {},
     "output_type": "display_data"
    },
    {
     "data": {
      "application/vnd.jupyter.widget-view+json": {
       "model_id": "e09a844f6999474498a77a3caa5a189f",
       "version_major": 2,
       "version_minor": 0
      },
      "text/plain": [
       "Text(value='An item you need to throw away.', description='Prompt 13', layout=Layout(width='75%'))"
      ]
     },
     "metadata": {},
     "output_type": "display_data"
    },
    {
     "data": {
      "application/vnd.jupyter.widget-view+json": {
       "model_id": "d813ab8e8ed3401a9974f23e49d90ec5",
       "version_major": 2,
       "version_minor": 0
      },
      "text/plain": [
       "Text(value='An unsolvable problem.', description='Prompt 14', layout=Layout(width='75%'))"
      ]
     },
     "metadata": {},
     "output_type": "display_data"
    },
    {
     "data": {
      "application/vnd.jupyter.widget-view+json": {
       "model_id": "3f2a336434d0429a848aff6f45e8c563",
       "version_major": 2,
       "version_minor": 0
      },
      "text/plain": [
       "Text(value='A mythical animal.', description='Prompt 15', layout=Layout(width='75%'))"
      ]
     },
     "metadata": {},
     "output_type": "display_data"
    },
    {
     "data": {
      "application/vnd.jupyter.widget-view+json": {
       "model_id": "ca565fe39a6c4035ba509bbcc5a1201f",
       "version_major": 2,
       "version_minor": 0
      },
      "text/plain": [
       "Text(value=\"What's a secret you were told?\", description='Prompt 16', layout=Layout(width='75%'))"
      ]
     },
     "metadata": {},
     "output_type": "display_data"
    },
    {
     "data": {
      "application/vnd.jupyter.widget-view+json": {
       "model_id": "96de777589734a8989fe1c688c2c64f4",
       "version_major": 2,
       "version_minor": 0
      },
      "text/plain": [
       "Text(value='What did you want to be when you grew up?', description='Prompt 17', layout=Layout(width='75%'))"
      ]
     },
     "metadata": {},
     "output_type": "display_data"
    },
    {
     "data": {
      "application/vnd.jupyter.widget-view+json": {
       "model_id": "36f5e7281b85497489a669baf9a95a97",
       "version_major": 2,
       "version_minor": 0
      },
      "text/plain": [
       "Text(value='Something you wish you could unsee?', description='Prompt 18', layout=Layout(width='75%'))"
      ]
     },
     "metadata": {},
     "output_type": "display_data"
    },
    {
     "data": {
      "application/vnd.jupyter.widget-view+json": {
       "model_id": "0011017d874e47a38d09ea20ed4b64b4",
       "version_major": 2,
       "version_minor": 0
      },
      "text/plain": [
       "Text(value='A place where it is easy to get lost.', description='Prompt 19', layout=Layout(width='75%'))"
      ]
     },
     "metadata": {},
     "output_type": "display_data"
    },
    {
     "data": {
      "application/vnd.jupyter.widget-view+json": {
       "model_id": "a4871fb878a54b92939972837a53da20",
       "version_major": 2,
       "version_minor": 0
      },
      "text/plain": [
       "Text(value='Why are you this way?', description='Prompt 20', layout=Layout(width='75%'))"
      ]
     },
     "metadata": {},
     "output_type": "display_data"
    },
    {
     "data": {
      "application/vnd.jupyter.widget-view+json": {
       "model_id": "ac9c783d21a742c9a499a257ca7704c4",
       "version_major": 2,
       "version_minor": 0
      },
      "text/plain": [
       "Text(value='A scary place to be alone at night.', description='Prompt 21', layout=Layout(width='75%'))"
      ]
     },
     "metadata": {},
     "output_type": "display_data"
    },
    {
     "data": {
      "application/vnd.jupyter.widget-view+json": {
       "model_id": "6744554b3b484a12b7680434bc3a3795",
       "version_major": 2,
       "version_minor": 0
      },
      "text/plain": [
       "Text(value='An annoying habit of someone you know.', description='Prompt 22', layout=Layout(width='75%'))"
      ]
     },
     "metadata": {},
     "output_type": "display_data"
    },
    {
     "data": {
      "application/vnd.jupyter.widget-view+json": {
       "model_id": "33957eb129304c8d9e4bf61b82ac14e4",
       "version_major": 2,
       "version_minor": 0
      },
      "text/plain": [
       "Text(value='Best birthday present you ever got.', description='Prompt 23', layout=Layout(width='75%'))"
      ]
     },
     "metadata": {},
     "output_type": "display_data"
    },
    {
     "data": {
      "application/vnd.jupyter.widget-view+json": {
       "model_id": "4f5d0b5fe1f843aea9eb8feaf28ce0eb",
       "version_major": 2,
       "version_minor": 0
      },
      "text/plain": [
       "Text(value='A non-green vegetable.', description='Prompt 24', layout=Layout(width='75%'))"
      ]
     },
     "metadata": {},
     "output_type": "display_data"
    },
    {
     "data": {
      "application/vnd.jupyter.widget-view+json": {
       "model_id": "cd55f7a3fecc4503b870d948ec48eeb5",
       "version_major": 2,
       "version_minor": 0
      },
      "text/plain": [
       "Text(value='A unique tradition in your family.', description='Prompt 25', layout=Layout(width='75%'))"
      ]
     },
     "metadata": {},
     "output_type": "display_data"
    },
    {
     "data": {
      "application/vnd.jupyter.widget-view+json": {
       "model_id": "185542dac8e14acfaeb700f76cafcc9b",
       "version_major": 2,
       "version_minor": 0
      },
      "text/plain": [
       "Text(value='Something you want, but would never buy yourself.', description='Prompt 26', layout=Layout(width='…"
      ]
     },
     "metadata": {},
     "output_type": "display_data"
    },
    {
     "data": {
      "application/vnd.jupyter.widget-view+json": {
       "model_id": "fcdfccbd554e4dfcb76da90b8b8cd759",
       "version_major": 2,
       "version_minor": 0
      },
      "text/plain": [
       "Text(value='A place to never go on vacation.', description='Prompt 27', layout=Layout(width='75%'))"
      ]
     },
     "metadata": {},
     "output_type": "display_data"
    },
    {
     "data": {
      "application/vnd.jupyter.widget-view+json": {
       "model_id": "ded4549873834800b318e488e5a35f27",
       "version_major": 2,
       "version_minor": 0
      },
      "text/plain": [
       "Text(value='A location from sci-fi or fantasy.', description='Prompt 28', layout=Layout(width='75%'))"
      ]
     },
     "metadata": {},
     "output_type": "display_data"
    },
    {
     "data": {
      "application/vnd.jupyter.widget-view+json": {
       "model_id": "a7ba4f302a5742009914837111206230",
       "version_major": 2,
       "version_minor": 0
      },
      "text/plain": [
       "Text(value='What has been forgotten under your bed?', description='Prompt 29', layout=Layout(width='75%'))"
      ]
     },
     "metadata": {},
     "output_type": "display_data"
    },
    {
     "data": {
      "application/vnd.jupyter.widget-view+json": {
       "model_id": "3379355e3af3492bbbc035bb493926a0",
       "version_major": 2,
       "version_minor": 0
      },
      "text/plain": [
       "Text(value='A terrible excuse to give your boss.', description='Prompt 30', layout=Layout(width='75%'))"
      ]
     },
     "metadata": {},
     "output_type": "display_data"
    },
    {
     "data": {
      "application/vnd.jupyter.widget-view+json": {
       "model_id": "207ce41070e74566bd668475a7b2419a",
       "version_major": 2,
       "version_minor": 0
      },
      "text/plain": [
       "Text(value='What one thing would you change about your life?', description='Prompt 31', layout=Layout(width='7…"
      ]
     },
     "metadata": {},
     "output_type": "display_data"
    },
    {
     "data": {
      "application/vnd.jupyter.widget-view+json": {
       "model_id": "f3cfe187400940228fed1f23cb684b9f",
       "version_major": 2,
       "version_minor": 0
      },
      "text/plain": [
       "Text(value='An outdoor activity.', description='Prompt 32', layout=Layout(width='75%'))"
      ]
     },
     "metadata": {},
     "output_type": "display_data"
    },
    {
     "data": {
      "application/vnd.jupyter.widget-view+json": {
       "model_id": "e6e76c26a0b24e589f26b7855572e5f6",
       "version_major": 2,
       "version_minor": 0
      },
      "text/plain": [
       "Text(value='Your favourite childhood toy.', description='Prompt 33', layout=Layout(width='75%'))"
      ]
     },
     "metadata": {},
     "output_type": "display_data"
    },
    {
     "data": {
      "application/vnd.jupyter.widget-view+json": {
       "model_id": "f87ee7d74c71453ea6a1bbdc28e6b9e4",
       "version_major": 2,
       "version_minor": 0
      },
      "text/plain": [
       "Text(value=\"Meanest thing you've ever done.\", description='Prompt 34', layout=Layout(width='75%'))"
      ]
     },
     "metadata": {},
     "output_type": "display_data"
    },
    {
     "data": {
      "application/vnd.jupyter.widget-view+json": {
       "model_id": "add953f1b621436f8947fea5c5d60773",
       "version_major": 2,
       "version_minor": 0
      },
      "text/plain": [
       "Text(value='What are you doing tomorrow?', description='Prompt 35', layout=Layout(width='75%'))"
      ]
     },
     "metadata": {},
     "output_type": "display_data"
    },
    {
     "data": {
      "application/vnd.jupyter.widget-view+json": {
       "model_id": "aaafe8bbe6b242eb8602df905155d93b",
       "version_major": 2,
       "version_minor": 0
      },
      "text/plain": [
       "Text(value='An unlikely superhero.', description='Prompt 36', layout=Layout(width='75%'))"
      ]
     },
     "metadata": {},
     "output_type": "display_data"
    },
    {
     "data": {
      "application/vnd.jupyter.widget-view+json": {
       "model_id": "0c978fc4caf34c7d8fa5a2056ef85311",
       "version_major": 2,
       "version_minor": 0
      },
      "text/plain": [
       "Text(value='The next Douyin/Tiktok craze.', description='Prompt 37', layout=Layout(width='75%'))"
      ]
     },
     "metadata": {},
     "output_type": "display_data"
    },
    {
     "data": {
      "application/vnd.jupyter.widget-view+json": {
       "model_id": "cc5bea92810540e6a64dbf9fa73e1ed6",
       "version_major": 2,
       "version_minor": 0
      },
      "text/plain": [
       "Text(value=\"Something you'd be surprised to find on Taobao.\", description='Prompt 38', layout=Layout(width='75…"
      ]
     },
     "metadata": {},
     "output_type": "display_data"
    },
    {
     "data": {
      "application/vnd.jupyter.widget-view+json": {
       "model_id": "9157d9ab31864351bdf5d8fe80136dc8",
       "version_major": 2,
       "version_minor": 0
      },
      "text/plain": [
       "Text(value='What superpower would you like?', description='Prompt 39', layout=Layout(width='75%'))"
      ]
     },
     "metadata": {},
     "output_type": "display_data"
    },
    {
     "data": {
      "application/vnd.jupyter.widget-view+json": {
       "model_id": "37c0adbed2b54c0ba88a9236d2d833cd",
       "version_major": 2,
       "version_minor": 0
      },
      "text/plain": [
       "Text(value='What the hell is wrong with you?', description='Prompt 40', layout=Layout(width='75%'))"
      ]
     },
     "metadata": {},
     "output_type": "display_data"
    },
    {
     "data": {
      "application/vnd.jupyter.widget-view+json": {
       "model_id": "50e8cd27600f4d30833c002a84dd2d4a",
       "version_major": 2,
       "version_minor": 0
      },
      "text/plain": [
       "Text(value='A piece of advice you heard from a loved one.', description='Prompt 41', layout=Layout(width='75%'…"
      ]
     },
     "metadata": {},
     "output_type": "display_data"
    },
    {
     "data": {
      "application/vnd.jupyter.widget-view+json": {
       "model_id": "44f202bd7f554c2a9b3c16766a973e1d",
       "version_major": 2,
       "version_minor": 0
      },
      "text/plain": [
       "Text(value='An impossible task.', description='Prompt 42', layout=Layout(width='75%'))"
      ]
     },
     "metadata": {},
     "output_type": "display_data"
    },
    {
     "data": {
      "application/vnd.jupyter.widget-view+json": {
       "model_id": "2d0d80869ffd48e8ab52280d2abf8d39",
       "version_major": 2,
       "version_minor": 0
      },
      "text/plain": [
       "Text(value=\"What's the next unlikely Olympic event?\", description='Prompt 43', layout=Layout(width='75%'))"
      ]
     },
     "metadata": {},
     "output_type": "display_data"
    },
    {
     "data": {
      "application/vnd.jupyter.widget-view+json": {
       "model_id": "b6baaa5df6bb428f8c655c9c5146554f",
       "version_major": 2,
       "version_minor": 0
      },
      "text/plain": [
       "Text(value='What technology will soon be obsolete?', description='Prompt 44', layout=Layout(width='75%'))"
      ]
     },
     "metadata": {},
     "output_type": "display_data"
    },
    {
     "data": {
      "application/vnd.jupyter.widget-view+json": {
       "model_id": "c48ebde5c5ae48bfa579ec713228a5a3",
       "version_major": 2,
       "version_minor": 0
      },
      "text/plain": [
       "Button(button_style='info', description='save', icon='check', style=ButtonStyle())"
      ]
     },
     "metadata": {},
     "output_type": "display_data"
    }
   ],
   "source": [
    "prompts = WidgetPrompts()"
   ]
  },
  {
   "cell_type": "markdown",
   "metadata": {},
   "source": [
    "> **Make sure you have saved changes before closing this notebook.**"
   ]
  },
  {
   "cell_type": "code",
   "execution_count": null,
   "metadata": {},
   "outputs": [],
   "source": []
  }
 ],
 "metadata": {
  "kernelspec": {
   "display_name": "Python 3 (ipykernel)",
   "language": "python",
   "name": "python3"
  },
  "language_info": {
   "codemirror_mode": {
    "name": "ipython",
    "version": 3
   },
   "file_extension": ".py",
   "mimetype": "text/x-python",
   "name": "python",
   "nbconvert_exporter": "python",
   "pygments_lexer": "ipython3",
   "version": "3.9.7"
  },
  "toc": {
   "base_numbering": 1,
   "nav_menu": {},
   "number_sections": false,
   "sideBar": true,
   "skip_h1_title": false,
   "title_cell": "Table of Contents",
   "title_sidebar": "Contents",
   "toc_cell": false,
   "toc_position": {},
   "toc_section_display": true,
   "toc_window_display": false
  },
  "varInspector": {
   "cols": {
    "lenName": 16,
    "lenType": 16,
    "lenVar": 40
   },
   "kernels_config": {
    "python": {
     "delete_cmd_postfix": "",
     "delete_cmd_prefix": "del ",
     "library": "var_list.py",
     "varRefreshCmd": "print(var_dic_list())"
    },
    "r": {
     "delete_cmd_postfix": ") ",
     "delete_cmd_prefix": "rm(",
     "library": "var_list.r",
     "varRefreshCmd": "cat(var_dic_list()) "
    }
   },
   "types_to_exclude": [
    "module",
    "function",
    "builtin_function_or_method",
    "instance",
    "_Feature"
   ],
   "window_display": false
  },
  "vscode": {
   "interpreter": {
    "hash": "0eb39429e907200a5034f236d651f1736c0e7407bac40927aba41b28178be421"
   }
  }
 },
 "nbformat": 4,
 "nbformat_minor": 2
}
