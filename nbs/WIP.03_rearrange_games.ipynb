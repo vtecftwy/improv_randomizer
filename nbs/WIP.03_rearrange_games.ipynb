{
 "cells": [
  {
   "cell_type": "markdown",
   "metadata": {},
   "source": [
    "# Organize Games from json files"
   ]
  },
  {
   "cell_type": "code",
   "execution_count": 18,
   "metadata": {},
   "outputs": [],
   "source": [
    "import json\n",
    "import numpy as np\n",
    "from collections import OrderedDict\n",
    "from pathlib import Path"
   ]
  },
  {
   "cell_type": "code",
   "execution_count": 11,
   "metadata": {},
   "outputs": [
    {
     "data": {
      "text/plain": [
       "WindowsPath('c:/Users/etien/PyProjects/ai2/short')"
      ]
     },
     "execution_count": 11,
     "metadata": {},
     "output_type": "execute_result"
    }
   ],
   "source": [
    "root = Path().absolute().parent\n",
    "root"
   ]
  },
  {
   "cell_type": "code",
   "execution_count": 39,
   "metadata": {},
   "outputs": [],
   "source": [
    "p2ai2_all = root / 'config/ai2/ai2-games-all.json'\n",
    "p2ai2 = root / 'config/ai2/ai2-games.json'\n",
    "p2jam = root / 'config/jam/games.json'\n",
    "p2zmack = root / 'config\\zmack\\games.json'\n",
    "assert p2ai2_all.is_file()\n",
    "assert p2ai2.is_file()\n",
    "assert p2jam.is_file()\n",
    "assert p2zmack.is_file()"
   ]
  },
  {
   "cell_type": "code",
   "execution_count": 49,
   "metadata": {},
   "outputs": [
    {
     "data": {
      "text/plain": [
       "array(['8', '1', '10', '16', '18', '11', '19', '4', '6', '14', '9', '3',\n",
       "       '13', '15', '5', '7', '2', '0', '17'], dtype='<U2')"
      ]
     },
     "execution_count": 49,
     "metadata": {},
     "output_type": "execute_result"
    }
   ],
   "source": [
    "def load_and_sort(p2json):\n",
    "    with open(p2json, 'r') as fp:\n",
    "        games = json.load(fp)\n",
    "    names = np.array([g['name'] for g in games.values()])\n",
    "    sorted_game_idxs = np.argsort(names)\n",
    "    sorted_game_keys = np.array(list(games.keys()))[sorted_game_idxs]\n",
    "    sorted_list_game_dict = [games[k] for k in sorted_game_keys]\n",
    "    return games, names, sorted_game_idxs, sorted_game_keys, sorted_list_game_dict\n",
    "\n",
    "games, names, sgi, sgk, slgd = load_and_sort(p2ai2_all)\n",
    "sgk"
   ]
  },
  {
   "cell_type": "code",
   "execution_count": 53,
   "metadata": {},
   "outputs": [
    {
     "data": {
      "text/plain": [
       "([{'name': 'A Date with Me',\n",
       "   'nbr_players': 0,\n",
       "   'nbr_audience': 0,\n",
       "   'prompt': 'A date with me is like <object/occupation>.',\n",
       "   'exclude': [],\n",
       "   'host_include': ['Ina'],\n",
       "   'host_exclude': [],\n",
       "   'description': None,\n",
       "   'tips': None},\n",
       "  {'name': 'Double Reverse Alphabet',\n",
       "   'nbr_players': 2,\n",
       "   'nbr_audience': 0,\n",
       "   'prompt': 'A B C D E F G H I J K L M N O P Q R S T U V W X Y Z   \\nA type of non romantic relationship.',\n",
       "   'exclude': ['Yirong'],\n",
       "   'host_include': [],\n",
       "   'host_exclude': [],\n",
       "   'description': None,\n",
       "   'tips': None}],\n",
       " [{'name': 'TV Box',\n",
       "   'nbr_players': 4,\n",
       "   'nbr_audience': 0,\n",
       "   'prompt': 'What are four of your favorite TV channels?',\n",
       "   'exclude': [],\n",
       "   'host_include': [],\n",
       "   'host_exclude': ['Grace'],\n",
       "   'description': None,\n",
       "   'tips': None},\n",
       "  {'name': \"World's Worst\",\n",
       "   'nbr_players': 0,\n",
       "   'nbr_audience': 0,\n",
       "   'prompt': 'An occupation, animal, or celebrity',\n",
       "   'exclude': [],\n",
       "   'host_include': ['Ina'],\n",
       "   'host_exclude': ['Grace'],\n",
       "   'description': None,\n",
       "   'tips': None}])"
      ]
     },
     "execution_count": 53,
     "metadata": {},
     "output_type": "execute_result"
    }
   ],
   "source": [
    "slgd[:2], slgd[-2:]"
   ]
  },
  {
   "cell_type": "code",
   "execution_count": 57,
   "metadata": {},
   "outputs": [
    {
     "data": {
      "text/plain": [
       "WindowsPath('c:/Users/etien/PyProjects/ai2/short/config/ai2/ai2-games.json')"
      ]
     },
     "execution_count": 57,
     "metadata": {},
     "output_type": "execute_result"
    }
   ],
   "source": [
    "p2ai2"
   ]
  },
  {
   "cell_type": "code",
   "execution_count": 62,
   "metadata": {},
   "outputs": [],
   "source": [
    "def sort_json_by_game_names(p2json):\n",
    "    odict = OrderedDict()\n",
    "    games, names, sgi, sgk, slgd = load_and_sort(p2json)\n",
    "    for i, d in enumerate(slgd):\n",
    "        odict[str(i)] = d\n",
    "\n",
    "    print(f\"{i+1} games\")\n",
    "\n",
    "    with open(p2json, 'w') as fp:\n",
    "        json.dump(odict, fp, indent=4)"
   ]
  },
  {
   "cell_type": "code",
   "execution_count": 67,
   "metadata": {},
   "outputs": [
    {
     "data": {
      "text/plain": [
       "True"
      ]
     },
     "execution_count": 67,
     "metadata": {},
     "output_type": "execute_result"
    }
   ],
   "source": [
    "p2default = root / 'config\\games.json'\n",
    "p2default.is_file()"
   ]
  },
  {
   "cell_type": "code",
   "execution_count": 68,
   "metadata": {},
   "outputs": [
    {
     "name": "stdout",
     "output_type": "stream",
     "text": [
      "16 games\n"
     ]
    }
   ],
   "source": [
    "sort_json_by_game_names(p2default)"
   ]
  },
  {
   "cell_type": "code",
   "execution_count": null,
   "metadata": {},
   "outputs": [],
   "source": []
  }
 ],
 "metadata": {
  "kernelspec": {
   "display_name": "ai2",
   "language": "python",
   "name": "python3"
  },
  "language_info": {
   "codemirror_mode": {
    "name": "ipython",
    "version": 3
   },
   "file_extension": ".py",
   "mimetype": "text/x-python",
   "name": "python",
   "nbconvert_exporter": "python",
   "pygments_lexer": "ipython3",
   "version": "3.9.18"
  }
 },
 "nbformat": 4,
 "nbformat_minor": 2
}
