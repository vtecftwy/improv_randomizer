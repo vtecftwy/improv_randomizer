{
 "cells": [
  {
   "cell_type": "markdown",
   "metadata": {},
   "source": [
    "# Tool to update cast, games and other configuration"
   ]
  },
  {
   "cell_type": "code",
   "execution_count": 1,
   "metadata": {},
   "outputs": [
    {
     "name": "stdout",
     "output_type": "stream",
     "text": [
      "Changing cwd from nbs to short\n"
     ]
    }
   ],
   "source": [
    "from pathlib import Path\n",
    "import os\n",
    "%load_ext autoreload\n",
    "%autoreload 2\n",
    "\n",
    "if not (Path.cwd()/'gamesession.py').exists():  \n",
    "    print(f\"Changing cwd from {Path().absolute().name} to {Path().cwd().parent.name}\")  \n",
    "    os.chdir('..')\n",
    "\n",
    "ROOT = Path().resolve()"
   ]
  },
  {
   "cell_type": "code",
   "execution_count": 2,
   "metadata": {},
   "outputs": [],
   "source": [
    "from utils import WidgetCast, WidgetGames, WidgetPrompts\n",
    "cast = WidgetCast()\n",
    "games = WidgetGames()\n",
    "prompts = WidgetPrompts()"
   ]
  },
  {
   "cell_type": "markdown",
   "metadata": {},
   "source": [
    "## Update Name of Cast Members"
   ]
  },
  {
   "cell_type": "code",
   "execution_count": 3,
   "metadata": {},
   "outputs": [
    {
     "data": {
      "application/vnd.jupyter.widget-view+json": {
       "model_id": "e3577956cb7f4764b1c18df427210c3c",
       "version_major": 2,
       "version_minor": 0
      },
      "text/plain": [
       "Text(value='Chris, Etienne, Knick, Serena, Yirong', description='Cast', layout=Layout(width='75%'))"
      ]
     },
     "metadata": {},
     "output_type": "display_data"
    },
    {
     "data": {
      "application/vnd.jupyter.widget-view+json": {
       "model_id": "6a83d74c1daa4964a12a6b5dc7f74f35",
       "version_major": 2,
       "version_minor": 0
      },
      "text/plain": [
       "Button(button_style='info', description='save', icon='check', style=ButtonStyle())"
      ]
     },
     "metadata": {},
     "output_type": "display_data"
    }
   ],
   "source": [
    "cast()"
   ]
  },
  {
   "cell_type": "markdown",
   "metadata": {},
   "source": [
    "## Update Games"
   ]
  },
  {
   "cell_type": "code",
   "execution_count": 4,
   "metadata": {},
   "outputs": [
    {
     "data": {
      "application/vnd.jupyter.widget-view+json": {
       "model_id": "f5c97974a9ca40c4b156797950a71e5a",
       "version_major": 2,
       "version_minor": 0
      },
      "text/plain": [
       "Text(value='TV Box', layout=Layout(width='80%'))"
      ]
     },
     "metadata": {},
     "output_type": "display_data"
    },
    {
     "data": {
      "application/vnd.jupyter.widget-view+json": {
       "model_id": "d12b62dadc3945218eed249c1d803456",
       "version_major": 2,
       "version_minor": 0
      },
      "text/plain": [
       "Text(value='4', description='Nbr players:  ', layout=Layout(width='80%'))"
      ]
     },
     "metadata": {},
     "output_type": "display_data"
    },
    {
     "data": {
      "application/vnd.jupyter.widget-view+json": {
       "model_id": "9b157ce134fe41828fdb77d30c4228c4",
       "version_major": 2,
       "version_minor": 0
      },
      "text/plain": [
       "Text(value='0', description='Nbr audience: ', layout=Layout(width='80%'))"
      ]
     },
     "metadata": {},
     "output_type": "display_data"
    },
    {
     "data": {
      "application/vnd.jupyter.widget-view+json": {
       "model_id": "640058de3c804791acf0f460cb9cc7d8",
       "version_major": 2,
       "version_minor": 0
      },
      "text/plain": [
       "Text(value='What are four of your favorite TV channels?', description='Prompt:', layout=Layout(width='80%'))"
      ]
     },
     "metadata": {},
     "output_type": "display_data"
    },
    {
     "data": {
      "application/vnd.jupyter.widget-view+json": {
       "model_id": "9a70463394694cafa114a9da8778e490",
       "version_major": 2,
       "version_minor": 0
      },
      "text/plain": [
       "Button(button_style='info', description='save', icon='check', style=ButtonStyle())"
      ]
     },
     "metadata": {},
     "output_type": "display_data"
    },
    {
     "data": {
      "text/html": [
       "<hr>"
      ]
     },
     "metadata": {},
     "output_type": "display_data"
    },
    {
     "data": {
      "application/vnd.jupyter.widget-view+json": {
       "model_id": "e74ee9080f00493cb8d3419f0fe2d97c",
       "version_major": 2,
       "version_minor": 0
      },
      "text/plain": [
       "Text(value='Double Reverse Alphabet', layout=Layout(width='80%'))"
      ]
     },
     "metadata": {},
     "output_type": "display_data"
    },
    {
     "data": {
      "application/vnd.jupyter.widget-view+json": {
       "model_id": "b5085c2e9a6f415cbf643d7a432f3c93",
       "version_major": 2,
       "version_minor": 0
      },
      "text/plain": [
       "Text(value='2', description='Nbr players:  ', layout=Layout(width='80%'))"
      ]
     },
     "metadata": {},
     "output_type": "display_data"
    },
    {
     "data": {
      "application/vnd.jupyter.widget-view+json": {
       "model_id": "b13444c1ac044540814333da684e210a",
       "version_major": 2,
       "version_minor": 0
      },
      "text/plain": [
       "Text(value='0', description='Nbr audience: ', layout=Layout(width='80%'))"
      ]
     },
     "metadata": {},
     "output_type": "display_data"
    },
    {
     "data": {
      "application/vnd.jupyter.widget-view+json": {
       "model_id": "5bcc3068a0f946b1b05b81d6d112501d",
       "version_major": 2,
       "version_minor": 0
      },
      "text/plain": [
       "Text(value='A B C D E F G H I J K L M N O P Q R S T U V W X Y Z', description='Prompt:', layout=Layout(width='…"
      ]
     },
     "metadata": {},
     "output_type": "display_data"
    },
    {
     "data": {
      "application/vnd.jupyter.widget-view+json": {
       "model_id": "9a70463394694cafa114a9da8778e490",
       "version_major": 2,
       "version_minor": 0
      },
      "text/plain": [
       "Button(button_style='info', description='save', icon='check', style=ButtonStyle())"
      ]
     },
     "metadata": {},
     "output_type": "display_data"
    },
    {
     "data": {
      "text/html": [
       "<hr>"
      ]
     },
     "metadata": {},
     "output_type": "display_data"
    },
    {
     "data": {
      "application/vnd.jupyter.widget-view+json": {
       "model_id": "d0563e1c357a4ad6b3065bf599f1f71b",
       "version_major": 2,
       "version_minor": 0
      },
      "text/plain": [
       "Text(value='Sure Ding', layout=Layout(width='80%'))"
      ]
     },
     "metadata": {},
     "output_type": "display_data"
    },
    {
     "data": {
      "application/vnd.jupyter.widget-view+json": {
       "model_id": "2c9b839b30be4a23b67e0d39e0d92741",
       "version_major": 2,
       "version_minor": 0
      },
      "text/plain": [
       "Text(value='3', description='Nbr players:  ', layout=Layout(width='80%'))"
      ]
     },
     "metadata": {},
     "output_type": "display_data"
    },
    {
     "data": {
      "application/vnd.jupyter.widget-view+json": {
       "model_id": "de81e8f8c8fd41c18dcfd6de4365643d",
       "version_major": 2,
       "version_minor": 0
      },
      "text/plain": [
       "Text(value='0', description='Nbr audience: ', layout=Layout(width='80%'))"
      ]
     },
     "metadata": {},
     "output_type": "display_data"
    },
    {
     "data": {
      "application/vnd.jupyter.widget-view+json": {
       "model_id": "ab3d34efa3984f56b98add407517c8f4",
       "version_major": 2,
       "version_minor": 0
      },
      "text/plain": [
       "Text(value='None', description='Prompt:', layout=Layout(width='80%'))"
      ]
     },
     "metadata": {},
     "output_type": "display_data"
    },
    {
     "data": {
      "application/vnd.jupyter.widget-view+json": {
       "model_id": "9a70463394694cafa114a9da8778e490",
       "version_major": 2,
       "version_minor": 0
      },
      "text/plain": [
       "Button(button_style='info', description='save', icon='check', style=ButtonStyle())"
      ]
     },
     "metadata": {},
     "output_type": "display_data"
    },
    {
     "data": {
      "text/html": [
       "<hr>"
      ]
     },
     "metadata": {},
     "output_type": "display_data"
    },
    {
     "data": {
      "application/vnd.jupyter.widget-view+json": {
       "model_id": "fb489a2747ce4eb8b9e2f45705e3bb8d",
       "version_major": 2,
       "version_minor": 0
      },
      "text/plain": [
       "Text(value='No Laughing', layout=Layout(width='80%'))"
      ]
     },
     "metadata": {},
     "output_type": "display_data"
    },
    {
     "data": {
      "application/vnd.jupyter.widget-view+json": {
       "model_id": "5833f90e7d0c42fba7be2eacbea463b9",
       "version_major": 2,
       "version_minor": 0
      },
      "text/plain": [
       "Text(value='0', description='Nbr players:  ', layout=Layout(width='80%'))"
      ]
     },
     "metadata": {},
     "output_type": "display_data"
    },
    {
     "data": {
      "application/vnd.jupyter.widget-view+json": {
       "model_id": "34e128a8dff84c5682bc4861d1e4efad",
       "version_major": 2,
       "version_minor": 0
      },
      "text/plain": [
       "Text(value='0', description='Nbr audience: ', layout=Layout(width='80%'))"
      ]
     },
     "metadata": {},
     "output_type": "display_data"
    },
    {
     "data": {
      "application/vnd.jupyter.widget-view+json": {
       "model_id": "e92939daac5c44a9ba80de3feea21246",
       "version_major": 2,
       "version_minor": 0
      },
      "text/plain": [
       "Text(value='Something funny and something serious', description='Prompt:', layout=Layout(width='80%'))"
      ]
     },
     "metadata": {},
     "output_type": "display_data"
    },
    {
     "data": {
      "application/vnd.jupyter.widget-view+json": {
       "model_id": "9a70463394694cafa114a9da8778e490",
       "version_major": 2,
       "version_minor": 0
      },
      "text/plain": [
       "Button(button_style='info', description='save', icon='check', style=ButtonStyle())"
      ]
     },
     "metadata": {},
     "output_type": "display_data"
    },
    {
     "data": {
      "text/html": [
       "<hr>"
      ]
     },
     "metadata": {},
     "output_type": "display_data"
    },
    {
     "data": {
      "application/vnd.jupyter.widget-view+json": {
       "model_id": "1a39308fba074dc7955f1bfb793d09ff",
       "version_major": 2,
       "version_minor": 0
      },
      "text/plain": [
       "Text(value='More or Less', layout=Layout(width='80%'))"
      ]
     },
     "metadata": {},
     "output_type": "display_data"
    },
    {
     "data": {
      "application/vnd.jupyter.widget-view+json": {
       "model_id": "b0a14cb6e36b4b8a8e32892daa4d7348",
       "version_major": 2,
       "version_minor": 0
      },
      "text/plain": [
       "Text(value='3', description='Nbr players:  ', layout=Layout(width='80%'))"
      ]
     },
     "metadata": {},
     "output_type": "display_data"
    },
    {
     "data": {
      "application/vnd.jupyter.widget-view+json": {
       "model_id": "2044e66825bb4347a6fe02a37759e74a",
       "version_major": 2,
       "version_minor": 0
      },
      "text/plain": [
       "Text(value='0', description='Nbr audience: ', layout=Layout(width='80%'))"
      ]
     },
     "metadata": {},
     "output_type": "display_data"
    },
    {
     "data": {
      "application/vnd.jupyter.widget-view+json": {
       "model_id": "8b8ec08329b6473e98dca6226ffac6e1",
       "version_major": 2,
       "version_minor": 0
      },
      "text/plain": [
       "Text(value='An ordinary task you do everyday.', description='Prompt:', layout=Layout(width='80%'))"
      ]
     },
     "metadata": {},
     "output_type": "display_data"
    },
    {
     "data": {
      "application/vnd.jupyter.widget-view+json": {
       "model_id": "9a70463394694cafa114a9da8778e490",
       "version_major": 2,
       "version_minor": 0
      },
      "text/plain": [
       "Button(button_style='info', description='save', icon='check', style=ButtonStyle())"
      ]
     },
     "metadata": {},
     "output_type": "display_data"
    },
    {
     "data": {
      "text/html": [
       "<hr>"
      ]
     },
     "metadata": {},
     "output_type": "display_data"
    },
    {
     "data": {
      "application/vnd.jupyter.widget-view+json": {
       "model_id": "e6d866bb372e440e8c7c018a2fa1453b",
       "version_major": 2,
       "version_minor": 0
      },
      "text/plain": [
       "Text(value='Stunt Doubles', layout=Layout(width='80%'))"
      ]
     },
     "metadata": {},
     "output_type": "display_data"
    },
    {
     "data": {
      "application/vnd.jupyter.widget-view+json": {
       "model_id": "62b92072595c4292bb4ec04481a602cd",
       "version_major": 2,
       "version_minor": 0
      },
      "text/plain": [
       "Text(value='4', description='Nbr players:  ', layout=Layout(width='80%'))"
      ]
     },
     "metadata": {},
     "output_type": "display_data"
    },
    {
     "data": {
      "application/vnd.jupyter.widget-view+json": {
       "model_id": "56bda19db67c4de0aac36f32d9a3a070",
       "version_major": 2,
       "version_minor": 0
      },
      "text/plain": [
       "Text(value='0', description='Nbr audience: ', layout=Layout(width='80%'))"
      ]
     },
     "metadata": {},
     "output_type": "display_data"
    },
    {
     "data": {
      "application/vnd.jupyter.widget-view+json": {
       "model_id": "7fed32a62f5f491dac04b681e2096021",
       "version_major": 2,
       "version_minor": 0
      },
      "text/plain": [
       "Text(value='None', description='Prompt:', layout=Layout(width='80%'))"
      ]
     },
     "metadata": {},
     "output_type": "display_data"
    },
    {
     "data": {
      "application/vnd.jupyter.widget-view+json": {
       "model_id": "9a70463394694cafa114a9da8778e490",
       "version_major": 2,
       "version_minor": 0
      },
      "text/plain": [
       "Button(button_style='info', description='save', icon='check', style=ButtonStyle())"
      ]
     },
     "metadata": {},
     "output_type": "display_data"
    },
    {
     "data": {
      "text/html": [
       "<hr>"
      ]
     },
     "metadata": {},
     "output_type": "display_data"
    },
    {
     "data": {
      "application/vnd.jupyter.widget-view+json": {
       "model_id": "c4b17061a5c04b359c9e81401bdc25c6",
       "version_major": 2,
       "version_minor": 0
      },
      "text/plain": [
       "Text(value='Pillars', layout=Layout(width='80%'))"
      ]
     },
     "metadata": {},
     "output_type": "display_data"
    },
    {
     "data": {
      "application/vnd.jupyter.widget-view+json": {
       "model_id": "c6c858ac411d460b9a317f9c79b03a96",
       "version_major": 2,
       "version_minor": 0
      },
      "text/plain": [
       "Text(value='2', description='Nbr players:  ', layout=Layout(width='80%'))"
      ]
     },
     "metadata": {},
     "output_type": "display_data"
    },
    {
     "data": {
      "application/vnd.jupyter.widget-view+json": {
       "model_id": "ed48285952a146db9578217bb52dfc1b",
       "version_major": 2,
       "version_minor": 0
      },
      "text/plain": [
       "Text(value='2', description='Nbr audience: ', layout=Layout(width='80%'))"
      ]
     },
     "metadata": {},
     "output_type": "display_data"
    },
    {
     "data": {
      "application/vnd.jupyter.widget-view+json": {
       "model_id": "9d3cc6cece3843239cbabba088f3c15e",
       "version_major": 2,
       "version_minor": 0
      },
      "text/plain": [
       "Text(value='Two audience volunteers.', description='Prompt:', layout=Layout(width='80%'))"
      ]
     },
     "metadata": {},
     "output_type": "display_data"
    },
    {
     "data": {
      "application/vnd.jupyter.widget-view+json": {
       "model_id": "9a70463394694cafa114a9da8778e490",
       "version_major": 2,
       "version_minor": 0
      },
      "text/plain": [
       "Button(button_style='info', description='save', icon='check', style=ButtonStyle())"
      ]
     },
     "metadata": {},
     "output_type": "display_data"
    },
    {
     "data": {
      "text/html": [
       "<hr>"
      ]
     },
     "metadata": {},
     "output_type": "display_data"
    },
    {
     "data": {
      "application/vnd.jupyter.widget-view+json": {
       "model_id": "be4b03b8659244e6ae85329b1f289876",
       "version_major": 2,
       "version_minor": 0
      },
      "text/plain": [
       "Text(value='Do You Have a Receipt?', layout=Layout(width='80%'))"
      ]
     },
     "metadata": {},
     "output_type": "display_data"
    },
    {
     "data": {
      "application/vnd.jupyter.widget-view+json": {
       "model_id": "5fbe2c9b742d4a95930c82d9a3145f60",
       "version_major": 2,
       "version_minor": 0
      },
      "text/plain": [
       "Text(value='4', description='Nbr players:  ', layout=Layout(width='80%'))"
      ]
     },
     "metadata": {},
     "output_type": "display_data"
    },
    {
     "data": {
      "application/vnd.jupyter.widget-view+json": {
       "model_id": "4bbf744788d24f2190e7cc62c99effcf",
       "version_major": 2,
       "version_minor": 0
      },
      "text/plain": [
       "Text(value='0', description='Nbr audience: ', layout=Layout(width='80%'))"
      ]
     },
     "metadata": {},
     "output_type": "display_data"
    },
    {
     "data": {
      "application/vnd.jupyter.widget-view+json": {
       "model_id": "5388e1e0d4ac4b88958e3c893dbb483a",
       "version_major": 2,
       "version_minor": 0
      },
      "text/plain": [
       "Text(value='How many products can we return in 1.5 minutes?', description='Prompt:', layout=Layout(width='80%'…"
      ]
     },
     "metadata": {},
     "output_type": "display_data"
    },
    {
     "data": {
      "application/vnd.jupyter.widget-view+json": {
       "model_id": "9a70463394694cafa114a9da8778e490",
       "version_major": 2,
       "version_minor": 0
      },
      "text/plain": [
       "Button(button_style='info', description='save', icon='check', style=ButtonStyle())"
      ]
     },
     "metadata": {},
     "output_type": "display_data"
    },
    {
     "data": {
      "text/html": [
       "<hr>"
      ]
     },
     "metadata": {},
     "output_type": "display_data"
    },
    {
     "data": {
      "application/vnd.jupyter.widget-view+json": {
       "model_id": "e3ec2c98fd174bb6875088f5e6f7e6b7",
       "version_major": 2,
       "version_minor": 0
      },
      "text/plain": [
       "Text(value='A Date with Me', layout=Layout(width='80%'))"
      ]
     },
     "metadata": {},
     "output_type": "display_data"
    },
    {
     "data": {
      "application/vnd.jupyter.widget-view+json": {
       "model_id": "4f8e40a266de4a33a2e1ba0383a0d4cf",
       "version_major": 2,
       "version_minor": 0
      },
      "text/plain": [
       "Text(value='0', description='Nbr players:  ', layout=Layout(width='80%'))"
      ]
     },
     "metadata": {},
     "output_type": "display_data"
    },
    {
     "data": {
      "application/vnd.jupyter.widget-view+json": {
       "model_id": "7b6384cc4b1c4fbb8d924c4e87e667ae",
       "version_major": 2,
       "version_minor": 0
      },
      "text/plain": [
       "Text(value='0', description='Nbr audience: ', layout=Layout(width='80%'))"
      ]
     },
     "metadata": {},
     "output_type": "display_data"
    },
    {
     "data": {
      "application/vnd.jupyter.widget-view+json": {
       "model_id": "08bf321611f44d81a083d2b29a44a448",
       "version_major": 2,
       "version_minor": 0
      },
      "text/plain": [
       "Text(value='A date with me is like <object/occupation>.', description='Prompt:', layout=Layout(width='80%'))"
      ]
     },
     "metadata": {},
     "output_type": "display_data"
    },
    {
     "data": {
      "application/vnd.jupyter.widget-view+json": {
       "model_id": "9a70463394694cafa114a9da8778e490",
       "version_major": 2,
       "version_minor": 0
      },
      "text/plain": [
       "Button(button_style='info', description='save', icon='check', style=ButtonStyle())"
      ]
     },
     "metadata": {},
     "output_type": "display_data"
    },
    {
     "data": {
      "text/html": [
       "<hr>"
      ]
     },
     "metadata": {},
     "output_type": "display_data"
    },
    {
     "data": {
      "application/vnd.jupyter.widget-view+json": {
       "model_id": "4872bc8604c1428d8fe6cfa236d6bc2d",
       "version_major": 2,
       "version_minor": 0
      },
      "text/plain": [
       "Text(value='Questions Only', layout=Layout(width='80%'))"
      ]
     },
     "metadata": {},
     "output_type": "display_data"
    },
    {
     "data": {
      "application/vnd.jupyter.widget-view+json": {
       "model_id": "98d7c84e4a594c4ead9542e15a9b8c38",
       "version_major": 2,
       "version_minor": 0
      },
      "text/plain": [
       "Text(value='0', description='Nbr players:  ', layout=Layout(width='80%'))"
      ]
     },
     "metadata": {},
     "output_type": "display_data"
    },
    {
     "data": {
      "application/vnd.jupyter.widget-view+json": {
       "model_id": "4eb99279a01a44ceaa643a5c0a979fb1",
       "version_major": 2,
       "version_minor": 0
      },
      "text/plain": [
       "Text(value='0', description='Nbr audience: ', layout=Layout(width='80%'))"
      ]
     },
     "metadata": {},
     "output_type": "display_data"
    },
    {
     "data": {
      "application/vnd.jupyter.widget-view+json": {
       "model_id": "3d85c55249af41f0b8f1992e27cd0e99",
       "version_major": 2,
       "version_minor": 0
      },
      "text/plain": [
       "Text(value='None', description='Prompt:', layout=Layout(width='80%'))"
      ]
     },
     "metadata": {},
     "output_type": "display_data"
    },
    {
     "data": {
      "application/vnd.jupyter.widget-view+json": {
       "model_id": "9a70463394694cafa114a9da8778e490",
       "version_major": 2,
       "version_minor": 0
      },
      "text/plain": [
       "Button(button_style='info', description='save', icon='check', style=ButtonStyle())"
      ]
     },
     "metadata": {},
     "output_type": "display_data"
    },
    {
     "data": {
      "text/html": [
       "<hr>"
      ]
     },
     "metadata": {},
     "output_type": "display_data"
    },
    {
     "data": {
      "application/vnd.jupyter.widget-view+json": {
       "model_id": "dc71c921d2f2401ebc6fc057b6c936d0",
       "version_major": 2,
       "version_minor": 0
      },
      "text/plain": [
       "Text(value='Highlander', layout=Layout(width='80%'))"
      ]
     },
     "metadata": {},
     "output_type": "display_data"
    },
    {
     "data": {
      "application/vnd.jupyter.widget-view+json": {
       "model_id": "2f74c6439de9472988020d4075634067",
       "version_major": 2,
       "version_minor": 0
      },
      "text/plain": [
       "Text(value='4', description='Nbr players:  ', layout=Layout(width='80%'))"
      ]
     },
     "metadata": {},
     "output_type": "display_data"
    },
    {
     "data": {
      "application/vnd.jupyter.widget-view+json": {
       "model_id": "5220399eace4407ba7d8a6be6e9c14b9",
       "version_major": 2,
       "version_minor": 0
      },
      "text/plain": [
       "Text(value='0', description='Nbr audience: ', layout=Layout(width='80%'))"
      ]
     },
     "metadata": {},
     "output_type": "display_data"
    },
    {
     "data": {
      "application/vnd.jupyter.widget-view+json": {
       "model_id": "6c38909e30294b27821b59b0f117bddc",
       "version_major": 2,
       "version_minor": 0
      },
      "text/plain": [
       "Text(value='None', description='Prompt:', layout=Layout(width='80%'))"
      ]
     },
     "metadata": {},
     "output_type": "display_data"
    },
    {
     "data": {
      "application/vnd.jupyter.widget-view+json": {
       "model_id": "9a70463394694cafa114a9da8778e490",
       "version_major": 2,
       "version_minor": 0
      },
      "text/plain": [
       "Button(button_style='info', description='save', icon='check', style=ButtonStyle())"
      ]
     },
     "metadata": {},
     "output_type": "display_data"
    },
    {
     "data": {
      "text/html": [
       "<hr>"
      ]
     },
     "metadata": {},
     "output_type": "display_data"
    },
    {
     "data": {
      "application/vnd.jupyter.widget-view+json": {
       "model_id": "96106ca1ef1e45a182a95e8d76712e88",
       "version_major": 2,
       "version_minor": 0
      },
      "text/plain": [
       "Text(value='Genres', layout=Layout(width='80%'))"
      ]
     },
     "metadata": {},
     "output_type": "display_data"
    },
    {
     "data": {
      "application/vnd.jupyter.widget-view+json": {
       "model_id": "c53956d693b3487f9beea8f48daabd1b",
       "version_major": 2,
       "version_minor": 0
      },
      "text/plain": [
       "Text(value='3', description='Nbr players:  ', layout=Layout(width='80%'))"
      ]
     },
     "metadata": {},
     "output_type": "display_data"
    },
    {
     "data": {
      "application/vnd.jupyter.widget-view+json": {
       "model_id": "591d367b75b5416b8b26efe838416163",
       "version_major": 2,
       "version_minor": 0
      },
      "text/plain": [
       "Text(value='0', description='Nbr audience: ', layout=Layout(width='80%'))"
      ]
     },
     "metadata": {},
     "output_type": "display_data"
    },
    {
     "data": {
      "application/vnd.jupyter.widget-view+json": {
       "model_id": "490cb321be224228a5248600de18c0cc",
       "version_major": 2,
       "version_minor": 0
      },
      "text/plain": [
       "Text(value='At least three story genres.', description='Prompt:', layout=Layout(width='80%'))"
      ]
     },
     "metadata": {},
     "output_type": "display_data"
    },
    {
     "data": {
      "application/vnd.jupyter.widget-view+json": {
       "model_id": "9a70463394694cafa114a9da8778e490",
       "version_major": 2,
       "version_minor": 0
      },
      "text/plain": [
       "Button(button_style='info', description='save', icon='check', style=ButtonStyle())"
      ]
     },
     "metadata": {},
     "output_type": "display_data"
    },
    {
     "data": {
      "text/html": [
       "<hr>"
      ]
     },
     "metadata": {},
     "output_type": "display_data"
    },
    {
     "data": {
      "application/vnd.jupyter.widget-view+json": {
       "model_id": "3909e24c34744f4e942846e98e87ce90",
       "version_major": 2,
       "version_minor": 0
      },
      "text/plain": [
       "Text(value='Headphones', layout=Layout(width='80%'))"
      ]
     },
     "metadata": {},
     "output_type": "display_data"
    },
    {
     "data": {
      "application/vnd.jupyter.widget-view+json": {
       "model_id": "0aae74afa79c4c859b17cd048394f1ae",
       "version_major": 2,
       "version_minor": 0
      },
      "text/plain": [
       "Text(value='3', description='Nbr players:  ', layout=Layout(width='80%'))"
      ]
     },
     "metadata": {},
     "output_type": "display_data"
    },
    {
     "data": {
      "application/vnd.jupyter.widget-view+json": {
       "model_id": "bbab1ea4e791433d9e0d2bb9c54f6bba",
       "version_major": 2,
       "version_minor": 0
      },
      "text/plain": [
       "Text(value='0', description='Nbr audience: ', layout=Layout(width='80%'))"
      ]
     },
     "metadata": {},
     "output_type": "display_data"
    },
    {
     "data": {
      "application/vnd.jupyter.widget-view+json": {
       "model_id": "5d4f0abcf4a34d2db2f2d44277789774",
       "version_major": 2,
       "version_minor": 0
      },
      "text/plain": [
       "Text(value='None', description='Prompt:', layout=Layout(width='80%'))"
      ]
     },
     "metadata": {},
     "output_type": "display_data"
    },
    {
     "data": {
      "application/vnd.jupyter.widget-view+json": {
       "model_id": "9a70463394694cafa114a9da8778e490",
       "version_major": 2,
       "version_minor": 0
      },
      "text/plain": [
       "Button(button_style='info', description='save', icon='check', style=ButtonStyle())"
      ]
     },
     "metadata": {},
     "output_type": "display_data"
    },
    {
     "data": {
      "text/html": [
       "<hr>"
      ]
     },
     "metadata": {},
     "output_type": "display_data"
    },
    {
     "data": {
      "application/vnd.jupyter.widget-view+json": {
       "model_id": "1a0dd1cd15ec4c16b35cde92596626b0",
       "version_major": 2,
       "version_minor": 0
      },
      "text/plain": [
       "Text(value='Sit, Stand, Lie', layout=Layout(width='80%'))"
      ]
     },
     "metadata": {},
     "output_type": "display_data"
    },
    {
     "data": {
      "application/vnd.jupyter.widget-view+json": {
       "model_id": "9822407dc2bd4828bf2165055b909c9f",
       "version_major": 2,
       "version_minor": 0
      },
      "text/plain": [
       "Text(value='3', description='Nbr players:  ', layout=Layout(width='80%'))"
      ]
     },
     "metadata": {},
     "output_type": "display_data"
    },
    {
     "data": {
      "application/vnd.jupyter.widget-view+json": {
       "model_id": "34c97a2f073442aaa7258912a3cf9d8a",
       "version_major": 2,
       "version_minor": 0
      },
      "text/plain": [
       "Text(value='0', description='Nbr audience: ', layout=Layout(width='80%'))"
      ]
     },
     "metadata": {},
     "output_type": "display_data"
    },
    {
     "data": {
      "application/vnd.jupyter.widget-view+json": {
       "model_id": "df9ebb1e78ac4b78a426e970c619d45a",
       "version_major": 2,
       "version_minor": 0
      },
      "text/plain": [
       "Text(value='Your favorite Olympic sport', description='Prompt:', layout=Layout(width='80%'))"
      ]
     },
     "metadata": {},
     "output_type": "display_data"
    },
    {
     "data": {
      "application/vnd.jupyter.widget-view+json": {
       "model_id": "9a70463394694cafa114a9da8778e490",
       "version_major": 2,
       "version_minor": 0
      },
      "text/plain": [
       "Button(button_style='info', description='save', icon='check', style=ButtonStyle())"
      ]
     },
     "metadata": {},
     "output_type": "display_data"
    },
    {
     "data": {
      "text/html": [
       "<hr>"
      ]
     },
     "metadata": {},
     "output_type": "display_data"
    },
    {
     "data": {
      "application/vnd.jupyter.widget-view+json": {
       "model_id": "3a7d3f5292eb4587bba898c230b7e584",
       "version_major": 2,
       "version_minor": 0
      },
      "text/plain": [
       "Text(value='Puppets', layout=Layout(width='80%'))"
      ]
     },
     "metadata": {},
     "output_type": "display_data"
    },
    {
     "data": {
      "application/vnd.jupyter.widget-view+json": {
       "model_id": "ec23137b917d487abc0fb6ce02eb7b13",
       "version_major": 2,
       "version_minor": 0
      },
      "text/plain": [
       "Text(value='2', description='Nbr players:  ', layout=Layout(width='80%'))"
      ]
     },
     "metadata": {},
     "output_type": "display_data"
    },
    {
     "data": {
      "application/vnd.jupyter.widget-view+json": {
       "model_id": "cb1d70fa87b44f0e8f659a627757fd87",
       "version_major": 2,
       "version_minor": 0
      },
      "text/plain": [
       "Text(value='2', description='Nbr audience: ', layout=Layout(width='80%'))"
      ]
     },
     "metadata": {},
     "output_type": "display_data"
    },
    {
     "data": {
      "application/vnd.jupyter.widget-view+json": {
       "model_id": "28cb525301c64954aa272ba15290d362",
       "version_major": 2,
       "version_minor": 0
      },
      "text/plain": [
       "Text(value='None', description='Prompt:', layout=Layout(width='80%'))"
      ]
     },
     "metadata": {},
     "output_type": "display_data"
    },
    {
     "data": {
      "application/vnd.jupyter.widget-view+json": {
       "model_id": "9a70463394694cafa114a9da8778e490",
       "version_major": 2,
       "version_minor": 0
      },
      "text/plain": [
       "Button(button_style='info', description='save', icon='check', style=ButtonStyle())"
      ]
     },
     "metadata": {},
     "output_type": "display_data"
    },
    {
     "data": {
      "text/html": [
       "<hr>"
      ]
     },
     "metadata": {},
     "output_type": "display_data"
    },
    {
     "data": {
      "application/vnd.jupyter.widget-view+json": {
       "model_id": "7d7de77cfdb546fc9a3ce71103d08b9c",
       "version_major": 2,
       "version_minor": 0
      },
      "text/plain": [
       "Text(value='Story, Story, Die!', layout=Layout(width='80%'))"
      ]
     },
     "metadata": {},
     "output_type": "display_data"
    },
    {
     "data": {
      "application/vnd.jupyter.widget-view+json": {
       "model_id": "f89f721ea8714875b6671b3589f426c8",
       "version_major": 2,
       "version_minor": 0
      },
      "text/plain": [
       "Text(value='0', description='Nbr players:  ', layout=Layout(width='80%'))"
      ]
     },
     "metadata": {},
     "output_type": "display_data"
    },
    {
     "data": {
      "application/vnd.jupyter.widget-view+json": {
       "model_id": "f5b6c9af594243ba99b9a4092a43fe5b",
       "version_major": 2,
       "version_minor": 0
      },
      "text/plain": [
       "Text(value='0', description='Nbr audience: ', layout=Layout(width='80%'))"
      ]
     },
     "metadata": {},
     "output_type": "display_data"
    },
    {
     "data": {
      "application/vnd.jupyter.widget-view+json": {
       "model_id": "493fa1d892724360a204aca923e30f07",
       "version_major": 2,
       "version_minor": 0
      },
      "text/plain": [
       "Text(value='None', description='Prompt:', layout=Layout(width='80%'))"
      ]
     },
     "metadata": {},
     "output_type": "display_data"
    },
    {
     "data": {
      "application/vnd.jupyter.widget-view+json": {
       "model_id": "9a70463394694cafa114a9da8778e490",
       "version_major": 2,
       "version_minor": 0
      },
      "text/plain": [
       "Button(button_style='info', description='save', icon='check', style=ButtonStyle())"
      ]
     },
     "metadata": {},
     "output_type": "display_data"
    },
    {
     "data": {
      "text/html": [
       "<hr>"
      ]
     },
     "metadata": {},
     "output_type": "display_data"
    },
    {
     "data": {
      "application/vnd.jupyter.widget-view+json": {
       "model_id": "97bcda47bc90422a8d0248ca5d09f013",
       "version_major": 2,
       "version_minor": 0
      },
      "text/plain": [
       "Text(value='Everybody Dies', layout=Layout(width='80%'))"
      ]
     },
     "metadata": {},
     "output_type": "display_data"
    },
    {
     "data": {
      "application/vnd.jupyter.widget-view+json": {
       "model_id": "2fee8b72518846dba0c0f847778b4081",
       "version_major": 2,
       "version_minor": 0
      },
      "text/plain": [
       "Text(value='3', description='Nbr players:  ', layout=Layout(width='80%'))"
      ]
     },
     "metadata": {},
     "output_type": "display_data"
    },
    {
     "data": {
      "application/vnd.jupyter.widget-view+json": {
       "model_id": "7da89d27e18a4e24ac84124b63316b80",
       "version_major": 2,
       "version_minor": 0
      },
      "text/plain": [
       "Text(value='0', description='Nbr audience: ', layout=Layout(width='80%'))"
      ]
     },
     "metadata": {},
     "output_type": "display_data"
    },
    {
     "data": {
      "application/vnd.jupyter.widget-view+json": {
       "model_id": "5c980336feec4dd39652653d491171bd",
       "version_major": 2,
       "version_minor": 0
      },
      "text/plain": [
       "Text(value='3 Locations', description='Prompt:', layout=Layout(width='80%'))"
      ]
     },
     "metadata": {},
     "output_type": "display_data"
    },
    {
     "data": {
      "application/vnd.jupyter.widget-view+json": {
       "model_id": "9a70463394694cafa114a9da8778e490",
       "version_major": 2,
       "version_minor": 0
      },
      "text/plain": [
       "Button(button_style='info', description='save', icon='check', style=ButtonStyle())"
      ]
     },
     "metadata": {},
     "output_type": "display_data"
    },
    {
     "data": {
      "text/html": [
       "<hr>"
      ]
     },
     "metadata": {},
     "output_type": "display_data"
    },
    {
     "data": {
      "application/vnd.jupyter.widget-view+json": {
       "model_id": "eee6144210154f89b6139ed284b27629",
       "version_major": 2,
       "version_minor": 0
      },
      "text/plain": [
       "Text(value=\"World's Worst\", layout=Layout(width='80%'))"
      ]
     },
     "metadata": {},
     "output_type": "display_data"
    },
    {
     "data": {
      "application/vnd.jupyter.widget-view+json": {
       "model_id": "1d28c78382054b5085e54d844be738b5",
       "version_major": 2,
       "version_minor": 0
      },
      "text/plain": [
       "Text(value='0', description='Nbr players:  ', layout=Layout(width='80%'))"
      ]
     },
     "metadata": {},
     "output_type": "display_data"
    },
    {
     "data": {
      "application/vnd.jupyter.widget-view+json": {
       "model_id": "6225fa2b0cdb4dc5ab6d3fc33b1a82fd",
       "version_major": 2,
       "version_minor": 0
      },
      "text/plain": [
       "Text(value='0', description='Nbr audience: ', layout=Layout(width='80%'))"
      ]
     },
     "metadata": {},
     "output_type": "display_data"
    },
    {
     "data": {
      "application/vnd.jupyter.widget-view+json": {
       "model_id": "0ac38841fd9e43368e23859368217433",
       "version_major": 2,
       "version_minor": 0
      },
      "text/plain": [
       "Text(value='An occupation, animal, or celebrity', description='Prompt:', layout=Layout(width='80%'))"
      ]
     },
     "metadata": {},
     "output_type": "display_data"
    },
    {
     "data": {
      "application/vnd.jupyter.widget-view+json": {
       "model_id": "9a70463394694cafa114a9da8778e490",
       "version_major": 2,
       "version_minor": 0
      },
      "text/plain": [
       "Button(button_style='info', description='save', icon='check', style=ButtonStyle())"
      ]
     },
     "metadata": {},
     "output_type": "display_data"
    },
    {
     "data": {
      "text/html": [
       "<hr>"
      ]
     },
     "metadata": {},
     "output_type": "display_data"
    },
    {
     "data": {
      "application/vnd.jupyter.widget-view+json": {
       "model_id": "4fbf10cb801240b1aa2eec759a812e06",
       "version_major": 2,
       "version_minor": 0
      },
      "text/plain": [
       "Text(value='Forward Reverse', layout=Layout(width='80%'))"
      ]
     },
     "metadata": {},
     "output_type": "display_data"
    },
    {
     "data": {
      "application/vnd.jupyter.widget-view+json": {
       "model_id": "ef8de96dd01f4242bf80e1e370db2f26",
       "version_major": 2,
       "version_minor": 0
      },
      "text/plain": [
       "Text(value='3', description='Nbr players:  ', layout=Layout(width='80%'))"
      ]
     },
     "metadata": {},
     "output_type": "display_data"
    },
    {
     "data": {
      "application/vnd.jupyter.widget-view+json": {
       "model_id": "a7bc1c5ffa5746818ba13e393358cad6",
       "version_major": 2,
       "version_minor": 0
      },
      "text/plain": [
       "Text(value='0', description='Nbr audience: ', layout=Layout(width='80%'))"
      ]
     },
     "metadata": {},
     "output_type": "display_data"
    },
    {
     "data": {
      "application/vnd.jupyter.widget-view+json": {
       "model_id": "4b77b2a0b4a942a7b000d7a7e8202523",
       "version_major": 2,
       "version_minor": 0
      },
      "text/plain": [
       "Text(value='None', description='Prompt:', layout=Layout(width='80%'))"
      ]
     },
     "metadata": {},
     "output_type": "display_data"
    },
    {
     "data": {
      "application/vnd.jupyter.widget-view+json": {
       "model_id": "9a70463394694cafa114a9da8778e490",
       "version_major": 2,
       "version_minor": 0
      },
      "text/plain": [
       "Button(button_style='info', description='save', icon='check', style=ButtonStyle())"
      ]
     },
     "metadata": {},
     "output_type": "display_data"
    },
    {
     "data": {
      "text/html": [
       "<hr>"
      ]
     },
     "metadata": {},
     "output_type": "display_data"
    },
    {
     "data": {
      "application/vnd.jupyter.widget-view+json": {
       "model_id": "c5f441fb449442a99616ed8597ef288d",
       "version_major": 2,
       "version_minor": 0
      },
      "text/plain": [
       "Text(value='Mutant Debate', layout=Layout(width='80%'))"
      ]
     },
     "metadata": {},
     "output_type": "display_data"
    },
    {
     "data": {
      "application/vnd.jupyter.widget-view+json": {
       "model_id": "5051f70f8cc64065b660207f2d63acf8",
       "version_major": 2,
       "version_minor": 0
      },
      "text/plain": [
       "Text(value='5', description='Nbr players:  ', layout=Layout(width='80%'))"
      ]
     },
     "metadata": {},
     "output_type": "display_data"
    },
    {
     "data": {
      "application/vnd.jupyter.widget-view+json": {
       "model_id": "256d31c804d84f9ab06b433cc0c8ea59",
       "version_major": 2,
       "version_minor": 0
      },
      "text/plain": [
       "Text(value='0', description='Nbr audience: ', layout=Layout(width='80%'))"
      ]
     },
     "metadata": {},
     "output_type": "display_data"
    },
    {
     "data": {
      "application/vnd.jupyter.widget-view+json": {
       "model_id": "d5661dae1f4b4536afe3493f86dfed84",
       "version_major": 2,
       "version_minor": 0
      },
      "text/plain": [
       "Text(value=\"What is a dumb argument you've had recently?\", description='Prompt:', layout=Layout(width='80%'))"
      ]
     },
     "metadata": {},
     "output_type": "display_data"
    },
    {
     "data": {
      "application/vnd.jupyter.widget-view+json": {
       "model_id": "9a70463394694cafa114a9da8778e490",
       "version_major": 2,
       "version_minor": 0
      },
      "text/plain": [
       "Button(button_style='info', description='save', icon='check', style=ButtonStyle())"
      ]
     },
     "metadata": {},
     "output_type": "display_data"
    },
    {
     "data": {
      "text/html": [
       "<hr>"
      ]
     },
     "metadata": {},
     "output_type": "display_data"
    },
    {
     "data": {
      "text/html": [
       "<hr>"
      ]
     },
     "metadata": {},
     "output_type": "display_data"
    },
    {
     "data": {
      "application/vnd.jupyter.widget-view+json": {
       "model_id": "64580c79785144d6bab1c4240d608451",
       "version_major": 2,
       "version_minor": 0
      },
      "text/plain": [
       "GridspecLayout(children=(Label(value='Game name', layout=Layout(grid_area='widget001', width='80%')), Label(va…"
      ]
     },
     "metadata": {},
     "output_type": "display_data"
    }
   ],
   "source": [
    "games()"
   ]
  },
  {
   "cell_type": "markdown",
   "metadata": {},
   "source": [
    "## Update random prompt collection"
   ]
  },
  {
   "cell_type": "code",
   "execution_count": 5,
   "metadata": {},
   "outputs": [
    {
     "data": {
      "application/vnd.jupyter.widget-view+json": {
       "model_id": "de3b0df264b64677862c4bd6f3541b74",
       "version_major": 2,
       "version_minor": 0
      },
      "text/plain": [
       "Text(value='A location that would fit on this stage.', description='Prompt', layout=Layout(width='75%'))"
      ]
     },
     "metadata": {},
     "output_type": "display_data"
    },
    {
     "data": {
      "application/vnd.jupyter.widget-view+json": {
       "model_id": "eef4b44cbaa9422f9d1201cce093208d",
       "version_major": 2,
       "version_minor": 0
      },
      "text/plain": [
       "Text(value='Non-romantic relationship.', description='Prompt', layout=Layout(width='75%'))"
      ]
     },
     "metadata": {},
     "output_type": "display_data"
    },
    {
     "data": {
      "application/vnd.jupyter.widget-view+json": {
       "model_id": "e7c4658e65b541bcbd601c8725d2a1ae",
       "version_major": 2,
       "version_minor": 0
      },
      "text/plain": [
       "Text(value='Worst location for a first date.', description='Prompt', layout=Layout(width='75%'))"
      ]
     },
     "metadata": {},
     "output_type": "display_data"
    },
    {
     "data": {
      "application/vnd.jupyter.widget-view+json": {
       "model_id": "b0242ebba20c48caae73c78fff6396cd",
       "version_major": 2,
       "version_minor": 0
      },
      "text/plain": [
       "Text(value=\"Worst job you've ever had.\", description='Prompt', layout=Layout(width='75%'))"
      ]
     },
     "metadata": {},
     "output_type": "display_data"
    },
    {
     "data": {
      "application/vnd.jupyter.widget-view+json": {
       "model_id": "af69aa3c778f4c39a3111dc9f8d89648",
       "version_major": 2,
       "version_minor": 0
      },
      "text/plain": [
       "Text(value='What is your dream job?', description='Prompt', layout=Layout(width='75%'))"
      ]
     },
     "metadata": {},
     "output_type": "display_data"
    },
    {
     "data": {
      "application/vnd.jupyter.widget-view+json": {
       "model_id": "7308ddc452ac419586894f11c48fe969",
       "version_major": 2,
       "version_minor": 0
      },
      "text/plain": [
       "Text(value=\"What's an unusual hobby?\", description='Prompt', layout=Layout(width='75%'))"
      ]
     },
     "metadata": {},
     "output_type": "display_data"
    },
    {
     "data": {
      "application/vnd.jupyter.widget-view+json": {
       "model_id": "ab76006f29104ecf96b601ccb873cfc6",
       "version_major": 2,
       "version_minor": 0
      },
      "text/plain": [
       "Text(value='A room in a building.', description='Prompt', layout=Layout(width='75%'))"
      ]
     },
     "metadata": {},
     "output_type": "display_data"
    },
    {
     "data": {
      "application/vnd.jupyter.widget-view+json": {
       "model_id": "b8c85dbe834d43b98a4f656f20b7445a",
       "version_major": 2,
       "version_minor": 0
      },
      "text/plain": [
       "Text(value='What was your favourite song?', description='Prompt', layout=Layout(width='75%'))"
      ]
     },
     "metadata": {},
     "output_type": "display_data"
    },
    {
     "data": {
      "application/vnd.jupyter.widget-view+json": {
       "model_id": "55b079e0bb10433da8e03465956dc2dd",
       "version_major": 2,
       "version_minor": 0
      },
      "text/plain": [
       "Text(value='What is your favourite guilty pleasure?', description='Prompt', layout=Layout(width='75%'))"
      ]
     },
     "metadata": {},
     "output_type": "display_data"
    },
    {
     "data": {
      "application/vnd.jupyter.widget-view+json": {
       "model_id": "ee6e45039fdb43b2bee88b8c93c5bbd0",
       "version_major": 2,
       "version_minor": 0
      },
      "text/plain": [
       "Text(value='An occasion to celebrate with others.', description='Prompt', layout=Layout(width='75%'))"
      ]
     },
     "metadata": {},
     "output_type": "display_data"
    },
    {
     "data": {
      "application/vnd.jupyter.widget-view+json": {
       "model_id": "84e8285d935d40bba30dff1f1ffab2e8",
       "version_major": 2,
       "version_minor": 0
      },
      "text/plain": [
       "Text(value='Cheesy Netflix movie title.', description='Prompt', layout=Layout(width='75%'))"
      ]
     },
     "metadata": {},
     "output_type": "display_data"
    },
    {
     "data": {
      "application/vnd.jupyter.widget-view+json": {
       "model_id": "c66946d3eb1949e195af4f3a4597ada6",
       "version_major": 2,
       "version_minor": 0
      },
      "text/plain": [
       "Text(value='A strong emotion you witnessed recently.', description='Prompt', layout=Layout(width='75%'))"
      ]
     },
     "metadata": {},
     "output_type": "display_data"
    },
    {
     "data": {
      "application/vnd.jupyter.widget-view+json": {
       "model_id": "9732c69304ae4a399b713fca5e1063bc",
       "version_major": 2,
       "version_minor": 0
      },
      "text/plain": [
       "Text(value='An item you need to throw away.', description='Prompt', layout=Layout(width='75%'))"
      ]
     },
     "metadata": {},
     "output_type": "display_data"
    },
    {
     "data": {
      "application/vnd.jupyter.widget-view+json": {
       "model_id": "1296b7a00ed24407b1d2bd1dac4384e3",
       "version_major": 2,
       "version_minor": 0
      },
      "text/plain": [
       "Text(value='An unsolvable problem.', description='Prompt', layout=Layout(width='75%'))"
      ]
     },
     "metadata": {},
     "output_type": "display_data"
    },
    {
     "data": {
      "application/vnd.jupyter.widget-view+json": {
       "model_id": "fe96f0ad1e07451db54fa2d224d26f6f",
       "version_major": 2,
       "version_minor": 0
      },
      "text/plain": [
       "Text(value='A mythical animal.', description='Prompt', layout=Layout(width='75%'))"
      ]
     },
     "metadata": {},
     "output_type": "display_data"
    },
    {
     "data": {
      "application/vnd.jupyter.widget-view+json": {
       "model_id": "649245884af94012b05de30fef56c239",
       "version_major": 2,
       "version_minor": 0
      },
      "text/plain": [
       "Text(value=\"What's a secret you were told?\", description='Prompt', layout=Layout(width='75%'))"
      ]
     },
     "metadata": {},
     "output_type": "display_data"
    },
    {
     "data": {
      "application/vnd.jupyter.widget-view+json": {
       "model_id": "67368709ffb74e23af4bb87315a83241",
       "version_major": 2,
       "version_minor": 0
      },
      "text/plain": [
       "Text(value='What did you want to be when you grew up?', description='Prompt', layout=Layout(width='75%'))"
      ]
     },
     "metadata": {},
     "output_type": "display_data"
    },
    {
     "data": {
      "application/vnd.jupyter.widget-view+json": {
       "model_id": "a7a88766e6824717bce231a3c14a5f2f",
       "version_major": 2,
       "version_minor": 0
      },
      "text/plain": [
       "Text(value='What is this?', description='Prompt', layout=Layout(width='75%'))"
      ]
     },
     "metadata": {},
     "output_type": "display_data"
    },
    {
     "data": {
      "application/vnd.jupyter.widget-view+json": {
       "model_id": "f67887e19b1d4af1810b52472348eacb",
       "version_major": 2,
       "version_minor": 0
      },
      "text/plain": [
       "Text(value='A place where it is easy to get lost.', description='Prompt', layout=Layout(width='75%'))"
      ]
     },
     "metadata": {},
     "output_type": "display_data"
    },
    {
     "data": {
      "application/vnd.jupyter.widget-view+json": {
       "model_id": "be0efcf268d443ab977344c53386f615",
       "version_major": 2,
       "version_minor": 0
      },
      "text/plain": [
       "Text(value='Why are you this way?', description='Prompt', layout=Layout(width='75%'))"
      ]
     },
     "metadata": {},
     "output_type": "display_data"
    },
    {
     "data": {
      "application/vnd.jupyter.widget-view+json": {
       "model_id": "c6ff658203014b039c1abd9294ccc340",
       "version_major": 2,
       "version_minor": 0
      },
      "text/plain": [
       "Text(value='A scary place to be alone at night.', description='Prompt', layout=Layout(width='75%'))"
      ]
     },
     "metadata": {},
     "output_type": "display_data"
    },
    {
     "data": {
      "application/vnd.jupyter.widget-view+json": {
       "model_id": "777cb8d264de4d878bf4768dd8a8d009",
       "version_major": 2,
       "version_minor": 0
      },
      "text/plain": [
       "Text(value='An annoying habit of someone you know.', description='Prompt', layout=Layout(width='75%'))"
      ]
     },
     "metadata": {},
     "output_type": "display_data"
    },
    {
     "data": {
      "application/vnd.jupyter.widget-view+json": {
       "model_id": "8cb2616011e343b19c9707b668a9351d",
       "version_major": 2,
       "version_minor": 0
      },
      "text/plain": [
       "Text(value='Best birthday present you ever got.', description='Prompt', layout=Layout(width='75%'))"
      ]
     },
     "metadata": {},
     "output_type": "display_data"
    },
    {
     "data": {
      "application/vnd.jupyter.widget-view+json": {
       "model_id": "23eaf44fdc774fabaaa086cd94ada8b9",
       "version_major": 2,
       "version_minor": 0
      },
      "text/plain": [
       "Text(value='A non-green vegetable.', description='Prompt', layout=Layout(width='75%'))"
      ]
     },
     "metadata": {},
     "output_type": "display_data"
    },
    {
     "data": {
      "application/vnd.jupyter.widget-view+json": {
       "model_id": "d8db4b33c0574ba28ab1bd78e6be0523",
       "version_major": 2,
       "version_minor": 0
      },
      "text/plain": [
       "Text(value='A unique tradition in your family.', description='Prompt', layout=Layout(width='75%'))"
      ]
     },
     "metadata": {},
     "output_type": "display_data"
    },
    {
     "data": {
      "application/vnd.jupyter.widget-view+json": {
       "model_id": "b10a87be63c24e4c8ddf7e071d3177db",
       "version_major": 2,
       "version_minor": 0
      },
      "text/plain": [
       "Text(value='Something you want, but would never buy yourself.', description='Prompt', layout=Layout(width='75%…"
      ]
     },
     "metadata": {},
     "output_type": "display_data"
    },
    {
     "data": {
      "application/vnd.jupyter.widget-view+json": {
       "model_id": "6641e450cf6545818612077c854e75de",
       "version_major": 2,
       "version_minor": 0
      },
      "text/plain": [
       "Text(value='A place to never go on vacation.', description='Prompt', layout=Layout(width='75%'))"
      ]
     },
     "metadata": {},
     "output_type": "display_data"
    },
    {
     "data": {
      "application/vnd.jupyter.widget-view+json": {
       "model_id": "73e58440bc17409c8f17a899d484c7cd",
       "version_major": 2,
       "version_minor": 0
      },
      "text/plain": [
       "Text(value='A location from sci-fi or fantasy.', description='Prompt', layout=Layout(width='75%'))"
      ]
     },
     "metadata": {},
     "output_type": "display_data"
    },
    {
     "data": {
      "application/vnd.jupyter.widget-view+json": {
       "model_id": "193745af37c24552804616fd132e426e",
       "version_major": 2,
       "version_minor": 0
      },
      "text/plain": [
       "Text(value='What has been forgotten under your bed?', description='Prompt', layout=Layout(width='75%'))"
      ]
     },
     "metadata": {},
     "output_type": "display_data"
    },
    {
     "data": {
      "application/vnd.jupyter.widget-view+json": {
       "model_id": "1c0eb3c77dc74706935e24969c252367",
       "version_major": 2,
       "version_minor": 0
      },
      "text/plain": [
       "Text(value='A terrible excuse to give your boss.', description='Prompt', layout=Layout(width='75%'))"
      ]
     },
     "metadata": {},
     "output_type": "display_data"
    },
    {
     "data": {
      "application/vnd.jupyter.widget-view+json": {
       "model_id": "0791374d8ea0404e81c25b97df55599e",
       "version_major": 2,
       "version_minor": 0
      },
      "text/plain": [
       "Text(value='What one thing would you change about your life?', description='Prompt', layout=Layout(width='75%'…"
      ]
     },
     "metadata": {},
     "output_type": "display_data"
    },
    {
     "data": {
      "application/vnd.jupyter.widget-view+json": {
       "model_id": "2d7a0c7f9b794d879e4eb0593bab0a0d",
       "version_major": 2,
       "version_minor": 0
      },
      "text/plain": [
       "Text(value='An outdoor activity.', description='Prompt', layout=Layout(width='75%'))"
      ]
     },
     "metadata": {},
     "output_type": "display_data"
    },
    {
     "data": {
      "application/vnd.jupyter.widget-view+json": {
       "model_id": "dc2fbbffd3bd415aacafb901783e2a20",
       "version_major": 2,
       "version_minor": 0
      },
      "text/plain": [
       "Text(value='Your favourite childhood toy.', description='Prompt', layout=Layout(width='75%'))"
      ]
     },
     "metadata": {},
     "output_type": "display_data"
    },
    {
     "data": {
      "application/vnd.jupyter.widget-view+json": {
       "model_id": "dfbe6c1127ba490085218ad7d0668894",
       "version_major": 2,
       "version_minor": 0
      },
      "text/plain": [
       "Text(value=\"Meanest thing you've ever done.\", description='Prompt', layout=Layout(width='75%'))"
      ]
     },
     "metadata": {},
     "output_type": "display_data"
    },
    {
     "data": {
      "application/vnd.jupyter.widget-view+json": {
       "model_id": "5183da9eb3db42daa2570fa1439e720c",
       "version_major": 2,
       "version_minor": 0
      },
      "text/plain": [
       "Text(value='What are you doing tomorrow?', description='Prompt', layout=Layout(width='75%'))"
      ]
     },
     "metadata": {},
     "output_type": "display_data"
    },
    {
     "data": {
      "application/vnd.jupyter.widget-view+json": {
       "model_id": "bf8960b636864e02bc6eb8fa5f7c5c16",
       "version_major": 2,
       "version_minor": 0
      },
      "text/plain": [
       "Text(value='An unlikely superhero.', description='Prompt', layout=Layout(width='75%'))"
      ]
     },
     "metadata": {},
     "output_type": "display_data"
    },
    {
     "data": {
      "application/vnd.jupyter.widget-view+json": {
       "model_id": "bd3ed5e1c30c49199e809a9231be2a5b",
       "version_major": 2,
       "version_minor": 0
      },
      "text/plain": [
       "Text(value='The next Douyin/Tiktok craze.', description='Prompt', layout=Layout(width='75%'))"
      ]
     },
     "metadata": {},
     "output_type": "display_data"
    },
    {
     "data": {
      "application/vnd.jupyter.widget-view+json": {
       "model_id": "a95999f3ef384a79912dd1aa8a1952b3",
       "version_major": 2,
       "version_minor": 0
      },
      "text/plain": [
       "Text(value=\"Something you'd be surprised to find on Taobao.\", description='Prompt', layout=Layout(width='75%')…"
      ]
     },
     "metadata": {},
     "output_type": "display_data"
    },
    {
     "data": {
      "application/vnd.jupyter.widget-view+json": {
       "model_id": "faac82fa2dee4a97a208bd3909c9b7a3",
       "version_major": 2,
       "version_minor": 0
      },
      "text/plain": [
       "Text(value='What superpower would you like?', description='Prompt', layout=Layout(width='75%'))"
      ]
     },
     "metadata": {},
     "output_type": "display_data"
    },
    {
     "data": {
      "application/vnd.jupyter.widget-view+json": {
       "model_id": "f730ddf011c0434f90aed43963b55134",
       "version_major": 2,
       "version_minor": 0
      },
      "text/plain": [
       "Text(value='What the hell is wrong with you?', description='Prompt', layout=Layout(width='75%'))"
      ]
     },
     "metadata": {},
     "output_type": "display_data"
    },
    {
     "data": {
      "application/vnd.jupyter.widget-view+json": {
       "model_id": "ead1b8621dca4275bd02745439fc2cbb",
       "version_major": 2,
       "version_minor": 0
      },
      "text/plain": [
       "Text(value='A piece of advice you heard from a loved one.', description='Prompt', layout=Layout(width='75%'))"
      ]
     },
     "metadata": {},
     "output_type": "display_data"
    },
    {
     "data": {
      "application/vnd.jupyter.widget-view+json": {
       "model_id": "c83f45ab9c864a69860fa91dae0b870b",
       "version_major": 2,
       "version_minor": 0
      },
      "text/plain": [
       "Text(value='An impossible task.', description='Prompt', layout=Layout(width='75%'))"
      ]
     },
     "metadata": {},
     "output_type": "display_data"
    },
    {
     "data": {
      "application/vnd.jupyter.widget-view+json": {
       "model_id": "1d9aca84782944bfbdde1045a3c3f46f",
       "version_major": 2,
       "version_minor": 0
      },
      "text/plain": [
       "Text(value=\"What's the next unlikely Olympic event?\", description='Prompt', layout=Layout(width='75%'))"
      ]
     },
     "metadata": {},
     "output_type": "display_data"
    },
    {
     "data": {
      "application/vnd.jupyter.widget-view+json": {
       "model_id": "e65d2631c28643ff8476c49ea11ef106",
       "version_major": 2,
       "version_minor": 0
      },
      "text/plain": [
       "Text(value='What technology will soon be obsolete?', description='Prompt', layout=Layout(width='75%'))"
      ]
     },
     "metadata": {},
     "output_type": "display_data"
    },
    {
     "data": {
      "application/vnd.jupyter.widget-view+json": {
       "model_id": "83a3df53bf904ea697c6eb937e3e9d21",
       "version_major": 2,
       "version_minor": 0
      },
      "text/plain": [
       "Button(button_style='info', description='save', icon='check', style=ButtonStyle())"
      ]
     },
     "metadata": {},
     "output_type": "display_data"
    }
   ],
   "source": [
    "prompts()"
   ]
  },
  {
   "cell_type": "markdown",
   "metadata": {},
   "source": [
    "# TODO:\n",
    "- add games\n",
    "- delete games"
   ]
  }
 ],
 "metadata": {
  "kernelspec": {
   "display_name": "Python 3.9.7 ('ai2')",
   "language": "python",
   "name": "python3"
  },
  "language_info": {
   "codemirror_mode": {
    "name": "ipython",
    "version": 3
   },
   "file_extension": ".py",
   "mimetype": "text/x-python",
   "name": "python",
   "nbconvert_exporter": "python",
   "pygments_lexer": "ipython3",
   "version": "3.9.7"
  },
  "orig_nbformat": 4,
  "vscode": {
   "interpreter": {
    "hash": "0eb39429e907200a5034f236d651f1736c0e7407bac40927aba41b28178be421"
   }
  }
 },
 "nbformat": 4,
 "nbformat_minor": 2
}
