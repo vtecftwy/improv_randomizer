{
 "cells": [
  {
   "cell_type": "code",
   "execution_count": 2,
   "metadata": {},
   "outputs": [
    {
     "name": "stdout",
     "output_type": "stream",
     "text": [
      "The autoreload extension is already loaded. To reload it, use:\n",
      "  %reload_ext autoreload\n"
     ]
    }
   ],
   "source": [
    "from pathlib import Path\n",
    "import logging\n",
    "import numpy as np\n",
    "import pandas as pd\n",
    "import os\n",
    "import random\n",
    "%load_ext autoreload\n",
    "%autoreload 2"
   ]
  },
  {
   "cell_type": "code",
   "execution_count": 3,
   "metadata": {},
   "outputs": [
    {
     "name": "stdout",
     "output_type": "stream",
     "text": [
      "changing cwd\n"
     ]
    }
   ],
   "source": [
    "if not (Path.cwd()/'gamesession.py').exists():  \n",
    "    print('changing cwd')  \n",
    "    os.chdir('..')\n",
    "    Path.cwd()\n",
    "\n",
    "from gamesession import GameSession, Game, Player"
   ]
  },
  {
   "cell_type": "code",
   "execution_count": 4,
   "metadata": {},
   "outputs": [
    {
     "name": "stdout",
     "output_type": "stream",
     "text": [
      "Entering `__init__`\n",
      "  Creating new GameSession object\n",
      "Entering `load_session_info`\n",
      "   Creating new Game object for TV Box\n",
      "   Creating new Game object for Double Reverse Alphabet\n",
      "   Creating new Game object for Sure Ding\n",
      "   Creating new Game object for No Laughing\n",
      "   Creating new Game object for More or Less\n",
      "   Creating new Game object for Stunt Doubles\n",
      "   Creating new Game object for Pillars\n",
      "   Creating new Game object for Do You Have a Receipt?\n",
      "   Creating new Game object for A Date with Me\n",
      "   Creating new Game object for Questions Only\n",
      "   Creating new Game object for Highlander\n",
      "   Creating new Game object for Genres\n",
      "   Creating new Game object for Headphones\n",
      "   Creating new Game object for Sit, Stand, Lie\n",
      "   Creating new Game object for Puppets\n",
      "   Creating new Game object for Story, Story, Die!\n",
      "   Creating new Game object for Everybody Dies\n",
      "   Creating new Game object for World's Worst\n",
      "   Creating new Game object for Forward Reverse\n",
      "   Creating new Game object for Mutant Debate\n",
      "   Creating new Player object for Chris\n",
      "   Creating new Player object for Etienne\n",
      "   Creating new Player object for Knick\n",
      "   Creating new Player object for Serena\n",
      "   Creating new Player object for Yirong\n",
      "   Game session data loaded\n",
      "Exiting  `load_session_info`\n",
      "Entering `create_game_sequence`\n",
      "Exiting  `create_game_sequence`\n",
      "   step: None, games played: None, curr: None, prev: None\n",
      "Exiting  `__init__`\n"
     ]
    }
   ],
   "source": [
    "session = GameSession()"
   ]
  },
  {
   "cell_type": "code",
   "execution_count": 5,
   "metadata": {},
   "outputs": [
    {
     "data": {
      "text/plain": [
       "'What are four of your favorite TV channels?'"
      ]
     },
     "execution_count": 5,
     "metadata": {},
     "output_type": "execute_result"
    }
   ],
   "source": [
    "session.games[0].prompt"
   ]
  },
  {
   "cell_type": "code",
   "execution_count": 6,
   "metadata": {},
   "outputs": [
    {
     "data": {
      "text/plain": [
       "'What is your dream job?'"
      ]
     },
     "execution_count": 6,
     "metadata": {},
     "output_type": "execute_result"
    }
   ],
   "source": [
    "random.choice(session.promptlist)"
   ]
  },
  {
   "cell_type": "code",
   "execution_count": 7,
   "metadata": {},
   "outputs": [
    {
     "name": "stdout",
     "output_type": "stream",
     "text": [
      "TV Box\n",
      "0\n",
      "Double Reverse Alphabet\n",
      "0\n",
      "Sure Ding\n",
      "0\n",
      "No Laughing\n",
      "0\n",
      "More or Less\n",
      "0\n",
      "Stunt Doubles\n",
      "0\n",
      "Pillars\n",
      "2\n",
      "Do You Have a Receipt?\n",
      "0\n",
      "A Date with Me\n",
      "0\n",
      "Questions Only\n",
      "0\n",
      "Highlander\n",
      "0\n",
      "Genres\n",
      "0\n",
      "Headphones\n",
      "0\n",
      "Sit, Stand, Lie\n",
      "0\n",
      "Puppets\n",
      "2\n",
      "Story, Story, Die!\n",
      "0\n",
      "Everybody Dies\n",
      "0\n",
      "World's Worst\n",
      "0\n",
      "Forward Reverse\n",
      "0\n",
      "Mutant Debate\n",
      "0\n"
     ]
    }
   ],
   "source": [
    "for game in session.games:\n",
    "    print(game.name)\n",
    "    print(game.nbr_audience)"
   ]
  },
  {
   "cell_type": "code",
   "execution_count": null,
   "metadata": {},
   "outputs": [],
   "source": []
  }
 ],
 "metadata": {
  "kernelspec": {
   "display_name": "Python 3.9.7 ('ai2')",
   "language": "python",
   "name": "python3"
  },
  "language_info": {
   "codemirror_mode": {
    "name": "ipython",
    "version": 3
   },
   "file_extension": ".py",
   "mimetype": "text/x-python",
   "name": "python",
   "nbconvert_exporter": "python",
   "pygments_lexer": "ipython3",
   "version": "3.9.7"
  },
  "orig_nbformat": 4,
  "vscode": {
   "interpreter": {
    "hash": "0eb39429e907200a5034f236d651f1736c0e7407bac40927aba41b28178be421"
   }
  }
 },
 "nbformat": 4,
 "nbformat_minor": 2
}
