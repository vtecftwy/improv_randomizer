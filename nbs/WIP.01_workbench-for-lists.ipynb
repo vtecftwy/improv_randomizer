{
 "cells": [
  {
   "cell_type": "markdown",
   "metadata": {},
   "source": [
    "# Workbench for game and player lists"
   ]
  },
  {
   "cell_type": "markdown",
   "metadata": {},
   "source": [
    "Game list as a txt file:"
   ]
  },
  {
   "cell_type": "markdown",
   "metadata": {},
   "source": [
    "|name | ? | Players | Prompt |\n",
    "|----|----|----|----|\n",
    "|TV Box| 0| 5| What are four of your favorite TV channels?|\n",
    "|Double Reverse Alphabet| 0| 3| A B C D E F G H I J K L M N O P Q R S T U V W X Y Z|\n",
    "|Sure Ding| 0| 4||\n",
    "|No Laughing| 0| 3| Something funny and something serious|\n",
    "|More or Less| 0| 4| An ordinary task you do everyday.|\n",
    "|Stunt Doubles| 0| 5| |\n",
    "|Pillars| 0| 4| Two audience volunteers.|\n",
    "|Do You Have a Receipt?| 0| 5| How many products can we return in 1.5 minutes?|\n",
    "|A Date with Me| 0| 1| A date with me is like <object/occupation>.|\n",
    "|Questions Only| 0| 3||\n",
    "|Highlander| 0| 5||\n",
    "|Genres| 0| 4| At least three story genres.|\n",
    "|Headphones| 0| 4||\n",
    "|Sit-Stand-Lie| 0| 4| Your favorite Olympic sport|\n",
    "|Puppets|0|5||\n",
    "|Story-Story-Die| 0| 1| The title of a book that's never been written|\n",
    "|Everybody Dies| 0| 4| 3 Locations|\n",
    "|World's Worst| 0| 1| An occupation| animal| or celebrity|\n",
    "|Forward-Reverse| 0| 4||\n",
    "|Mutant Debate| 0| 6| What is a dumb argument you've had recently?|"
   ]
  },
  {
   "cell_type": "markdown",
   "metadata": {},
   "source": [
    "Updated conventions:\n",
    "- `nbr_players`: positive `int` or `0` for all players\n",
    "- `nbr_audience`: `int`, default is `0`\n",
    "- `description`: `str`\n",
    "- `tips`: `str`\n",
    "- `prompt`: `str` for specific promt text or `None` to use random prompt (from list or AI later on)\n",
    "- `hosting`: `dict` `{'include': list of player names, 'exclude': list of player names}`"
   ]
  },
  {
   "cell_type": "code",
   "execution_count": 1,
   "metadata": {},
   "outputs": [
    {
     "data": {
      "text/plain": [
       "True"
      ]
     },
     "execution_count": 1,
     "metadata": {},
     "output_type": "execute_result"
    }
   ],
   "source": [
    "import json\n",
    "import pandas as pd\n",
    "from pathlib import Path\n",
    "from pprint import pprint\n",
    "\n",
    "p2games = Path('../games.json')\n",
    "p2games.exists()"
   ]
  },
  {
   "cell_type": "code",
   "execution_count": 4,
   "metadata": {},
   "outputs": [
    {
     "name": "stdout",
     "output_type": "stream",
     "text": [
      "{'description': '',\n",
      " 'exclude': [],\n",
      " 'include': [],\n",
      " 'name': 'TV Box',\n",
      " 'nbr_audience': 0,\n",
      " 'nbr_players': 4,\n",
      " 'prompt,': 'What are four of your favorite TV channels?',\n",
      " 'tips': ''}\n",
      "{'description': '',\n",
      " 'exclude': [],\n",
      " 'include': [],\n",
      " 'name': 'Double Reverse Alphabet',\n",
      " 'nbr_audience': 0,\n",
      " 'nbr_players': 2,\n",
      " 'prompt,': 'A B C D E F G H I J K L M N O P Q R S T U V W X Y Z',\n",
      " 'tips': ''}\n",
      "{'description': '',\n",
      " 'exclude': [],\n",
      " 'include': [],\n",
      " 'name': 'Sure Ding',\n",
      " 'nbr_audience': 0,\n",
      " 'nbr_players': 3,\n",
      " 'prompt,': None,\n",
      " 'tips': ''}\n",
      "{'description': '',\n",
      " 'exclude': [],\n",
      " 'include': [],\n",
      " 'name': 'No Laughing',\n",
      " 'nbr_audience': 0,\n",
      " 'nbr_players': 0,\n",
      " 'prompt,': 'Something funny and something serious',\n",
      " 'tips': ''}\n",
      "{'description': '',\n",
      " 'exclude': [],\n",
      " 'include': [],\n",
      " 'name': 'More or Less',\n",
      " 'nbr_audience': 0,\n",
      " 'nbr_players': 3,\n",
      " 'prompt,': 'An ordinary task you do everyday.',\n",
      " 'tips': ''}\n"
     ]
    }
   ],
   "source": [
    "with open(p2games) as fp:\n",
    "    games = json.load(fp)\n",
    "\n",
    "for i, g in games.items():\n",
    "    pprint(g)\n",
    "    if int(i) > 3: break"
   ]
  },
  {
   "cell_type": "code",
   "execution_count": 48,
   "metadata": {},
   "outputs": [],
   "source": [
    "for k, d in games.items():\n",
    "    games[k]['nbr_audience'] = 0"
   ]
  },
  {
   "cell_type": "code",
   "execution_count": 51,
   "metadata": {},
   "outputs": [
    {
     "data": {
      "text/plain": [
       "{'0': {'name': 'TV Box',\n",
       "  'nbr_players': 5,\n",
       "  'prompt,': 'What are four of your favorite TV channels?',\n",
       "  'include': [],\n",
       "  'exclude': [],\n",
       "  'description': '',\n",
       "  'tips': '',\n",
       "  'nbr_audience': 0},\n",
       " '1': {'name': 'Double Reverse Alphabet',\n",
       "  'nbr_players': 3,\n",
       "  'prompt,': 'A B C D E F G H I J K L M N O P Q R S T U V W X Y Z',\n",
       "  'include': [],\n",
       "  'exclude': [],\n",
       "  'description': '',\n",
       "  'tips': '',\n",
       "  'nbr_audience': 0},\n",
       " '2': {'name': 'Sure Ding',\n",
       "  'nbr_players': 4,\n",
       "  'prompt,': None,\n",
       "  'include': [],\n",
       "  'exclude': [],\n",
       "  'description': '',\n",
       "  'tips': '',\n",
       "  'nbr_audience': 0},\n",
       " '3': {'name': 'No Laughing',\n",
       "  'nbr_players': 3,\n",
       "  'prompt,': 'Something funny and something serious',\n",
       "  'include': [],\n",
       "  'exclude': [],\n",
       "  'description': '',\n",
       "  'tips': '',\n",
       "  'nbr_audience': 0},\n",
       " '4': {'name': 'More or Less',\n",
       "  'nbr_players': 4,\n",
       "  'prompt,': 'An ordinary task you do everyday.',\n",
       "  'include': [],\n",
       "  'exclude': [],\n",
       "  'description': '',\n",
       "  'tips': '',\n",
       "  'nbr_audience': 0},\n",
       " '5': {'name': 'Stunt Doubles',\n",
       "  'nbr_players': 5,\n",
       "  'prompt,': None,\n",
       "  'include': [],\n",
       "  'exclude': [],\n",
       "  'description': '',\n",
       "  'tips': '',\n",
       "  'nbr_audience': 0},\n",
       " '6': {'name': 'Pillars',\n",
       "  'nbr_players': 4,\n",
       "  'prompt,': 'Two audience volunteers.',\n",
       "  'include': [],\n",
       "  'exclude': [],\n",
       "  'description': '',\n",
       "  'tips': '',\n",
       "  'nbr_audience': 0},\n",
       " '7': {'name': 'Do You Have a Receipt?',\n",
       "  'nbr_players': 5,\n",
       "  'prompt,': 'How many products can we return in 1.5 minutes?',\n",
       "  'include': [],\n",
       "  'exclude': [],\n",
       "  'description': '',\n",
       "  'tips': '',\n",
       "  'nbr_audience': 0},\n",
       " '8': {'name': 'A Date with Me',\n",
       "  'nbr_players': 1,\n",
       "  'prompt,': 'A date with me is like <object/occupation>.',\n",
       "  'include': [],\n",
       "  'exclude': [],\n",
       "  'description': '',\n",
       "  'tips': '',\n",
       "  'nbr_audience': 0},\n",
       " '9': {'name': 'Questions Only',\n",
       "  'nbr_players': 3,\n",
       "  'prompt,': None,\n",
       "  'include': [],\n",
       "  'exclude': [],\n",
       "  'description': '',\n",
       "  'tips': '',\n",
       "  'nbr_audience': 0},\n",
       " '10': {'name': 'Highlander',\n",
       "  'nbr_players': 5,\n",
       "  'prompt,': None,\n",
       "  'include': [],\n",
       "  'exclude': [],\n",
       "  'description': '',\n",
       "  'tips': '',\n",
       "  'nbr_audience': 0},\n",
       " '11': {'name': 'Genres',\n",
       "  'nbr_players': 4,\n",
       "  'prompt,': 'At least three story genres.',\n",
       "  'include': [],\n",
       "  'exclude': [],\n",
       "  'description': '',\n",
       "  'tips': '',\n",
       "  'nbr_audience': 0},\n",
       " '12': {'name': 'Headphones',\n",
       "  'nbr_players': 4,\n",
       "  'prompt,': None,\n",
       "  'include': [],\n",
       "  'exclude': [],\n",
       "  'description': '',\n",
       "  'tips': '',\n",
       "  'nbr_audience': 0},\n",
       " '13': {'name': 'Sit-Stand-Lie',\n",
       "  'nbr_players': 4,\n",
       "  'prompt,': 'Your favorite Olympic sport',\n",
       "  'include': [],\n",
       "  'exclude': [],\n",
       "  'description': '',\n",
       "  'tips': '',\n",
       "  'nbr_audience': 0},\n",
       " '14': {'name': 'Puppets',\n",
       "  'nbr_players': 5,\n",
       "  'prompt,': None,\n",
       "  'include': [],\n",
       "  'exclude': [],\n",
       "  'description': '',\n",
       "  'tips': '',\n",
       "  'nbr_audience': 0},\n",
       " '15': {'name': 'Story-Story-Die',\n",
       "  'nbr_players': 1,\n",
       "  'prompt,': \"The title of a book that's never been written\",\n",
       "  'include': ['Nick'],\n",
       "  'exclude': ['All Others'],\n",
       "  'description': '',\n",
       "  'tips': '',\n",
       "  'nbr_audience': 0},\n",
       " '16': {'name': 'Everybody Dies',\n",
       "  'nbr_players': 4,\n",
       "  'prompt,': '3 Locations',\n",
       "  'include': [],\n",
       "  'exclude': [],\n",
       "  'description': '',\n",
       "  'tips': '',\n",
       "  'nbr_audience': 0},\n",
       " '17': {'name': \"World's Worst\",\n",
       "  'nbr_players': 1,\n",
       "  'prompt,': 'An occupation, animal, or celebrity',\n",
       "  'include': [],\n",
       "  'exclude': [],\n",
       "  'description': '',\n",
       "  'tips': '',\n",
       "  'nbr_audience': 0},\n",
       " '18': {'name': 'Forward-Reverse',\n",
       "  'nbr_players': 4,\n",
       "  'prompt,': None,\n",
       "  'include': [],\n",
       "  'exclude': [],\n",
       "  'description': '',\n",
       "  'tips': '',\n",
       "  'nbr_audience': 0},\n",
       " '19': {'name': 'Mutant Debate',\n",
       "  'nbr_players': 6,\n",
       "  'prompt,': \"What is a dumb argument you've had recently?\",\n",
       "  'include': [],\n",
       "  'exclude': [],\n",
       "  'description': '',\n",
       "  'tips': '',\n",
       "  'nbr_audience': 0}}"
      ]
     },
     "execution_count": 51,
     "metadata": {},
     "output_type": "execute_result"
    }
   ],
   "source": [
    "games"
   ]
  },
  {
   "cell_type": "code",
   "execution_count": 50,
   "metadata": {},
   "outputs": [],
   "source": [
    "with open(p2games, 'w') as fp:\n",
    "    json.dump(games, fp, indent=4)"
   ]
  }
 ],
 "metadata": {
  "kernelspec": {
   "display_name": "Python 3.9.7 ('ai2')",
   "language": "python",
   "name": "python3"
  },
  "language_info": {
   "codemirror_mode": {
    "name": "ipython",
    "version": 3
   },
   "file_extension": ".py",
   "mimetype": "text/x-python",
   "name": "python",
   "nbconvert_exporter": "python",
   "pygments_lexer": "ipython3",
   "version": "3.9.7"
  },
  "orig_nbformat": 4,
  "vscode": {
   "interpreter": {
    "hash": "0eb39429e907200a5034f236d651f1736c0e7407bac40927aba41b28178be421"
   }
  }
 },
 "nbformat": 4,
 "nbformat_minor": 2
}
