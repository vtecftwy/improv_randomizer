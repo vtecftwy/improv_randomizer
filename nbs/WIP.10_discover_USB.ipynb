{
 "cells": [
  {
   "cell_type": "markdown",
   "metadata": {},
   "source": [
    "# Experiment with PyUSB Package"
   ]
  },
  {
   "cell_type": "code",
   "execution_count": 2,
   "metadata": {},
   "outputs": [],
   "source": [
    "import os\n",
    "import usb\n",
    "from usb.backend import libusb1"
   ]
  },
  {
   "cell_type": "code",
   "execution_count": 4,
   "metadata": {},
   "outputs": [
    {
     "name": "stdout",
     "output_type": "stream",
     "text": [
      "<class 'NoneType'>\n"
     ]
    },
    {
     "ename": "NoBackendError",
     "evalue": "No backend available",
     "output_type": "error",
     "traceback": [
      "\u001b[1;31m---------------------------------------------------------------------------\u001b[0m",
      "\u001b[1;31mNoBackendError\u001b[0m                            Traceback (most recent call last)",
      "Cell \u001b[1;32mIn[4], line 5\u001b[0m\n\u001b[0;32m      2\u001b[0m back \u001b[38;5;241m=\u001b[39m libusb1\u001b[38;5;241m.\u001b[39mget_backend()\n\u001b[0;32m      3\u001b[0m \u001b[38;5;28mprint\u001b[39m(\u001b[38;5;28mtype\u001b[39m(back))  \u001b[38;5;66;03m# return: <class 'usb.backend.libusb1._LibUSB'>\u001b[39;00m\n\u001b[1;32m----> 5\u001b[0m dev \u001b[38;5;241m=\u001b[39m \u001b[43musb\u001b[49m\u001b[38;5;241;43m.\u001b[39;49m\u001b[43mcore\u001b[49m\u001b[38;5;241;43m.\u001b[39;49m\u001b[43mfind\u001b[49m\u001b[43m(\u001b[49m\u001b[43mbackend\u001b[49m\u001b[38;5;241;43m=\u001b[39;49m\u001b[43mback\u001b[49m\u001b[43m)\u001b[49m\n\u001b[0;32m      6\u001b[0m \u001b[38;5;28mprint\u001b[39m(\u001b[38;5;28mtype\u001b[39m(dev))  \u001b[38;5;66;03m# return: <class 'usb.core.Device'>\u001b[39;00m\n\u001b[0;32m      8\u001b[0m \u001b[38;5;66;03m# flag 'find_all=True' would return generator\u001b[39;00m\n\u001b[0;32m      9\u001b[0m \u001b[38;5;66;03m# reprecent connected usb devices\u001b[39;00m\n",
      "File \u001b[1;32mc:\\Users\\etien\\miniconda3\\envs\\ai2\\lib\\site-packages\\usb\\core.py:1309\u001b[0m, in \u001b[0;36mfind\u001b[1;34m(find_all, backend, custom_match, **args)\u001b[0m\n\u001b[0;32m   1307\u001b[0m             \u001b[38;5;28;01mbreak\u001b[39;00m\n\u001b[0;32m   1308\u001b[0m     \u001b[38;5;28;01melse\u001b[39;00m:\n\u001b[1;32m-> 1309\u001b[0m         \u001b[38;5;28;01mraise\u001b[39;00m NoBackendError(\u001b[38;5;124m'\u001b[39m\u001b[38;5;124mNo backend available\u001b[39m\u001b[38;5;124m'\u001b[39m)\n\u001b[0;32m   1311\u001b[0m \u001b[38;5;28;01mif\u001b[39;00m find_all:\n\u001b[0;32m   1312\u001b[0m     \u001b[38;5;28;01mreturn\u001b[39;00m device_iter(\u001b[38;5;241m*\u001b[39m\u001b[38;5;241m*\u001b[39margs)\n",
      "\u001b[1;31mNoBackendError\u001b[0m: No backend available"
     ]
    }
   ],
   "source": [
    "# it should find libusb-1.0.dll at our path variable\n",
    "back = libusb1.get_backend()\n",
    "print(type(back))  # return: <class 'usb.backend.libusb1._LibUSB'>\n",
    "\n",
    "dev = usb.core.find(backend=back)\n",
    "print(type(dev))  # return: <class 'usb.core.Device'>\n",
    "\n",
    "# flag 'find_all=True' would return generator\n",
    "# reprecent connected usb devices\n",
    "\n",
    "dev_list = usb.core.find(find_all=True, backend=back)\n",
    "print(type(dev_list)) # return: <class 'generator'>"
   ]
  },
  {
   "cell_type": "code",
   "execution_count": 2,
   "metadata": {},
   "outputs": [
    {
     "ename": "NoBackendError",
     "evalue": "No backend available",
     "output_type": "error",
     "traceback": [
      "\u001b[1;31m---------------------------------------------------------------------------\u001b[0m",
      "\u001b[1;31mNoBackendError\u001b[0m                            Traceback (most recent call last)",
      "Cell \u001b[1;32mIn[2], line 1\u001b[0m\n\u001b[1;32m----> 1\u001b[0m devs \u001b[38;5;241m=\u001b[39m \u001b[43musb\u001b[49m\u001b[38;5;241;43m.\u001b[39;49m\u001b[43mcore\u001b[49m\u001b[38;5;241;43m.\u001b[39;49m\u001b[43mfind\u001b[49m\u001b[43m(\u001b[49m\u001b[43mfind_all\u001b[49m\u001b[38;5;241;43m=\u001b[39;49m\u001b[38;5;28;43;01mTrue\u001b[39;49;00m\u001b[43m)\u001b[49m\n",
      "File \u001b[1;32mc:\\Users\\etien\\miniconda3\\envs\\ai2\\lib\\site-packages\\usb\\core.py:1309\u001b[0m, in \u001b[0;36mfind\u001b[1;34m(find_all, backend, custom_match, **args)\u001b[0m\n\u001b[0;32m   1307\u001b[0m             \u001b[38;5;28;01mbreak\u001b[39;00m\n\u001b[0;32m   1308\u001b[0m     \u001b[38;5;28;01melse\u001b[39;00m:\n\u001b[1;32m-> 1309\u001b[0m         \u001b[38;5;28;01mraise\u001b[39;00m NoBackendError(\u001b[38;5;124m'\u001b[39m\u001b[38;5;124mNo backend available\u001b[39m\u001b[38;5;124m'\u001b[39m)\n\u001b[0;32m   1311\u001b[0m \u001b[38;5;28;01mif\u001b[39;00m find_all:\n\u001b[0;32m   1312\u001b[0m     \u001b[38;5;28;01mreturn\u001b[39;00m device_iter(\u001b[38;5;241m*\u001b[39m\u001b[38;5;241m*\u001b[39margs)\n",
      "\u001b[1;31mNoBackendError\u001b[0m: No backend available"
     ]
    }
   ],
   "source": [
    "devs = usb.core.find(find_all=True)"
   ]
  }
 ],
 "metadata": {
  "kernelspec": {
   "display_name": "ai2",
   "language": "python",
   "name": "python3"
  },
  "language_info": {
   "codemirror_mode": {
    "name": "ipython",
    "version": 3
   },
   "file_extension": ".py",
   "mimetype": "text/x-python",
   "name": "python",
   "nbconvert_exporter": "python",
   "pygments_lexer": "ipython3",
   "version": "3.9.18"
  }
 },
 "nbformat": 4,
 "nbformat_minor": 2
}
