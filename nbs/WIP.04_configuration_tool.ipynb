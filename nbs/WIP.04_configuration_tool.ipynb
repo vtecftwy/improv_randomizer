{
 "cells": [
  {
   "cell_type": "markdown",
   "metadata": {},
   "source": [
    "# Tool to update cast, games and other configuration"
   ]
  },
  {
   "cell_type": "code",
   "execution_count": 62,
   "metadata": {},
   "outputs": [
    {
     "name": "stdout",
     "output_type": "stream",
     "text": [
      "The autoreload extension is already loaded. To reload it, use:\n",
      "  %reload_ext autoreload\n"
     ]
    }
   ],
   "source": [
    "from IPython.core.display import clear_output\n",
    "from IPython.display import display, display_html\n",
    "from ipywidgets import (Text, Textarea, Button, Dropdown, HBox, VBox, IntSlider, Layout, AppLayout, GridspecLayout, Output, HTML, \n",
    "                        interactive, interactive_output, fixed, SelectMultiple)\n",
    "\n",
    "from pathlib import Path\n",
    "import json\n",
    "import os\n",
    "%load_ext autoreload\n",
    "%autoreload 2"
   ]
  },
  {
   "cell_type": "code",
   "execution_count": 63,
   "metadata": {},
   "outputs": [],
   "source": [
    "if not (Path.cwd()/'gamesession.py').exists():  \n",
    "    print(f\"Changing cwd from {Path().absolute().name} to {Path().cwd().parent.name}\")  \n",
    "    os.chdir('..')\n",
    "\n",
    "ROOT = Path().resolve()\n",
    "p2games = ROOT/ 'games.json'\n",
    "assert p2games.is_file()\n",
    "p2cast = ROOT/ 'cast.txt'\n",
    "assert p2cast.is_file()\n",
    "p2prompts = ROOT/ 'prompts.txt'\n",
    "assert p2prompts.is_file()"
   ]
  },
  {
   "cell_type": "code",
   "execution_count": 64,
   "metadata": {},
   "outputs": [],
   "source": [
    "with open(p2games, 'r') as fp:\n",
    "    games = json.load(fp)\n",
    "\n",
    "with open(p2cast, 'r') as fp:\n",
    "    lines = fp.readlines()\n",
    "    cast_names = [line.removesuffix('\\n').strip() for line in lines]\n",
    "\n",
    "with open(p2prompts, 'r') as fp:\n",
    "    lines = fp.readlines()\n",
    "    prompts = [line.removesuffix('\\n').strip() for line in lines]"
   ]
  },
  {
   "cell_type": "code",
   "execution_count": null,
   "metadata": {},
   "outputs": [],
   "source": []
  },
  {
   "cell_type": "markdown",
   "metadata": {},
   "source": [
    "## Update Name of Cast Members"
   ]
  },
  {
   "cell_type": "code",
   "execution_count": 65,
   "metadata": {},
   "outputs": [
    {
     "data": {
      "application/vnd.jupyter.widget-view+json": {
       "model_id": "4e4d5a1378d04ba8b7d834fb561e33d3",
       "version_major": 2,
       "version_minor": 0
      },
      "text/plain": [
       "Text(value='Chris, Etienne, Knick, Serena, Yirong', description='Cast', layout=Layout(width='75%'))"
      ]
     },
     "metadata": {},
     "output_type": "display_data"
    }
   ],
   "source": [
    "from utils import WidgetCast\n",
    "c = WidgetCast()\n",
    "c()"
   ]
  },
  {
   "cell_type": "code",
   "execution_count": 66,
   "metadata": {},
   "outputs": [],
   "source": [
    "# c.update()"
   ]
  },
  {
   "cell_type": "code",
   "execution_count": 67,
   "metadata": {},
   "outputs": [
    {
     "data": {
      "application/vnd.jupyter.widget-view+json": {
       "model_id": "8f31bb6ce5e24c0899ab942300215461",
       "version_major": 2,
       "version_minor": 0
      },
      "text/plain": [
       "Textarea(value=\"A location that would fit on this stage.\\nNon-romantic relationship.\\nWorst location for a fir…"
      ]
     },
     "metadata": {},
     "output_type": "display_data"
    }
   ],
   "source": [
    "from utils import WidgetPrompts\n",
    "p = WidgetPrompts()\n",
    "p()"
   ]
  },
  {
   "cell_type": "code",
   "execution_count": 68,
   "metadata": {},
   "outputs": [],
   "source": [
    "# p.update()"
   ]
  },
  {
   "cell_type": "code",
   "execution_count": 69,
   "metadata": {},
   "outputs": [
    {
     "data": {
      "text/plain": [
       "['Chris', 'Etienne', 'Knick', 'Serena', 'Yirong']"
      ]
     },
     "execution_count": 69,
     "metadata": {},
     "output_type": "execute_result"
    }
   ],
   "source": [
    "cast_names = c.value.split(', ')\n",
    "cast_names"
   ]
  },
  {
   "cell_type": "code",
   "execution_count": null,
   "metadata": {},
   "outputs": [],
   "source": []
  },
  {
   "cell_type": "code",
   "execution_count": 92,
   "metadata": {},
   "outputs": [],
   "source": [
    "def create_text(description, value, width='80%'):\n",
    "    return Text(value=value, description=description, layout=Layout(width=width))\n",
    "\n",
    "def create_multiple(options, value=None, description='', width='80%'):\n",
    "    if value is None: value = options[0:1]\n",
    "    return SelectMultiple(\n",
    "        options=options,\n",
    "        value=value,\n",
    "        #rows=10,\n",
    "        description=description,\n",
    "        disabled=False,\n",
    "        layout=Layout(width='90%')\n",
    "    )"
   ]
  },
  {
   "cell_type": "code",
   "execution_count": 101,
   "metadata": {},
   "outputs": [],
   "source": [
    "class WidgetGames:\n",
    "    def __init__(self) -> None:\n",
    "        self.names = [g['name'] for g in games.values()]\n",
    "        self.nbr_players = [g['nbr_players'] for g in games.values()]\n",
    "        self.nbr_audience = [g['nbr_players'] for g in games.values()]\n",
    "        self.prompt = [g['prompt'] for g in games.values()]\n",
    "        self.exclude = [g['exclude'] for g in games.values()]\n",
    "        self.host_include = [g['host_include'] for g in games.values()]\n",
    "        self.host_exclude = [g['host_exclude'] for g in games.values()]\n",
    "        self.ngames = len(self.names)\n",
    "\n",
    "        options = ['None'] + cast_names\n",
    "        self.w_exclude = []\n",
    "        self.w_host_include = []\n",
    "        self.w_host_exclude = []\n",
    "        for gexcl, hincl, hexcl in zip(self.exclude, self.host_include, self.host_exclude):\n",
    "            self.w_exclude.append(create_multiple(options=options, value=gexcl if gexcl else ['None']))\n",
    "            self.w_host_include.append(create_multiple(options=options, value=hincl if hincl else ['None']))\n",
    "            self.w_host_exclude.append(create_multiple(options=options, value=hexcl if hexcl else ['None']))\n",
    "\n",
    "    def display(self):\n",
    "        grid = GridspecLayout(self.ngames+1, 4)\n",
    "        grid[0,0] = create_text(description='', value='Game name')\n",
    "        grid[0,1] = create_text(description='', value='Game Exclude')\n",
    "        grid[0,2] = create_text(description='', value='Host Include')\n",
    "        grid[0,3] = create_text(description='', value='Host Exclude')\n",
    "\n",
    "        for i in range(0, self.ngames):\n",
    "            grid[i+1, 0] = create_text(description='', value=f'{self.names[i]}')\n",
    "            grid[i+1, 1] = self.w_exclude[i]\n",
    "            grid[i+1, 2] = self.w_host_include[i]\n",
    "            grid[i+1, 3] = self.w_host_exclude[i]\n",
    "\n",
    "        display(grid)\n",
    "\n",
    "    def __call__(self):\n",
    "        self.display()"
   ]
  },
  {
   "cell_type": "code",
   "execution_count": 102,
   "metadata": {},
   "outputs": [
    {
     "data": {
      "application/vnd.jupyter.widget-view+json": {
       "model_id": "473aa2356dfc459499b9124bc861161d",
       "version_major": 2,
       "version_minor": 0
      },
      "text/plain": [
       "GridspecLayout(children=(Text(value='Game name', layout=Layout(grid_area='widget001', width='80%')), Text(valu…"
      ]
     },
     "metadata": {},
     "output_type": "display_data"
    }
   ],
   "source": [
    "w = WidgetGames()\n",
    "w()"
   ]
  },
  {
   "cell_type": "code",
   "execution_count": null,
   "metadata": {},
   "outputs": [],
   "source": []
  },
  {
   "cell_type": "code",
   "execution_count": null,
   "metadata": {},
   "outputs": [],
   "source": []
  },
  {
   "cell_type": "code",
   "execution_count": null,
   "metadata": {},
   "outputs": [],
   "source": []
  },
  {
   "cell_type": "code",
   "execution_count": null,
   "metadata": {},
   "outputs": [],
   "source": []
  },
  {
   "cell_type": "code",
   "execution_count": null,
   "metadata": {},
   "outputs": [],
   "source": []
  },
  {
   "cell_type": "markdown",
   "metadata": {},
   "source": [
    "# Sandbox for widgets"
   ]
  },
  {
   "cell_type": "code",
   "execution_count": 17,
   "metadata": {},
   "outputs": [
    {
     "data": {
      "application/vnd.jupyter.widget-view+json": {
       "model_id": "d06dd511f7304dae8e64d14e7395880e",
       "version_major": 2,
       "version_minor": 0
      },
      "text/plain": [
       "IntSlider(value=5, description='Slider:', max=10)"
      ]
     },
     "metadata": {},
     "output_type": "display_data"
    }
   ],
   "source": [
    "from IPython.display import display\n",
    "\n",
    "w = IntSlider(value=5, min=0, max=10, description='Slider:')\n",
    "display(w)"
   ]
  },
  {
   "cell_type": "code",
   "execution_count": 20,
   "metadata": {},
   "outputs": [
    {
     "data": {
      "text/plain": [
       "5"
      ]
     },
     "execution_count": 20,
     "metadata": {},
     "output_type": "execute_result"
    }
   ],
   "source": [
    "w.value"
   ]
  },
  {
   "cell_type": "code",
   "execution_count": 22,
   "metadata": {},
   "outputs": [
    {
     "data": {
      "text/plain": [
       "['continuous_update',\n",
       " 'description',\n",
       " 'description_tooltip',\n",
       " 'disabled',\n",
       " 'layout',\n",
       " 'max',\n",
       " 'min',\n",
       " 'orientation',\n",
       " 'readout',\n",
       " 'readout_format',\n",
       " 'step',\n",
       " 'style',\n",
       " 'value']"
      ]
     },
     "execution_count": 22,
     "metadata": {},
     "output_type": "execute_result"
    }
   ],
   "source": [
    "[k for k in w.keys if not k.startswith('_')]"
   ]
  },
  {
   "cell_type": "code",
   "execution_count": 24,
   "metadata": {},
   "outputs": [],
   "source": [
    "w.close()"
   ]
  },
  {
   "cell_type": "code",
   "execution_count": 25,
   "metadata": {},
   "outputs": [
    {
     "data": {
      "application/vnd.jupyter.widget-view+json": {
       "model_id": "a995a69bbeb3426fb1fde57802598882",
       "version_major": 2,
       "version_minor": 0
      },
      "text/plain": [
       "Text(value='')"
      ]
     },
     "metadata": {},
     "output_type": "display_data"
    }
   ],
   "source": [
    "w = Text()\n",
    "display(w)"
   ]
  },
  {
   "cell_type": "code",
   "execution_count": 27,
   "metadata": {},
   "outputs": [
    {
     "data": {
      "text/plain": [
       "'this is the text, yes'"
      ]
     },
     "execution_count": 27,
     "metadata": {},
     "output_type": "execute_result"
    }
   ],
   "source": [
    "w.value"
   ]
  },
  {
   "cell_type": "code",
   "execution_count": 34,
   "metadata": {},
   "outputs": [
    {
     "data": {
      "application/vnd.jupyter.widget-view+json": {
       "model_id": "9e099369116f44fcbbedd1f110e4d34c",
       "version_major": 2,
       "version_minor": 0
      },
      "text/plain": [
       "Text(value='Chris, Etienne, Knick, Serena, Yirong')"
      ]
     },
     "metadata": {},
     "output_type": "display_data"
    }
   ],
   "source": [
    "w = Text(value=', '.join(cast_names))\n",
    "display(w)"
   ]
  },
  {
   "cell_type": "code",
   "execution_count": 3,
   "metadata": {},
   "outputs": [
    {
     "data": {
      "application/vnd.jupyter.widget-view+json": {
       "model_id": "16fedbde36914c9fb1e0a07fd14c48cb",
       "version_major": 2,
       "version_minor": 0
      },
      "text/plain": [
       "SelectMultiple(description='Fruits', index=(1,), options=('Apples', 'Oranges', 'Pears'), value=('Oranges',))"
      ]
     },
     "metadata": {},
     "output_type": "display_data"
    }
   ],
   "source": [
    "w = SelectMultiple(\n",
    "    options=['Apples', 'Oranges', 'Pears'],\n",
    "    value=['Oranges'],\n",
    "    #rows=10,\n",
    "    description='Fruits',\n",
    "    disabled=False\n",
    ")\n",
    "\n",
    "w"
   ]
  },
  {
   "cell_type": "code",
   "execution_count": null,
   "metadata": {},
   "outputs": [],
   "source": []
  },
  {
   "cell_type": "code",
   "execution_count": 19,
   "metadata": {},
   "outputs": [],
   "source": [
    "def create_text(description, value, width='80%'):\n",
    "    return Text(value=value, description=description, layout=Layout(width=width))\n",
    "\n",
    "def create_multiple(description, options, width='80%'):\n",
    "    return SelectMultiple(\n",
    "        options=options,\n",
    "        value=options[0:1],\n",
    "        #rows=10,\n",
    "        description=description,\n",
    "        disabled=False,\n",
    "        layout=Layout(width='90%')\n",
    "    )"
   ]
  },
  {
   "cell_type": "code",
   "execution_count": 26,
   "metadata": {},
   "outputs": [
    {
     "data": {
      "application/vnd.jupyter.widget-view+json": {
       "model_id": "b22d2df0951c451cadcb9e54718c3857",
       "version_major": 2,
       "version_minor": 0
      },
      "text/plain": [
       "GridspecLayout(children=(Text(value='Game name', layout=Layout(grid_area='widget001', width='80%')), Text(valu…"
      ]
     },
     "metadata": {},
     "output_type": "display_data"
    }
   ],
   "source": [
    "grid = GridspecLayout(5, 4)\n",
    "\n",
    "grid[0,0] = create_text(description='', value='Game name')\n",
    "grid[0,1] = create_text(description='', value='Game Exclude')\n",
    "grid[0,2] = create_text(description='', value='Host Include')\n",
    "grid[0,3] = create_text(description='', value='Host Exclude')\n",
    "for i in [1,2,3,4]:\n",
    "        grid[i, 0] = create_text(description='', value=f'Game {i}')\n",
    "grid[1,0] = create_text(description='', value='Game')\n",
    "options = ['None', 'Apples', 'Oranges', 'Pears']\n",
    "for i in [1,2,3,4]:\n",
    "    for j in [1, 2, 3]:\n",
    "        grid[i, j] = create_multiple(\n",
    "            options=options,\n",
    "            description=f'')\n",
    "grid"
   ]
  },
  {
   "cell_type": "code",
   "execution_count": null,
   "metadata": {},
   "outputs": [],
   "source": [
    "grid = GridspecLayout(4, 3)\n",
    "\n",
    "for i in range(4):\n",
    "    for j in range(3):\n",
    "        grid[i, j] = create_multiple(value=f'Cell {i} - {j}', description='')\n",
    "grid"
   ]
  },
  {
   "cell_type": "code",
   "execution_count": 6,
   "metadata": {},
   "outputs": [
    {
     "data": {
      "application/vnd.jupyter.widget-view+json": {
       "model_id": "74d39ea46c0349078f5767f5bab02762",
       "version_major": 2,
       "version_minor": 0
      },
      "text/plain": [
       "GridspecLayout(children=(Text(value='success', description='One', layout=Layout(grid_area='widget001', width='…"
      ]
     },
     "metadata": {},
     "output_type": "display_data"
    }
   ],
   "source": [
    "grid = GridspecLayout(4, 3, height='300px')\n",
    "grid[:3, 1:] = create_text('One', 'success')\n",
    "grid[:, 0] = create_text('Two', 'info')\n",
    "grid[3, 1] = create_text('Three', 'warning')\n",
    "grid[3, 2] = create_text('Four', 'danger')\n",
    "grid"
   ]
  },
  {
   "cell_type": "code",
   "execution_count": null,
   "metadata": {},
   "outputs": [],
   "source": []
  },
  {
   "cell_type": "code",
   "execution_count": null,
   "metadata": {},
   "outputs": [],
   "source": []
  }
 ],
 "metadata": {
  "kernelspec": {
   "display_name": "Python 3.9.7 ('ai2')",
   "language": "python",
   "name": "python3"
  },
  "language_info": {
   "codemirror_mode": {
    "name": "ipython",
    "version": 3
   },
   "file_extension": ".py",
   "mimetype": "text/x-python",
   "name": "python",
   "nbconvert_exporter": "python",
   "pygments_lexer": "ipython3",
   "version": "3.9.7"
  },
  "orig_nbformat": 4,
  "vscode": {
   "interpreter": {
    "hash": "0eb39429e907200a5034f236d651f1736c0e7407bac40927aba41b28178be421"
   }
  }
 },
 "nbformat": 4,
 "nbformat_minor": 2
}
